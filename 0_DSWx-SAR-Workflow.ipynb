{
 "cells": [
  {
   "cell_type": "markdown",
   "id": "a99262e7-6309-4b66-9783-fda50ceaa892",
   "metadata": {},
   "source": [
    "The purpose of this notebook is to:\n",
    "\n",
    "1. Localize all the necessary data to run DSWx-SAR\n",
    "2. Create a `yaml` file (proverbially called a RunConfig) for DSWx-SAR\n",
    "3. Run DSWx-SAR\n",
    "\n",
    "Most of the code is focused on 1. There are some small todos:\n",
    "\n",
    "+ Provide an option to serialize data (since re-localizing data takes time and all we need is path)\n",
    "+ Possibly replace SLC_ID look up in HySDS PST DB with a look up in a table so users don't have to be on PST."
   ]
  },
  {
   "cell_type": "code",
   "execution_count": 1,
   "id": "27145d1a-3179-4e53-a245-0f1692c4e1d2",
   "metadata": {},
   "outputs": [],
   "source": [
    "%load_ext autoreload\n",
    "%autoreload 2"
   ]
  },
  {
   "cell_type": "code",
   "execution_count": 28,
   "id": "634938b0-3dc5-4876-a1ee-055fd25239bc",
   "metadata": {},
   "outputs": [],
   "source": [
    "import asf_search as asf\n",
    "import geopandas as gpd\n",
    "import pandas as pd\n",
    "import rasterio\n",
    "from shapely.geometry import shape\n",
    "from rasterio.crs import CRS\n",
    "from pathlib import Path\n",
    "from dem_stitcher import stitch_dem\n",
    "from hand import compute_hand\n",
    "from tile_stitcher import get_raster_from_tiles\n",
    "from es_db import get_search_client, get_rtc_urls, download_rtc_products\n",
    "from dataclasses import dataclass\n",
    "import yaml\n",
    "from dswx_sar.dswx_runconfig import RunConfig\n",
    "import requests"
   ]
  },
  {
   "cell_type": "code",
   "execution_count": 3,
   "id": "55c28069-cdbc-4040-a2a7-ff80a8b7acdb",
   "metadata": {},
   "outputs": [],
   "source": [
    "slc_id = 'S1B_IW_SLC__1SDV_20211212T002818_20211212T002836_029985_03946A_6D2A'"
   ]
  },
  {
   "cell_type": "markdown",
   "id": "4854fc8d-20ff-420b-9567-cd8052d7001b",
   "metadata": {},
   "source": [
    "# Parameters"
   ]
  },
  {
   "cell_type": "code",
   "execution_count": 4,
   "id": "470f0a25-8a05-4464-b822-4d09e1b2df9f",
   "metadata": {},
   "outputs": [],
   "source": [
    "SLC_ID = 'S1B_IW_SLC__1SDV_20211212T002818_20211212T002836_029985_03946A_6D2A'"
   ]
  },
  {
   "cell_type": "markdown",
   "id": "6d6b1154-70fa-4a63-be01-b2eba2f3723c",
   "metadata": {},
   "source": [
    "# Out Directory"
   ]
  },
  {
   "cell_type": "code",
   "execution_count": 5,
   "id": "a09960f0-0928-4b32-8fda-fd505221fc59",
   "metadata": {},
   "outputs": [],
   "source": [
    "out_directory = Path('out') / SLC_ID\n",
    "out_directory.mkdir(exist_ok=True, parents=True)"
   ]
  },
  {
   "cell_type": "markdown",
   "id": "e474f3d0-9aab-4dee-a172-73470ba8dbb7",
   "metadata": {},
   "source": [
    "## Get SLC Metadata"
   ]
  },
  {
   "cell_type": "code",
   "execution_count": 6,
   "id": "c23e5fef-3087-4a82-96df-151893ffbd20",
   "metadata": {},
   "outputs": [
    {
     "data": {
      "text/html": [
       "<div>\n",
       "<style scoped>\n",
       "    .dataframe tbody tr th:only-of-type {\n",
       "        vertical-align: middle;\n",
       "    }\n",
       "\n",
       "    .dataframe tbody tr th {\n",
       "        vertical-align: top;\n",
       "    }\n",
       "\n",
       "    .dataframe thead th {\n",
       "        text-align: right;\n",
       "    }\n",
       "</style>\n",
       "<table border=\"1\" class=\"dataframe\">\n",
       "  <thead>\n",
       "    <tr style=\"text-align: right;\">\n",
       "      <th></th>\n",
       "      <th>geometry</th>\n",
       "    </tr>\n",
       "  </thead>\n",
       "  <tbody>\n",
       "    <tr>\n",
       "      <th>0</th>\n",
       "      <td>POLYGON ((-99.04952 37.27494, -98.77662 36.144...</td>\n",
       "    </tr>\n",
       "  </tbody>\n",
       "</table>\n",
       "</div>"
      ],
      "text/plain": [
       "                                            geometry\n",
       "0  POLYGON ((-99.04952 37.27494, -98.77662 36.144..."
      ]
     },
     "execution_count": 6,
     "metadata": {},
     "output_type": "execute_result"
    }
   ],
   "source": [
    "opts = asf.ASFSearchOptions(processingLevel=[asf.PRODUCT_TYPE.SLC],\n",
    "                            beamMode=[asf.BEAMMODE.IW],\n",
    "                            platform=[asf.PLATFORM.SENTINEL1]\n",
    "                            )\n",
    "\n",
    "resp = asf.granule_search([SLC_ID], opts=opts)\n",
    "geometry = [shape(r.geojson()['geometry']) for r in resp]\n",
    "df_slc = gpd.GeoDataFrame(geometry=geometry, crs=CRS.from_epsg(4326))\n",
    "df_slc.head()"
   ]
  },
  {
   "cell_type": "code",
   "execution_count": 7,
   "id": "b15fd642-32d6-490b-a1ea-df1ef4ffc131",
   "metadata": {},
   "outputs": [
    {
     "data": {
      "text/plain": [
       "<Axes: >"
      ]
     },
     "execution_count": 7,
     "metadata": {},
     "output_type": "execute_result"
    },
    {
     "data": {
      "image/png": "[encoded data removed]",
      "text/plain": [
       "<Figure size 640x480 with 1 Axes>"
      ]
     },
     "metadata": {},
     "output_type": "display_data"
    }
   ],
   "source": [
    "df_slc.plot()"
   ]
  },
  {
   "cell_type": "markdown",
   "id": "0db69962-1e48-4e83-b50f-0547904bb48f",
   "metadata": {},
   "source": [
    "# Auxiliary Datasets\n",
    "\n",
    "## DEM"
   ]
  },
  {
   "cell_type": "code",
   "execution_count": 8,
   "id": "1fc16d7a-fda3-49ad-a426-c590a72a70c1",
   "metadata": {},
   "outputs": [
    {
     "data": {
      "text/plain": [
       "[-99.049522, 36.144268, -96.012474, 37.669025]"
      ]
     },
     "execution_count": 8,
     "metadata": {},
     "output_type": "execute_result"
    }
   ],
   "source": [
    "bounds = list(df_slc.total_bounds)\n",
    "bounds"
   ]
  },
  {
   "cell_type": "code",
   "execution_count": 9,
   "id": "123fcc58-0b5d-494f-82d9-30be7b487632",
   "metadata": {},
   "outputs": [
    {
     "name": "stderr",
     "output_type": "stream",
     "text": [
      "Reading glo_30 Datasets: 100%|██████████| 8/8 [00:14<00:00,  1.78s/it]\n"
     ]
    }
   ],
   "source": [
    "dst_area_or_point = 'Point'\n",
    "dem, p_dem = stitch_dem(bounds, \n",
    "                  'glo_30', \n",
    "                  dst_area_or_point=dst_area_or_point, \n",
    "                  dst_ellipsoidal_height=False)"
   ]
  },
  {
   "cell_type": "code",
   "execution_count": 10,
   "id": "20c4c7be-64cd-4971-8ef8-e251e781e759",
   "metadata": {},
   "outputs": [],
   "source": [
    "dem_path = out_directory / 'glo30_dem.tif'"
   ]
  },
  {
   "cell_type": "code",
   "execution_count": 11,
   "id": "e17c29c1-cd45-4b05-93d7-525a9684ce9a",
   "metadata": {},
   "outputs": [],
   "source": [
    "with rasterio.open(dem_path, 'w', **p_dem) as ds:\n",
    "   ds.write(dem, 1)\n",
    "   ds.update_tags(AREA_OR_POINT='Point')"
   ]
  },
  {
   "cell_type": "markdown",
   "id": "e8572031-8106-4de3-af09-b7a55473aa74",
   "metadata": {},
   "source": [
    "## HAND"
   ]
  },
  {
   "cell_type": "code",
   "execution_count": 12,
   "id": "2103facf-2962-4927-a58b-546f888ec48c",
   "metadata": {},
   "outputs": [
    {
     "name": "stdout",
     "output_type": "stream",
     "text": [
      "CPU times: user 36.1 s, sys: 3.46 s, total: 39.6 s\n",
      "Wall time: 33.5 s\n"
     ]
    }
   ],
   "source": [
    "%%time\n",
    "\n",
    "hand = compute_hand(dem_path)"
   ]
  },
  {
   "cell_type": "code",
   "execution_count": 13,
   "id": "ed337ad6-9884-4302-b800-9270c1274dfd",
   "metadata": {},
   "outputs": [],
   "source": [
    "hand_path = out_directory / f'hand.tif'"
   ]
  },
  {
   "cell_type": "code",
   "execution_count": 14,
   "id": "f8444371-a853-4651-a957-5db55feaf8b2",
   "metadata": {},
   "outputs": [],
   "source": [
    "with rasterio.open(hand_path, 'w', **p_dem) as ds:\n",
    "    ds.write(hand, 1)"
   ]
  },
  {
   "cell_type": "markdown",
   "id": "4f2ccd5d-6be1-4e88-9385-ed89302c6fe9",
   "metadata": {},
   "source": [
    "## Pekel"
   ]
  },
  {
   "cell_type": "code",
   "execution_count": 15,
   "id": "332caa3b-2731-4fa8-8423-1b51dd27393a",
   "metadata": {},
   "outputs": [],
   "source": [
    "X_occ, p_occ = get_raster_from_tiles(bounds, tile_shortname='peckel_water_occ_2021')"
   ]
  },
  {
   "cell_type": "code",
   "execution_count": 16,
   "id": "d57f7c26-fde6-48cf-9937-2d6bc6e940f3",
   "metadata": {},
   "outputs": [],
   "source": [
    "occ_path = out_directory / 'pekel_occ.tif'"
   ]
  },
  {
   "cell_type": "code",
   "execution_count": 17,
   "id": "d9d678fe-2bf2-4a74-ba43-7bdad97b9784",
   "metadata": {},
   "outputs": [],
   "source": [
    "with rasterio.open(occ_path, 'w', **p_occ) as ds:\n",
    "    ds.write(X_occ)"
   ]
  },
  {
   "cell_type": "markdown",
   "id": "6130c1f3-3e9b-4cf7-be68-b4aaf6d07e9c",
   "metadata": {},
   "source": [
    "## World Cover"
   ]
  },
  {
   "cell_type": "code",
   "execution_count": 18,
   "id": "e0c11815-e910-4d66-9243-da9d323c5a47",
   "metadata": {},
   "outputs": [],
   "source": [
    "X_esa_wc, p_wc = get_raster_from_tiles(bounds, tile_shortname='esa_world_cover_2021')"
   ]
  },
  {
   "cell_type": "code",
   "execution_count": 19,
   "id": "5e8af3e9-4600-4772-b62d-67c4a5c88cf6",
   "metadata": {},
   "outputs": [],
   "source": [
    "wc_path = out_directory / f'wc.tif'"
   ]
  },
  {
   "cell_type": "code",
   "execution_count": 20,
   "id": "57fbb4ad-8dc1-465b-b27e-8d8373271dbf",
   "metadata": {},
   "outputs": [],
   "source": [
    "with rasterio.open(wc_path, 'w', **p_wc) as ds:\n",
    "    ds.write(X_esa_wc)"
   ]
  },
  {
   "cell_type": "code",
   "execution_count": 21,
   "id": "eeba1a5b-ca55-49ad-a9a4-6c9a1a4cc873",
   "metadata": {},
   "outputs": [
    {
     "data": {
      "text/plain": [
       "(1, 18298, 36446)"
      ]
     },
     "execution_count": 21,
     "metadata": {},
     "output_type": "execute_result"
    }
   ],
   "source": [
    "X_esa_wc.shape"
   ]
  },
  {
   "cell_type": "markdown",
   "id": "fe15ede2-ff5f-40ed-8a32-a09378239959",
   "metadata": {},
   "source": [
    "# Delete Above Rasters in Memory"
   ]
  },
  {
   "cell_type": "code",
   "execution_count": 22,
   "id": "6690caaa-7913-4ddd-b31c-e43b15bcbaf6",
   "metadata": {},
   "outputs": [],
   "source": [
    "del X_esa_wc\n",
    "del dem\n",
    "del hand\n",
    "del X_occ"
   ]
  },
  {
   "cell_type": "markdown",
   "id": "52382afe-8952-4021-8747-5a52ab8d8ea5",
   "metadata": {},
   "source": [
    "# Download RTC Data\n",
    "\n",
    "Requires access to ES database and the `.env` file with JPL credentials."
   ]
  },
  {
   "cell_type": "code",
   "execution_count": 23,
   "id": "315e7be0-9884-472e-995a-c0fd573b84a3",
   "metadata": {},
   "outputs": [],
   "source": [
    "rtc_product_directory = out_directory / 'rtc_products'\n",
    "rtc_product_directory.mkdir(exist_ok=True, parents=True)"
   ]
  },
  {
   "cell_type": "code",
   "execution_count": 24,
   "id": "e32dc287-f144-45c4-b2b2-2e09a77cd93f",
   "metadata": {
    "scrolled": true
   },
   "outputs": [
    {
     "name": "stdout",
     "output_type": "stream",
     "text": [
      "36 RTC Products found for S1B_IW_SLC__1SDV_20211212T002818_20211212T002836_029985_03946A_6D2A\n"
     ]
    }
   ],
   "source": [
    "url_dict = get_rtc_urls(SLC_ID)"
   ]
  },
  {
   "cell_type": "code",
   "execution_count": 25,
   "id": "7e800440-fdc6-425b-87f1-446b5e3c2141",
   "metadata": {
    "scrolled": true
   },
   "outputs": [
    {
     "name": "stderr",
     "output_type": "stream",
     "text": [
      "100%|███████████████████████████████| 216/216 [01:12<00:00,  2.97it/s]\n"
     ]
    }
   ],
   "source": [
    "out_paths = download_rtc_products(url_dict, rtc_product_directory)"
   ]
  },
  {
   "cell_type": "markdown",
   "id": "bbed0a41-3a76-4fc7-8886-2b3637c6415d",
   "metadata": {},
   "source": [
    "# Generate Yaml/Runconfig\n",
    "\n",
    "There are three general steps:\n",
    "\n",
    "1. Get the defaults/templates for parameters and runconfig.\n",
    "2. Populate the yml with our data (specifically paths and directories)\n",
    "3. Load the yml as a Runconfig object for the workflow.\n",
    "\n",
    "The way we figured this out was to keep going through the 3 steps and try running the RunConfig initialization `RunConfig.load_from_yaml`. Usually the loading tells the user what needs filling out on account of yaml validation. It's not pretty."
   ]
  },
  {
   "cell_type": "code",
   "execution_count": 26,
   "id": "abbccbbe-f75a-4774-a07f-05ae4bdfe5ad",
   "metadata": {},
   "outputs": [],
   "source": [
    "dswx_sar_pge_url = 'https://raw.githubusercontent.com/opera-adt/DSWX-SAR/main/src/dswx_sar/defaults/dswx_s1.yaml'\n",
    "dswx_sar_param_url = 'https://raw.githubusercontent.com/opera-adt/DSWX-SAR/main/src/dswx_sar/defaults/algorithm_parameter_s1.yaml'"
   ]
  },
  {
   "cell_type": "markdown",
   "id": "e8ed61f6-f4c5-4209-b284-d36834d9adb5",
   "metadata": {},
   "source": [
    "## Load default ymls from upstream repository"
   ]
  },
  {
   "cell_type": "code",
   "execution_count": 29,
   "id": "245e088d-7caf-460e-be86-f3d2f0862007",
   "metadata": {},
   "outputs": [],
   "source": [
    "resp = requests.get(dswx_sar_pge_url)\n",
    "resp_param = requests.get(dswx_sar_param_url)"
   ]
  },
  {
   "cell_type": "code",
   "execution_count": 30,
   "id": "ca64d64b-57b7-4d1e-a83e-da75d4391a92",
   "metadata": {},
   "outputs": [
    {
     "data": {
      "text/plain": [
       "{'runconfig': {'name': 'dswx_s1_workflow_algorithm',\n",
       "  'processing': {'dswx_workflow': 'opera_dswx_s1',\n",
       "   'polarizations': ['VV', 'VH'],\n",
       "   'reference_water': {'max_value': 100,\n",
       "    'no_data_value': 255,\n",
       "    'permanent_water_value': 0.9,\n",
       "    'drought_erosion_pixel': 10,\n",
       "    'flood_dilation_pixel': 16},\n",
       "   'hand': {'mask_value': 200},\n",
       "   'mosaic': {'mosaic_prefix': 'mosaic', 'mosaic_cog_enable': True},\n",
       "   'filter': {'enabled': True, 'window_size': 5},\n",
       "   'initial_threshold': {'maximum_tile_size': {'x': 400, 'y': 400},\n",
       "    'minimum_tile_size': {'x': 40, 'y': 40},\n",
       "    'selection_method': 'combined',\n",
       "    'tile_selection_twele': [0.09, 0.8, 0.97],\n",
       "    'tile_selection_bimodality': 0.7,\n",
       "    'extending_method': 'gdal_grid',\n",
       "    'threshold_method': 'ki',\n",
       "    'multi_threshold': True,\n",
       "    'number_cpu': -1,\n",
       "    'number_iterations': 1,\n",
       "    'tile_average': False},\n",
       "   'fuzzy_value': {'line_per_block': 200,\n",
       "    'hand': {'member_min': 0, 'member_max': 15},\n",
       "    'slope': {'member_min': 0.5, 'member_max': 15},\n",
       "    'reference_water': {'member_min': 0.8, 'member_max': 0.95},\n",
       "    'area': {'member_min': 0, 'member_max': 40},\n",
       "    'dark_area': {'cross_land': -18, 'cross_water': -24},\n",
       "    'high_frequent_water': {'water_min_value': 0.1, 'water_max_value': 0.9}},\n",
       "   'region_growing': {'initial_threshold': 0.81,\n",
       "    'relaxed_threshold': 0.51,\n",
       "    'line_per_block': 400},\n",
       "   'masking_ancillary': {'co_pol_threshold': -14.6,\n",
       "    'cross_pol_threshold': -22.8,\n",
       "    'water_threshold': None},\n",
       "   'refine_with_bimodality': {'minimum_pixel': 4,\n",
       "    'number_cpu': 1,\n",
       "    'thresholds': {'ashman': 1.5,\n",
       "     'Bhattacharyya_coefficient': 0.97,\n",
       "     'bm_coefficient': 0.7,\n",
       "     'surface_ratio': 0.1}},\n",
       "   'inundated_vegetation': {'enabled': True,\n",
       "    'dual_pol_ratio_max': 12,\n",
       "    'dual_pol_ratio_min': 7,\n",
       "    'dual_pol_ratio_threshold': 8,\n",
       "    'cross_pol_min': -26,\n",
       "    'line_per_block': 300},\n",
       "   'debug_mode': False}}}"
      ]
     },
     "execution_count": 30,
     "metadata": {},
     "output_type": "execute_result"
    }
   ],
   "source": [
    "param_dict = yaml.safe_load(resp_param.content)\n",
    "param_dict"
   ]
  },
  {
   "cell_type": "code",
   "execution_count": 31,
   "id": "75fe2887-c716-4059-93ce-9d6f268d4800",
   "metadata": {},
   "outputs": [
    {
     "data": {
      "text/plain": [
       "{'runconfig': {'name': 'dswx_s1_workflow_default',\n",
       "  'groups': {'pge_name_group': {'pge_name': 'DSWX_S1_PGE'},\n",
       "   'input_file_group': {'input_file_path': None},\n",
       "   'dynamic_ancillary_file_group': {'dem_file': None,\n",
       "    'dem_file_description': None,\n",
       "    'worldcover_file': None,\n",
       "    'worldcover_file_description': None,\n",
       "    'reference_water_file': None,\n",
       "    'reference_water_file_description': None,\n",
       "    'hand_file': None,\n",
       "    'hand_file_description': None,\n",
       "    'shoreline_shapefile': None,\n",
       "    'shoreline_shapefile_description': None,\n",
       "    'algorithm_parameters': None},\n",
       "   'static_ancillary_file_group': {'static_ancillary_inputs_flag': True,\n",
       "    'mgrs_database_file': None,\n",
       "    'mgrs_collection_database_file': None},\n",
       "   'primary_executable': {'product_type': 'DSWX_S1'},\n",
       "   'product_path_group': {'product_path': None,\n",
       "    'scratch_path': None,\n",
       "    'sas_output_path': None,\n",
       "    'product_version': None,\n",
       "    'output_imagery_format': 'COG',\n",
       "    'output_imagery_compression': 'DEFLATE',\n",
       "    'output_imagery_nbits': 32},\n",
       "   'log_file': 'None'}}}"
      ]
     },
     "execution_count": 31,
     "metadata": {},
     "output_type": "execute_result"
    }
   ],
   "source": [
    "input_dict = yaml.safe_load(resp.content)\n",
    "input_dict"
   ]
  },
  {
   "cell_type": "markdown",
   "id": "bc5c8c98-d716-4b01-a634-4a636dc19efd",
   "metadata": {},
   "source": [
    "## Injecting parameters in relevant yml"
   ]
  },
  {
   "cell_type": "code",
   "execution_count": 32,
   "id": "1eaa956a-6aae-440e-ba55-3b8721fc2bdb",
   "metadata": {},
   "outputs": [
    {
     "data": {
      "text/plain": [
       "['out/S1B_IW_SLC__1SDV_20211212T002818_20211212T002836_029985_03946A_6D2A/rtc_products/OPERA_L2_RTC-S1_T034-071095-IW3_20211212T002820Z_20230929T210202Z_S1B_30_v1.0/',\n",
       " 'out/S1B_IW_SLC__1SDV_20211212T002818_20211212T002836_029985_03946A_6D2A/rtc_products/OPERA_L2_RTC-S1_T034-071100-IW2_20211212T002832Z_20230929T210202Z_S1B_30_v1.0/',\n",
       " 'out/S1B_IW_SLC__1SDV_20211212T002818_20211212T002836_029985_03946A_6D2A/rtc_products/OPERA_L2_RTC-S1_T034-071099-IW2_20211212T002830Z_20230929T210202Z_S1B_30_v1.0/']"
      ]
     },
     "execution_count": 32,
     "metadata": {},
     "output_type": "execute_result"
    }
   ],
   "source": [
    "rtc_paths = list(rtc_product_directory.glob('*/'))\n",
    "rtc_paths_str = list(map(str, rtc_paths))\n",
    "rtc_paths_str = list(map(lambda s: s + '/', rtc_paths_str))\n",
    "rtc_paths_str[:3]"
   ]
  },
  {
   "cell_type": "code",
   "execution_count": 33,
   "id": "1a994349-12f7-459f-95f9-af409a963d45",
   "metadata": {},
   "outputs": [
    {
     "data": {
      "text/plain": [
       "[None, None, None]"
      ]
     },
     "execution_count": 33,
     "metadata": {},
     "output_type": "execute_result"
    }
   ],
   "source": [
    "scratch_dir = (out_directory / 'scratch').resolve()\n",
    "sas_dir = (out_directory / 'sas').resolve()\n",
    "product_dir = (out_directory / 'product_path').resolve()\n",
    "[d.mkdir(exist_ok=True, parents=True) for d in [scratch_dir, sas_dir, product_dir]]"
   ]
  },
  {
   "cell_type": "code",
   "execution_count": 34,
   "id": "1d2e59fa-73e6-499a-a0d9-4ad8b24d6974",
   "metadata": {},
   "outputs": [],
   "source": [
    "input_dict['runconfig']['groups']['input_file_group']['input_file_path'] = rtc_paths_str\n",
    "input_dict['runconfig']['groups']['dynamic_ancillary_file_group']['dem_file']= str(dem_path.resolve())\n",
    "input_dict['runconfig']['groups']['dynamic_ancillary_file_group']['worldcover_file']= str(wc_path.resolve())\n",
    "input_dict['runconfig']['groups']['dynamic_ancillary_file_group']['hand_file']= str(hand_path.resolve())\n",
    "input_dict['runconfig']['groups']['dynamic_ancillary_file_group']['reference_water_file']= str(occ_path.resolve())\n",
    "input_dict['runconfig']['groups']['product_path_group']['scratch_path'] = str(scratch_dir)\n",
    "input_dict['runconfig']['groups']['product_path_group']['sas_output_path'] = str(sas_dir)\n",
    "input_dict['runconfig']['groups']['product_path_group']['product_path'] = str(product_dir)\n",
    "\n",
    "input_dict['runconfig']['groups']['primary_executable']['product_type'] = 'dswx_s1'\n",
    "input_dict['runconfig']['groups']['static_ancillary_file_group']['static_ancillary_inputs_flag'] = False"
   ]
  },
  {
   "cell_type": "markdown",
   "id": "ad85b0b8-86c9-4e37-9809-cbfc63b3412e",
   "metadata": {},
   "source": [
    "Make sure empty string rather than `None` is populated in yml."
   ]
  },
  {
   "cell_type": "code",
   "execution_count": 35,
   "id": "e789dc07-20f9-4f08-bae4-07e31686f380",
   "metadata": {},
   "outputs": [],
   "source": [
    "# See: https://stackoverflow.com/a/41786451\n",
    "def represent_none(self, _):\n",
    "    return self.represent_scalar('tag:yaml.org,2002:null', '')\n",
    "\n",
    "yaml.add_representer(type(None), represent_none)"
   ]
  },
  {
   "cell_type": "code",
   "execution_count": 36,
   "id": "952ad704-18f9-45c1-9fd4-775ae3d18bcc",
   "metadata": {},
   "outputs": [],
   "source": [
    "params_path = out_directory / 'params.yml'\n",
    "with open(params_path, 'w') as param_file:\n",
    "    yaml.dump(param_dict, param_file)"
   ]
  },
  {
   "cell_type": "code",
   "execution_count": 37,
   "id": "2621b3a5-88ea-4927-a855-426ccc5cb251",
   "metadata": {},
   "outputs": [],
   "source": [
    "input_dict['runconfig']['groups']['dynamic_ancillary_file_group']['algorithm_parameters'] = str(params_path.resolve())"
   ]
  },
  {
   "cell_type": "code",
   "execution_count": 38,
   "id": "77fdc0d8-f4d7-4e13-a3f9-065afc0ad5a0",
   "metadata": {},
   "outputs": [],
   "source": [
    "log_path = str(out_directory/f'{SLC_ID}.log')\n",
    "\n",
    "@dataclass\n",
    "class Args:\n",
    "    \"\"\"placeholder\"\"\"\n",
    "    debug_mode = False\n",
    "    log_file = log_path"
   ]
  },
  {
   "cell_type": "code",
   "execution_count": 39,
   "id": "eba5f4f4-cc8e-4177-a41e-2f31d2dbbb69",
   "metadata": {},
   "outputs": [],
   "source": [
    "args = Args()"
   ]
  },
  {
   "cell_type": "code",
   "execution_count": 40,
   "id": "b302bc6d-8a27-4735-9d6a-3d7ff0598fed",
   "metadata": {},
   "outputs": [],
   "source": [
    "run_config_path = out_directory / 'run_config.yml'\n",
    "with open(run_config_path, 'w') as run_config_yaml:\n",
    "    yaml.dump(input_dict, run_config_yaml)"
   ]
  },
  {
   "cell_type": "code",
   "execution_count": 41,
   "id": "6898665c-df80-4bac-be3f-074b3b8ec1fb",
   "metadata": {},
   "outputs": [
    {
     "name": "stderr",
     "output_type": "stream",
     "text": [
      "command line log file \"out/S1B_IW_SLC__1SDV_20211212T002818_20211212T002836_029985_03946A_6D2A/S1B_IW_SLC__1SDV_20211212T002818_20211212T002836_029985_03946A_6D2A.log\" has precedence over runconfig log file \"None\"\n"
     ]
    }
   ],
   "source": [
    "cfg = RunConfig.load_from_yaml(str(run_config_path), 'dswx_s1', args)"
   ]
  },
  {
   "cell_type": "markdown",
   "id": "be504037-3167-4f81-9b81-d900b960b75f",
   "metadata": {},
   "source": [
    "# Run Workflow"
   ]
  },
  {
   "cell_type": "code",
   "execution_count": 42,
   "id": "34798675-c400-423c-a23f-602a8f24b9db",
   "metadata": {},
   "outputs": [
    {
     "name": "stdout",
     "output_type": "stream",
     "text": [
      "Number of bursts to process: 36\n",
      "    mosaic geogrid:\n",
      "        start X: 492570.0\n",
      "        end X: 769710.0\n",
      "        start Y: 4179120.0\n",
      "        end Y: 3994740.0\n",
      "        spacing X: 30.0\n",
      "        spacing Y: -30.0\n",
      "        width: 9238\n",
      "        length: 6146\n",
      "        projection: PROJCS[\"WGS 84 / UTM zone 14N\",GEOGCS[\"WGS 84\",DATUM[\"WGS_1984\",SPHEROID[\"WGS 84\",6378137,298.257223563,AUTHORITY[\"EPSG\",\"7030\"]],AUTHORITY[\"EPSG\",\"6326\"]],PRIMEM[\"Greenwich\",0,AUTHORITY[\"EPSG\",\"8901\"]],UNIT[\"degree\",0.0174532925199433,AUTHORITY[\"EPSG\",\"9122\"]],AUTHORITY[\"EPSG\",\"4326\"]],PROJECTION[\"Transverse_Mercator\"],PARAMETER[\"latitude_of_origin\",0],PARAMETER[\"central_meridian\",-99],PARAMETER[\"scale_factor\",0.9996],PARAMETER[\"false_easting\",500000],PARAMETER[\"false_northing\",0],UNIT[\"metre\",1,AUTHORITY[\"EPSG\",\"9001\"]],AXIS[\"Easting\",EAST],AXIS[\"Northing\",NORTH],AUTHORITY[\"EPSG\",\"32614\"]]\n",
      "        number of bands: 1\n",
      "    mosaicking (1/36): OPERA_L2_RTC-S1_T034-071095-IW3_20211212T002820Z_20230929T210202Z_S1B_30_v1.0_VV.tif\n",
      "        image offset (x, y): (6135, 3052)\n",
      "    mosaicking (2/36): OPERA_L2_RTC-S1_T034-071100-IW2_20211212T002832Z_20230929T210202Z_S1B_30_v1.0_VV.tif\n",
      "        image offset (x, y): (2709, 722)\n",
      "    mosaicking (3/36): OPERA_L2_RTC-S1_T034-071099-IW2_20211212T002830Z_20230929T210202Z_S1B_30_v1.0_VV.tif\n",
      "        image offset (x, y): (2828, 1333)\n",
      "    mosaicking (4/36): OPERA_L2_RTC-S1_T034-071097-IW2_20211212T002824Z_20230929T105227Z_S1B_30_v1.0_VV.tif\n",
      "        image offset (x, y): (3056, 2557)\n",
      "    mosaicking (5/36): OPERA_L2_RTC-S1_T034-071095-IW1_20211212T002818Z_20230929T105227Z_S1B_30_v1.0_VV.tif\n",
      "        image offset (x, y): (586, 4528)\n",
      "    mosaicking (6/36): OPERA_L2_RTC-S1_T034-071097-IW3_20211212T002825Z_20230929T105227Z_S1B_30_v1.0_VV.tif\n",
      "        image offset (x, y): (5898, 1832)\n",
      "    mosaicking (7/36): OPERA_L2_RTC-S1_T034-071096-IW2_20211212T002821Z_20230929T210202Z_S1B_30_v1.0_VV.tif\n",
      "        image offset (x, y): (3176, 3168)\n",
      "    mosaicking (8/36): OPERA_L2_RTC-S1_T034-071099-IW1_20211212T002829Z_20230929T210202Z_S1B_30_v1.0_VV.tif\n",
      "        image offset (x, y): (119, 2077)\n",
      "    mosaicking (9/36): OPERA_L2_RTC-S1_T034-071098-IW3_20211212T002828Z_20230929T210202Z_S1B_30_v1.0_VV.tif\n",
      "        image offset (x, y): (5787, 1220)\n",
      "    mosaicking (10/36): OPERA_L2_RTC-S1_T034-071098-IW1_20211212T002826Z_20230929T210202Z_S1B_30_v1.0_VV.tif\n",
      "        image offset (x, y): (226, 2691)\n",
      "    mosaicking (11/36): OPERA_L2_RTC-S1_T034-071096-IW1_20211212T002820Z_20230929T210202Z_S1B_30_v1.0_VV.tif\n",
      "        image offset (x, y): (466, 3916)\n",
      "    mosaicking (12/36): OPERA_L2_RTC-S1_T034-071100-IW3_20211212T002833Z_20230929T210202Z_S1B_30_v1.0_VV.tif\n",
      "        image offset (x, y): (5550, 0)\n",
      "    mosaicking (13/36): OPERA_L2_RTC-S1_T034-071099-IW3_20211212T002831Z_20230929T210202Z_S1B_30_v1.0_VV.tif\n",
      "        image offset (x, y): (5668, 610)\n",
      "    mosaicking (14/36): OPERA_L2_RTC-S1_T034-071098-IW2_20211212T002827Z_20230929T210202Z_S1B_30_v1.0_VV.tif\n",
      "        image offset (x, y): (2937, 1946)\n",
      "    mosaicking (15/36): OPERA_L2_RTC-S1_T034-071100-IW1_20211212T002831Z_20230929T105227Z_S1B_30_v1.0_VV.tif\n",
      "        image offset (x, y): (0, 1464)\n",
      "    mosaicking (16/36): OPERA_L2_RTC-S1_T034-071096-IW3_20211212T002822Z_20230929T105227Z_S1B_30_v1.0_VV.tif\n",
      "        image offset (x, y): (6016, 2442)\n",
      "    mosaicking (17/36): OPERA_L2_RTC-S1_T034-071095-IW2_20211212T002819Z_20230929T105227Z_S1B_30_v1.0_VV.tif\n",
      "        image offset (x, y): (3295, 3779)\n",
      "    mosaicking (18/36): OPERA_L2_RTC-S1_T034-071097-IW1_20211212T002823Z_20230929T105227Z_S1B_30_v1.0_VV.tif\n",
      "        image offset (x, y): (346, 3303)\n",
      "    mosaicking (19/36): OPERA_L2_RTC-S1_T034-071096-IW1_20211212T002820Z_20230929T105227Z_S1B_30_v1.0_VV.tif\n",
      "        image offset (x, y): (466, 3916)\n",
      "    mosaicking (20/36): OPERA_L2_RTC-S1_T034-071100-IW3_20211212T002833Z_20230929T105227Z_S1B_30_v1.0_VV.tif\n",
      "        image offset (x, y): (5550, 0)\n",
      "    mosaicking (21/36): OPERA_L2_RTC-S1_T034-071099-IW3_20211212T002831Z_20230929T105227Z_S1B_30_v1.0_VV.tif\n",
      "        image offset (x, y): (5668, 610)\n",
      "    mosaicking (22/36): OPERA_L2_RTC-S1_T034-071098-IW2_20211212T002827Z_20230929T105227Z_S1B_30_v1.0_VV.tif\n",
      "        image offset (x, y): (2937, 1946)\n",
      "    mosaicking (23/36): OPERA_L2_RTC-S1_T034-071100-IW1_20211212T002831Z_20230929T210202Z_S1B_30_v1.0_VV.tif\n",
      "        image offset (x, y): (0, 1464)\n",
      "    mosaicking (24/36): OPERA_L2_RTC-S1_T034-071096-IW3_20211212T002822Z_20230929T210202Z_S1B_30_v1.0_VV.tif\n",
      "        image offset (x, y): (6016, 2442)\n",
      "    mosaicking (25/36): OPERA_L2_RTC-S1_T034-071095-IW2_20211212T002819Z_20230929T210202Z_S1B_30_v1.0_VV.tif\n",
      "        image offset (x, y): (3295, 3779)\n",
      "    mosaicking (26/36): OPERA_L2_RTC-S1_T034-071097-IW1_20211212T002823Z_20230929T210202Z_S1B_30_v1.0_VV.tif\n",
      "        image offset (x, y): (346, 3303)\n",
      "    mosaicking (27/36): OPERA_L2_RTC-S1_T034-071095-IW1_20211212T002818Z_20230929T210202Z_S1B_30_v1.0_VV.tif\n",
      "        image offset (x, y): (586, 4528)\n",
      "    mosaicking (28/36): OPERA_L2_RTC-S1_T034-071097-IW3_20211212T002825Z_20230929T210202Z_S1B_30_v1.0_VV.tif\n",
      "        image offset (x, y): (5898, 1832)\n",
      "    mosaicking (29/36): OPERA_L2_RTC-S1_T034-071096-IW2_20211212T002821Z_20230929T105227Z_S1B_30_v1.0_VV.tif\n",
      "        image offset (x, y): (3176, 3168)\n",
      "    mosaicking (30/36): OPERA_L2_RTC-S1_T034-071099-IW1_20211212T002829Z_20230929T105227Z_S1B_30_v1.0_VV.tif\n",
      "        image offset (x, y): (119, 2077)\n",
      "    mosaicking (31/36): OPERA_L2_RTC-S1_T034-071098-IW3_20211212T002828Z_20230929T105227Z_S1B_30_v1.0_VV.tif\n",
      "        image offset (x, y): (5787, 1220)\n",
      "    mosaicking (32/36): OPERA_L2_RTC-S1_T034-071098-IW1_20211212T002826Z_20230929T105227Z_S1B_30_v1.0_VV.tif\n",
      "        image offset (x, y): (226, 2691)\n",
      "    mosaicking (33/36): OPERA_L2_RTC-S1_T034-071097-IW2_20211212T002824Z_20230929T210202Z_S1B_30_v1.0_VV.tif\n",
      "        image offset (x, y): (3056, 2557)\n",
      "    mosaicking (34/36): OPERA_L2_RTC-S1_T034-071095-IW3_20211212T002820Z_20230929T105227Z_S1B_30_v1.0_VV.tif\n",
      "        image offset (x, y): (6135, 3052)\n",
      "    mosaicking (35/36): OPERA_L2_RTC-S1_T034-071100-IW2_20211212T002832Z_20230929T105227Z_S1B_30_v1.0_VV.tif\n",
      "        image offset (x, y): (2709, 722)\n",
      "    mosaicking (36/36): OPERA_L2_RTC-S1_T034-071099-IW2_20211212T002830Z_20230929T105227Z_S1B_30_v1.0_VV.tif\n",
      "        image offset (x, y): (2828, 1333)\n",
      "    mosaic geogrid:\n",
      "        start X: 492570.0\n",
      "        end X: 769710.0\n",
      "        start Y: 4179120.0\n",
      "        end Y: 3994740.0\n",
      "        spacing X: 30.0\n",
      "        spacing Y: -30.0\n",
      "        width: 9238\n",
      "        length: 6146\n",
      "        projection: PROJCS[\"WGS 84 / UTM zone 14N\",GEOGCS[\"WGS 84\",DATUM[\"WGS_1984\",SPHEROID[\"WGS 84\",6378137,298.257223563,AUTHORITY[\"EPSG\",\"7030\"]],AUTHORITY[\"EPSG\",\"6326\"]],PRIMEM[\"Greenwich\",0,AUTHORITY[\"EPSG\",\"8901\"]],UNIT[\"degree\",0.0174532925199433,AUTHORITY[\"EPSG\",\"9122\"]],AUTHORITY[\"EPSG\",\"4326\"]],PROJECTION[\"Transverse_Mercator\"],PARAMETER[\"latitude_of_origin\",0],PARAMETER[\"central_meridian\",-99],PARAMETER[\"scale_factor\",0.9996],PARAMETER[\"false_easting\",500000],PARAMETER[\"false_northing\",0],UNIT[\"metre\",1,AUTHORITY[\"EPSG\",\"9001\"]],AXIS[\"Easting\",EAST],AXIS[\"Northing\",NORTH],AUTHORITY[\"EPSG\",\"32614\"]]\n",
      "        number of bands: 1\n",
      "    mosaicking (1/36): OPERA_L2_RTC-S1_T034-071095-IW3_20211212T002820Z_20230929T210202Z_S1B_30_v1.0_VH.tif\n",
      "        image offset (x, y): (6135, 3052)\n",
      "    mosaicking (2/36): OPERA_L2_RTC-S1_T034-071100-IW2_20211212T002832Z_20230929T210202Z_S1B_30_v1.0_VH.tif\n",
      "        image offset (x, y): (2709, 722)\n",
      "    mosaicking (3/36): OPERA_L2_RTC-S1_T034-071099-IW2_20211212T002830Z_20230929T210202Z_S1B_30_v1.0_VH.tif\n",
      "        image offset (x, y): (2828, 1333)\n",
      "    mosaicking (4/36): OPERA_L2_RTC-S1_T034-071097-IW2_20211212T002824Z_20230929T105227Z_S1B_30_v1.0_VH.tif\n",
      "        image offset (x, y): (3056, 2557)\n",
      "    mosaicking (5/36): OPERA_L2_RTC-S1_T034-071095-IW1_20211212T002818Z_20230929T105227Z_S1B_30_v1.0_VH.tif\n",
      "        image offset (x, y): (586, 4528)\n",
      "    mosaicking (6/36): OPERA_L2_RTC-S1_T034-071097-IW3_20211212T002825Z_20230929T105227Z_S1B_30_v1.0_VH.tif\n",
      "        image offset (x, y): (5898, 1832)\n",
      "    mosaicking (7/36): OPERA_L2_RTC-S1_T034-071096-IW2_20211212T002821Z_20230929T210202Z_S1B_30_v1.0_VH.tif\n",
      "        image offset (x, y): (3176, 3168)\n",
      "    mosaicking (8/36): OPERA_L2_RTC-S1_T034-071099-IW1_20211212T002829Z_20230929T210202Z_S1B_30_v1.0_VH.tif\n",
      "        image offset (x, y): (119, 2077)\n",
      "    mosaicking (9/36): OPERA_L2_RTC-S1_T034-071098-IW3_20211212T002828Z_20230929T210202Z_S1B_30_v1.0_VH.tif\n",
      "        image offset (x, y): (5787, 1220)\n",
      "    mosaicking (10/36): OPERA_L2_RTC-S1_T034-071098-IW1_20211212T002826Z_20230929T210202Z_S1B_30_v1.0_VH.tif\n",
      "        image offset (x, y): (226, 2691)\n",
      "    mosaicking (11/36): OPERA_L2_RTC-S1_T034-071096-IW1_20211212T002820Z_20230929T210202Z_S1B_30_v1.0_VH.tif\n",
      "        image offset (x, y): (466, 3916)\n",
      "    mosaicking (12/36): OPERA_L2_RTC-S1_T034-071100-IW3_20211212T002833Z_20230929T210202Z_S1B_30_v1.0_VH.tif\n",
      "        image offset (x, y): (5550, 0)\n",
      "    mosaicking (13/36): OPERA_L2_RTC-S1_T034-071099-IW3_20211212T002831Z_20230929T210202Z_S1B_30_v1.0_VH.tif\n",
      "        image offset (x, y): (5668, 610)\n",
      "    mosaicking (14/36): OPERA_L2_RTC-S1_T034-071098-IW2_20211212T002827Z_20230929T210202Z_S1B_30_v1.0_VH.tif\n",
      "        image offset (x, y): (2937, 1946)\n",
      "    mosaicking (15/36): OPERA_L2_RTC-S1_T034-071100-IW1_20211212T002831Z_20230929T105227Z_S1B_30_v1.0_VH.tif\n",
      "        image offset (x, y): (0, 1464)\n",
      "    mosaicking (16/36): OPERA_L2_RTC-S1_T034-071096-IW3_20211212T002822Z_20230929T105227Z_S1B_30_v1.0_VH.tif\n",
      "        image offset (x, y): (6016, 2442)\n",
      "    mosaicking (17/36): OPERA_L2_RTC-S1_T034-071095-IW2_20211212T002819Z_20230929T105227Z_S1B_30_v1.0_VH.tif\n",
      "        image offset (x, y): (3295, 3779)\n",
      "    mosaicking (18/36): OPERA_L2_RTC-S1_T034-071097-IW1_20211212T002823Z_20230929T105227Z_S1B_30_v1.0_VH.tif\n",
      "        image offset (x, y): (346, 3303)\n",
      "    mosaicking (19/36): OPERA_L2_RTC-S1_T034-071096-IW1_20211212T002820Z_20230929T105227Z_S1B_30_v1.0_VH.tif\n",
      "        image offset (x, y): (466, 3916)\n",
      "    mosaicking (20/36): OPERA_L2_RTC-S1_T034-071100-IW3_20211212T002833Z_20230929T105227Z_S1B_30_v1.0_VH.tif\n",
      "        image offset (x, y): (5550, 0)\n",
      "    mosaicking (21/36): OPERA_L2_RTC-S1_T034-071099-IW3_20211212T002831Z_20230929T105227Z_S1B_30_v1.0_VH.tif\n",
      "        image offset (x, y): (5668, 610)\n",
      "    mosaicking (22/36): OPERA_L2_RTC-S1_T034-071098-IW2_20211212T002827Z_20230929T105227Z_S1B_30_v1.0_VH.tif\n",
      "        image offset (x, y): (2937, 1946)\n",
      "    mosaicking (23/36): OPERA_L2_RTC-S1_T034-071100-IW1_20211212T002831Z_20230929T210202Z_S1B_30_v1.0_VH.tif\n",
      "        image offset (x, y): (0, 1464)\n",
      "    mosaicking (24/36): OPERA_L2_RTC-S1_T034-071096-IW3_20211212T002822Z_20230929T210202Z_S1B_30_v1.0_VH.tif\n",
      "        image offset (x, y): (6016, 2442)\n",
      "    mosaicking (25/36): OPERA_L2_RTC-S1_T034-071095-IW2_20211212T002819Z_20230929T210202Z_S1B_30_v1.0_VH.tif\n",
      "        image offset (x, y): (3295, 3779)\n",
      "    mosaicking (26/36): OPERA_L2_RTC-S1_T034-071097-IW1_20211212T002823Z_20230929T210202Z_S1B_30_v1.0_VH.tif\n",
      "        image offset (x, y): (346, 3303)\n",
      "    mosaicking (27/36): OPERA_L2_RTC-S1_T034-071095-IW1_20211212T002818Z_20230929T210202Z_S1B_30_v1.0_VH.tif\n",
      "        image offset (x, y): (586, 4528)\n",
      "    mosaicking (28/36): OPERA_L2_RTC-S1_T034-071097-IW3_20211212T002825Z_20230929T210202Z_S1B_30_v1.0_VH.tif\n",
      "        image offset (x, y): (5898, 1832)\n",
      "    mosaicking (29/36): OPERA_L2_RTC-S1_T034-071096-IW2_20211212T002821Z_20230929T105227Z_S1B_30_v1.0_VH.tif\n",
      "        image offset (x, y): (3176, 3168)\n",
      "    mosaicking (30/36): OPERA_L2_RTC-S1_T034-071099-IW1_20211212T002829Z_20230929T105227Z_S1B_30_v1.0_VH.tif\n",
      "        image offset (x, y): (119, 2077)\n",
      "    mosaicking (31/36): OPERA_L2_RTC-S1_T034-071098-IW3_20211212T002828Z_20230929T105227Z_S1B_30_v1.0_VH.tif\n",
      "        image offset (x, y): (5787, 1220)\n",
      "    mosaicking (32/36): OPERA_L2_RTC-S1_T034-071098-IW1_20211212T002826Z_20230929T105227Z_S1B_30_v1.0_VH.tif\n",
      "        image offset (x, y): (226, 2691)\n",
      "    mosaicking (33/36): OPERA_L2_RTC-S1_T034-071097-IW2_20211212T002824Z_20230929T210202Z_S1B_30_v1.0_VH.tif\n",
      "        image offset (x, y): (3056, 2557)\n",
      "    mosaicking (34/36): OPERA_L2_RTC-S1_T034-071095-IW3_20211212T002820Z_20230929T105227Z_S1B_30_v1.0_VH.tif\n",
      "        image offset (x, y): (6135, 3052)\n",
      "    mosaicking (35/36): OPERA_L2_RTC-S1_T034-071100-IW2_20211212T002832Z_20230929T105227Z_S1B_30_v1.0_VH.tif\n",
      "        image offset (x, y): (2709, 722)\n",
      "    mosaicking (36/36): OPERA_L2_RTC-S1_T034-071099-IW2_20211212T002830Z_20230929T105227Z_S1B_30_v1.0_VH.tif\n",
      "        image offset (x, y): (2828, 1333)\n",
      "    mosaic geogrid:\n",
      "        start X: 492570.0\n",
      "        end X: 769710.0\n",
      "        start Y: 4179120.0\n",
      "        end Y: 3994740.0\n",
      "        spacing X: 30.0\n",
      "        spacing Y: -30.0\n",
      "        width: 9238\n",
      "        length: 6146\n",
      "        projection: PROJCS[\"WGS 84 / UTM zone 14N\",GEOGCS[\"WGS 84\",DATUM[\"WGS_1984\",SPHEROID[\"WGS 84\",6378137,298.257223563,AUTHORITY[\"EPSG\",\"7030\"]],AUTHORITY[\"EPSG\",\"6326\"]],PRIMEM[\"Greenwich\",0,AUTHORITY[\"EPSG\",\"8901\"]],UNIT[\"degree\",0.0174532925199433,AUTHORITY[\"EPSG\",\"9122\"]],AUTHORITY[\"EPSG\",\"4326\"]],PROJECTION[\"Transverse_Mercator\"],PARAMETER[\"latitude_of_origin\",0],PARAMETER[\"central_meridian\",-99],PARAMETER[\"scale_factor\",0.9996],PARAMETER[\"false_easting\",500000],PARAMETER[\"false_northing\",0],UNIT[\"metre\",1,AUTHORITY[\"EPSG\",\"9001\"]],AXIS[\"Easting\",EAST],AXIS[\"Northing\",NORTH],AUTHORITY[\"EPSG\",\"32614\"]]\n",
      "        number of bands: 1\n",
      "    mosaicking (1/36): OPERA_L2_RTC-S1_T034-071095-IW3_20211212T002820Z_20230929T210202Z_S1B_30_v1.0_mask.tif\n",
      "        image offset (x, y): (6135, 3052)\n",
      "    mosaicking (2/36): OPERA_L2_RTC-S1_T034-071100-IW2_20211212T002832Z_20230929T210202Z_S1B_30_v1.0_mask.tif\n",
      "        image offset (x, y): (2709, 722)\n",
      "    mosaicking (3/36): OPERA_L2_RTC-S1_T034-071099-IW2_20211212T002830Z_20230929T210202Z_S1B_30_v1.0_mask.tif\n",
      "        image offset (x, y): (2828, 1333)\n",
      "    mosaicking (4/36): OPERA_L2_RTC-S1_T034-071097-IW2_20211212T002824Z_20230929T105227Z_S1B_30_v1.0_mask.tif\n",
      "        image offset (x, y): (3056, 2557)\n",
      "    mosaicking (5/36): OPERA_L2_RTC-S1_T034-071095-IW1_20211212T002818Z_20230929T105227Z_S1B_30_v1.0_mask.tif\n",
      "        image offset (x, y): (586, 4528)\n",
      "    mosaicking (6/36): OPERA_L2_RTC-S1_T034-071097-IW3_20211212T002825Z_20230929T105227Z_S1B_30_v1.0_mask.tif\n",
      "        image offset (x, y): (5898, 1832)\n",
      "    mosaicking (7/36): OPERA_L2_RTC-S1_T034-071096-IW2_20211212T002821Z_20230929T210202Z_S1B_30_v1.0_mask.tif\n",
      "        image offset (x, y): (3176, 3168)\n",
      "    mosaicking (8/36): OPERA_L2_RTC-S1_T034-071099-IW1_20211212T002829Z_20230929T210202Z_S1B_30_v1.0_mask.tif\n",
      "        image offset (x, y): (119, 2077)\n",
      "    mosaicking (9/36): OPERA_L2_RTC-S1_T034-071098-IW3_20211212T002828Z_20230929T210202Z_S1B_30_v1.0_mask.tif\n",
      "        image offset (x, y): (5787, 1220)\n",
      "    mosaicking (10/36): OPERA_L2_RTC-S1_T034-071098-IW1_20211212T002826Z_20230929T210202Z_S1B_30_v1.0_mask.tif\n",
      "        image offset (x, y): (226, 2691)\n",
      "    mosaicking (11/36): OPERA_L2_RTC-S1_T034-071096-IW1_20211212T002820Z_20230929T210202Z_S1B_30_v1.0_mask.tif\n",
      "        image offset (x, y): (466, 3916)\n",
      "    mosaicking (12/36): OPERA_L2_RTC-S1_T034-071100-IW3_20211212T002833Z_20230929T210202Z_S1B_30_v1.0_mask.tif\n",
      "        image offset (x, y): (5550, 0)\n",
      "    mosaicking (13/36): OPERA_L2_RTC-S1_T034-071099-IW3_20211212T002831Z_20230929T210202Z_S1B_30_v1.0_mask.tif\n",
      "        image offset (x, y): (5668, 610)\n",
      "    mosaicking (14/36): OPERA_L2_RTC-S1_T034-071098-IW2_20211212T002827Z_20230929T210202Z_S1B_30_v1.0_mask.tif\n",
      "        image offset (x, y): (2937, 1946)\n",
      "    mosaicking (15/36): OPERA_L2_RTC-S1_T034-071100-IW1_20211212T002831Z_20230929T105227Z_S1B_30_v1.0_mask.tif\n",
      "        image offset (x, y): (0, 1464)\n",
      "    mosaicking (16/36): OPERA_L2_RTC-S1_T034-071096-IW3_20211212T002822Z_20230929T105227Z_S1B_30_v1.0_mask.tif\n",
      "        image offset (x, y): (6016, 2442)\n",
      "    mosaicking (17/36): OPERA_L2_RTC-S1_T034-071095-IW2_20211212T002819Z_20230929T105227Z_S1B_30_v1.0_mask.tif\n",
      "        image offset (x, y): (3295, 3779)\n",
      "    mosaicking (18/36): OPERA_L2_RTC-S1_T034-071097-IW1_20211212T002823Z_20230929T105227Z_S1B_30_v1.0_mask.tif\n",
      "        image offset (x, y): (346, 3303)\n",
      "    mosaicking (19/36): OPERA_L2_RTC-S1_T034-071096-IW1_20211212T002820Z_20230929T105227Z_S1B_30_v1.0_mask.tif\n",
      "        image offset (x, y): (466, 3916)\n",
      "    mosaicking (20/36): OPERA_L2_RTC-S1_T034-071100-IW3_20211212T002833Z_20230929T105227Z_S1B_30_v1.0_mask.tif\n",
      "        image offset (x, y): (5550, 0)\n",
      "    mosaicking (21/36): OPERA_L2_RTC-S1_T034-071099-IW3_20211212T002831Z_20230929T105227Z_S1B_30_v1.0_mask.tif\n",
      "        image offset (x, y): (5668, 610)\n",
      "    mosaicking (22/36): OPERA_L2_RTC-S1_T034-071098-IW2_20211212T002827Z_20230929T105227Z_S1B_30_v1.0_mask.tif\n",
      "        image offset (x, y): (2937, 1946)\n",
      "    mosaicking (23/36): OPERA_L2_RTC-S1_T034-071100-IW1_20211212T002831Z_20230929T210202Z_S1B_30_v1.0_mask.tif\n",
      "        image offset (x, y): (0, 1464)\n",
      "    mosaicking (24/36): OPERA_L2_RTC-S1_T034-071096-IW3_20211212T002822Z_20230929T210202Z_S1B_30_v1.0_mask.tif\n",
      "        image offset (x, y): (6016, 2442)\n",
      "    mosaicking (25/36): OPERA_L2_RTC-S1_T034-071095-IW2_20211212T002819Z_20230929T210202Z_S1B_30_v1.0_mask.tif\n",
      "        image offset (x, y): (3295, 3779)\n",
      "    mosaicking (26/36): OPERA_L2_RTC-S1_T034-071097-IW1_20211212T002823Z_20230929T210202Z_S1B_30_v1.0_mask.tif\n",
      "        image offset (x, y): (346, 3303)\n",
      "    mosaicking (27/36): OPERA_L2_RTC-S1_T034-071095-IW1_20211212T002818Z_20230929T210202Z_S1B_30_v1.0_mask.tif\n",
      "        image offset (x, y): (586, 4528)\n",
      "    mosaicking (28/36): OPERA_L2_RTC-S1_T034-071097-IW3_20211212T002825Z_20230929T210202Z_S1B_30_v1.0_mask.tif\n",
      "        image offset (x, y): (5898, 1832)\n",
      "    mosaicking (29/36): OPERA_L2_RTC-S1_T034-071096-IW2_20211212T002821Z_20230929T105227Z_S1B_30_v1.0_mask.tif\n",
      "        image offset (x, y): (3176, 3168)\n",
      "    mosaicking (30/36): OPERA_L2_RTC-S1_T034-071099-IW1_20211212T002829Z_20230929T105227Z_S1B_30_v1.0_mask.tif\n",
      "        image offset (x, y): (119, 2077)\n",
      "    mosaicking (31/36): OPERA_L2_RTC-S1_T034-071098-IW3_20211212T002828Z_20230929T105227Z_S1B_30_v1.0_mask.tif\n",
      "        image offset (x, y): (5787, 1220)\n",
      "    mosaicking (32/36): OPERA_L2_RTC-S1_T034-071098-IW1_20211212T002826Z_20230929T105227Z_S1B_30_v1.0_mask.tif\n",
      "        image offset (x, y): (226, 2691)\n",
      "    mosaicking (33/36): OPERA_L2_RTC-S1_T034-071097-IW2_20211212T002824Z_20230929T210202Z_S1B_30_v1.0_mask.tif\n",
      "        image offset (x, y): (3056, 2557)\n",
      "    mosaicking (34/36): OPERA_L2_RTC-S1_T034-071095-IW3_20211212T002820Z_20230929T105227Z_S1B_30_v1.0_mask.tif\n",
      "        image offset (x, y): (6135, 3052)\n",
      "    mosaicking (35/36): OPERA_L2_RTC-S1_T034-071100-IW2_20211212T002832Z_20230929T105227Z_S1B_30_v1.0_mask.tif\n",
      "        image offset (x, y): (2709, 722)\n",
      "    mosaicking (36/36): OPERA_L2_RTC-S1_T034-071099-IW2_20211212T002830Z_20230929T105227Z_S1B_30_v1.0_mask.tif\n",
      "        image offset (x, y): (2828, 1333)\n",
      "> gdalwarp /Users/cmarshak/bekaert-team/dswx-sar-workflow-pst/out/S1B_IW_SLC__1SDV_20211212T002818_20211212T002836_029985_03946A_6D2A/pekel_occ.tif -> /Users/cmarshak/bekaert-team/dswx-sar-workflow-pst/out/S1B_IW_SLC__1SDV_20211212T002818_20211212T002836_029985_03946A_6D2A/scratch/interpolated_wbd\n",
      "bounding box 4179120.0 3994740.0 492570.0 769710.0\n",
      "> gdalwarp /Users/cmarshak/bekaert-team/dswx-sar-workflow-pst/out/S1B_IW_SLC__1SDV_20211212T002818_20211212T002836_029985_03946A_6D2A/glo30_dem.tif -> /Users/cmarshak/bekaert-team/dswx-sar-workflow-pst/out/S1B_IW_SLC__1SDV_20211212T002818_20211212T002836_029985_03946A_6D2A/scratch/interpolated_DEM\n",
      "bounding box 4179120.0 3994740.0 492570.0 769710.0\n",
      " -- Reading /Users/cmarshak/bekaert-team/dswx-sar-workflow-pst/out/S1B_IW_SLC__1SDV_20211212T002818_20211212T002836_029985_03946A_6D2A/scratch/interpolated_DEM ... (6146, 9238)\n",
      "> gdalwarp /Users/cmarshak/bekaert-team/dswx-sar-workflow-pst/out/S1B_IW_SLC__1SDV_20211212T002818_20211212T002836_029985_03946A_6D2A/wc.tif -> /Users/cmarshak/bekaert-team/dswx-sar-workflow-pst/out/S1B_IW_SLC__1SDV_20211212T002818_20211212T002836_029985_03946A_6D2A/scratch/interpolated_landcover\n",
      "bounding box 4179120.0 3994740.0 492570.0 769710.0\n",
      "> gdalwarp /Users/cmarshak/bekaert-team/dswx-sar-workflow-pst/out/S1B_IW_SLC__1SDV_20211212T002818_20211212T002836_029985_03946A_6D2A/hand.tif -> /Users/cmarshak/bekaert-team/dswx-sar-workflow-pst/out/S1B_IW_SLC__1SDV_20211212T002818_20211212T002836_029985_03946A_6D2A/scratch/interpolated_hand\n",
      "bounding box 4179120.0 3994740.0 492570.0 769710.0\n",
      " -- Reading /Users/cmarshak/bekaert-team/dswx-sar-workflow-pst/out/S1B_IW_SLC__1SDV_20211212T002818_20211212T002836_029985_03946A_6D2A/scratch/mosaic_VV.tif ... (6146, 9238)\n",
      " -- Reading /Users/cmarshak/bekaert-team/dswx-sar-workflow-pst/out/S1B_IW_SLC__1SDV_20211212T002818_20211212T002836_029985_03946A_6D2A/scratch/mosaic_VH.tif ... (6146, 9238)\n",
      ">> lee_enhanced_filter\n",
      ">> lee_enhanced_filter\n",
      "0...10...20...30...40...50...60...70...80...90...100 - done.\n",
      "0...10...20...30...40...50...60...70...80...90..."
     ]
    },
    {
     "name": "stderr",
     "output_type": "stream",
     "text": [
      "/Users/cmarshak/mambaforge/envs/dswx_val/lib/python3.11/site-packages/osgeo/gdal.py:287: FutureWarning: Neither gdal.UseExceptions() nor gdal.DontUseExceptions() has been explicitly called. In GDAL 4.0, exceptions will be enabled by default.\n",
      "  warnings.warn(\n",
      "/Users/cmarshak/mambaforge/envs/dswx_val/lib/python3.11/site-packages/osgeo/gdal.py:287: FutureWarning: Neither gdal.UseExceptions() nor gdal.DontUseExceptions() has been explicitly called. In GDAL 4.0, exceptions will be enabled by default.\n",
      "  warnings.warn(\n",
      "/Users/cmarshak/mambaforge/envs/dswx_val/lib/python3.11/site-packages/osgeo/gdal.py:287: FutureWarning: Neither gdal.UseExceptions() nor gdal.DontUseExceptions() has been explicitly called. In GDAL 4.0, exceptions will be enabled by default.\n",
      "  warnings.warn(\n",
      "/Users/cmarshak/mambaforge/envs/dswx_val/lib/python3.11/site-packages/osgeo/gdal.py:287: FutureWarning: Neither gdal.UseExceptions() nor gdal.DontUseExceptions() has been explicitly called. In GDAL 4.0, exceptions will be enabled by default.\n",
      "  warnings.warn(\n",
      "/Users/cmarshak/mambaforge/envs/dswx_val/lib/python3.11/site-packages/osgeo/gdal.py:287: FutureWarning: Neither gdal.UseExceptions() nor gdal.DontUseExceptions() has been explicitly called. In GDAL 4.0, exceptions will be enabled by default.\n",
      "  warnings.warn(\n",
      "/Users/cmarshak/mambaforge/envs/dswx_val/lib/python3.11/site-packages/osgeo/gdal.py:287: FutureWarning: Neither gdal.UseExceptions() nor gdal.DontUseExceptions() has been explicitly called. In GDAL 4.0, exceptions will be enabled by default.\n",
      "  warnings.warn(\n",
      "/Users/cmarshak/mambaforge/envs/dswx_val/lib/python3.11/site-packages/osgeo/gdal.py:287: FutureWarning: Neither gdal.UseExceptions() nor gdal.DontUseExceptions() has been explicitly called. In GDAL 4.0, exceptions will be enabled by default.\n",
      "  warnings.warn(\n",
      "/Users/cmarshak/mambaforge/envs/dswx_val/lib/python3.11/site-packages/osgeo/gdal.py:287: FutureWarning: Neither gdal.UseExceptions() nor gdal.DontUseExceptions() has been explicitly called. In GDAL 4.0, exceptions will be enabled by default.\n",
      "  warnings.warn(\n",
      "/Users/cmarshak/mambaforge/envs/dswx_val/lib/python3.11/site-packages/osgeo/gdal.py:287: FutureWarning: Neither gdal.UseExceptions() nor gdal.DontUseExceptions() has been explicitly called. In GDAL 4.0, exceptions will be enabled by default.\n",
      "  warnings.warn(\n",
      "/Users/cmarshak/mambaforge/envs/dswx_val/lib/python3.11/site-packages/osgeo/gdal.py:287: FutureWarning: Neither gdal.UseExceptions() nor gdal.DontUseExceptions() has been explicitly called. In GDAL 4.0, exceptions will be enabled by default.\n",
      "  warnings.warn(\n",
      "/Users/cmarshak/mambaforge/envs/dswx_val/lib/python3.11/site-packages/osgeo/gdal.py:287: FutureWarning: Neither gdal.UseExceptions() nor gdal.DontUseExceptions() has been explicitly called. In GDAL 4.0, exceptions will be enabled by default.\n",
      "  warnings.warn(\n",
      "/Users/cmarshak/mambaforge/envs/dswx_val/lib/python3.11/site-packages/osgeo/gdal.py:287: FutureWarning: Neither gdal.UseExceptions() nor gdal.DontUseExceptions() has been explicitly called. In GDAL 4.0, exceptions will be enabled by default.\n",
      "  warnings.warn(\n",
      "/Users/cmarshak/mambaforge/envs/dswx_val/lib/python3.11/site-packages/dswx_sar/initial_threshold.py:669: RuntimeWarning: invalid value encountered in divide\n",
      "  sigma_f = np.sqrt(intenisty_s / intensity_cumsum -\n",
      "/Users/cmarshak/mambaforge/envs/dswx_val/lib/python3.11/site-packages/dswx_sar/initial_threshold.py:670: RuntimeWarning: invalid value encountered in divide\n",
      "  (intensity_area / intensity_cumsum) ** 2)\n",
      "/Users/cmarshak/mambaforge/envs/dswx_val/lib/python3.11/site-packages/dswx_sar/initial_threshold.py:675: RuntimeWarning: invalid value encountered in divide\n",
      "  sigma_b = np.sqrt(sb / cb - (mb / cb) ** 2)\n",
      "/Users/cmarshak/mambaforge/envs/dswx_val/lib/python3.11/site-packages/dswx_sar/initial_threshold.py:680: RuntimeWarning: divide by zero encountered in log\n",
      "  normalized_int_cumsum * np.log(sigma_f) + \\\n",
      "/Users/cmarshak/mambaforge/envs/dswx_val/lib/python3.11/site-packages/dswx_sar/initial_threshold.py:682: RuntimeWarning: divide by zero encountered in log\n",
      "  normalized_int_cumsum * np.log(normalized_int_cumsum) - \\\n",
      "/Users/cmarshak/mambaforge/envs/dswx_val/lib/python3.11/site-packages/dswx_sar/initial_threshold.py:682: RuntimeWarning: invalid value encountered in multiply\n",
      "  normalized_int_cumsum * np.log(normalized_int_cumsum) - \\\n",
      "/Users/cmarshak/mambaforge/envs/dswx_val/lib/python3.11/site-packages/dswx_sar/initial_threshold.py:683: RuntimeWarning: divide by zero encountered in log\n",
      "  (1 - normalized_int_cumsum) * np.log(1 - normalized_int_cumsum)\n",
      "/Users/cmarshak/mambaforge/envs/dswx_val/lib/python3.11/site-packages/dswx_sar/initial_threshold.py:683: RuntimeWarning: invalid value encountered in multiply\n",
      "  (1 - normalized_int_cumsum) * np.log(1 - normalized_int_cumsum)\n",
      "/Users/cmarshak/mambaforge/envs/dswx_val/lib/python3.11/site-packages/dswx_sar/initial_threshold.py:669: RuntimeWarning: invalid value encountered in divide\n",
      "  sigma_f = np.sqrt(intenisty_s / intensity_cumsum -\n",
      "/Users/cmarshak/mambaforge/envs/dswx_val/lib/python3.11/site-packages/dswx_sar/initial_threshold.py:670: RuntimeWarning: invalid value encountered in divide\n",
      "  (intensity_area / intensity_cumsum) ** 2)\n",
      "/Users/cmarshak/mambaforge/envs/dswx_val/lib/python3.11/site-packages/dswx_sar/initial_threshold.py:675: RuntimeWarning: invalid value encountered in divide\n",
      "  sigma_b = np.sqrt(sb / cb - (mb / cb) ** 2)\n",
      "/Users/cmarshak/mambaforge/envs/dswx_val/lib/python3.11/site-packages/dswx_sar/initial_threshold.py:675: RuntimeWarning: invalid value encountered in sqrt\n",
      "  sigma_b = np.sqrt(sb / cb - (mb / cb) ** 2)\n",
      "/Users/cmarshak/mambaforge/envs/dswx_val/lib/python3.11/site-packages/dswx_sar/initial_threshold.py:680: RuntimeWarning: divide by zero encountered in log\n",
      "  normalized_int_cumsum * np.log(sigma_f) + \\\n",
      "/Users/cmarshak/mambaforge/envs/dswx_val/lib/python3.11/site-packages/dswx_sar/initial_threshold.py:682: RuntimeWarning: divide by zero encountered in log\n",
      "  normalized_int_cumsum * np.log(normalized_int_cumsum) - \\\n",
      "/Users/cmarshak/mambaforge/envs/dswx_val/lib/python3.11/site-packages/dswx_sar/initial_threshold.py:682: RuntimeWarning: invalid value encountered in multiply\n",
      "  normalized_int_cumsum * np.log(normalized_int_cumsum) - \\\n",
      "/Users/cmarshak/mambaforge/envs/dswx_val/lib/python3.11/site-packages/dswx_sar/initial_threshold.py:683: RuntimeWarning: divide by zero encountered in log\n",
      "  (1 - normalized_int_cumsum) * np.log(1 - normalized_int_cumsum)\n",
      "/Users/cmarshak/mambaforge/envs/dswx_val/lib/python3.11/site-packages/dswx_sar/initial_threshold.py:683: RuntimeWarning: invalid value encountered in multiply\n",
      "  (1 - normalized_int_cumsum) * np.log(1 - normalized_int_cumsum)\n",
      "/Users/cmarshak/mambaforge/envs/dswx_val/lib/python3.11/site-packages/dswx_sar/initial_threshold.py:669: RuntimeWarning: invalid value encountered in divide\n",
      "  sigma_f = np.sqrt(intenisty_s / intensity_cumsum -\n",
      "/Users/cmarshak/mambaforge/envs/dswx_val/lib/python3.11/site-packages/dswx_sar/initial_threshold.py:670: RuntimeWarning: invalid value encountered in divide\n",
      "  (intensity_area / intensity_cumsum) ** 2)\n",
      "/Users/cmarshak/mambaforge/envs/dswx_val/lib/python3.11/site-packages/dswx_sar/initial_threshold.py:675: RuntimeWarning: invalid value encountered in divide\n",
      "  sigma_b = np.sqrt(sb / cb - (mb / cb) ** 2)\n",
      "/Users/cmarshak/mambaforge/envs/dswx_val/lib/python3.11/site-packages/dswx_sar/initial_threshold.py:675: RuntimeWarning: invalid value encountered in sqrt\n",
      "  sigma_b = np.sqrt(sb / cb - (mb / cb) ** 2)\n",
      "/Users/cmarshak/mambaforge/envs/dswx_val/lib/python3.11/site-packages/dswx_sar/initial_threshold.py:680: RuntimeWarning: divide by zero encountered in log\n",
      "  normalized_int_cumsum * np.log(sigma_f) + \\\n",
      "/Users/cmarshak/mambaforge/envs/dswx_val/lib/python3.11/site-packages/dswx_sar/initial_threshold.py:682: RuntimeWarning: divide by zero encountered in log\n",
      "  normalized_int_cumsum * np.log(normalized_int_cumsum) - \\\n",
      "/Users/cmarshak/mambaforge/envs/dswx_val/lib/python3.11/site-packages/dswx_sar/initial_threshold.py:682: RuntimeWarning: invalid value encountered in multiply\n",
      "  normalized_int_cumsum * np.log(normalized_int_cumsum) - \\\n",
      "/Users/cmarshak/mambaforge/envs/dswx_val/lib/python3.11/site-packages/dswx_sar/initial_threshold.py:683: RuntimeWarning: divide by zero encountered in log\n",
      "  (1 - normalized_int_cumsum) * np.log(1 - normalized_int_cumsum)\n",
      "/Users/cmarshak/mambaforge/envs/dswx_val/lib/python3.11/site-packages/dswx_sar/initial_threshold.py:683: RuntimeWarning: invalid value encountered in multiply\n",
      "  (1 - normalized_int_cumsum) * np.log(1 - normalized_int_cumsum)\n",
      "/Users/cmarshak/mambaforge/envs/dswx_val/lib/python3.11/site-packages/dswx_sar/initial_threshold.py:669: RuntimeWarning: invalid value encountered in divide\n",
      "  sigma_f = np.sqrt(intenisty_s / intensity_cumsum -\n",
      "/Users/cmarshak/mambaforge/envs/dswx_val/lib/python3.11/site-packages/dswx_sar/initial_threshold.py:670: RuntimeWarning: invalid value encountered in divide\n",
      "  (intensity_area / intensity_cumsum) ** 2)\n",
      "/Users/cmarshak/mambaforge/envs/dswx_val/lib/python3.11/site-packages/dswx_sar/initial_threshold.py:675: RuntimeWarning: invalid value encountered in divide\n",
      "  sigma_b = np.sqrt(sb / cb - (mb / cb) ** 2)\n",
      "/Users/cmarshak/mambaforge/envs/dswx_val/lib/python3.11/site-packages/dswx_sar/initial_threshold.py:675: RuntimeWarning: invalid value encountered in sqrt\n",
      "  sigma_b = np.sqrt(sb / cb - (mb / cb) ** 2)\n",
      "/Users/cmarshak/mambaforge/envs/dswx_val/lib/python3.11/site-packages/dswx_sar/initial_threshold.py:682: RuntimeWarning: divide by zero encountered in log\n",
      "  normalized_int_cumsum * np.log(normalized_int_cumsum) - \\\n",
      "/Users/cmarshak/mambaforge/envs/dswx_val/lib/python3.11/site-packages/dswx_sar/initial_threshold.py:682: RuntimeWarning: invalid value encountered in multiply\n",
      "  normalized_int_cumsum * np.log(normalized_int_cumsum) - \\\n",
      "/Users/cmarshak/mambaforge/envs/dswx_val/lib/python3.11/site-packages/dswx_sar/initial_threshold.py:683: RuntimeWarning: divide by zero encountered in log\n",
      "  (1 - normalized_int_cumsum) * np.log(1 - normalized_int_cumsum)\n",
      "/Users/cmarshak/mambaforge/envs/dswx_val/lib/python3.11/site-packages/dswx_sar/initial_threshold.py:683: RuntimeWarning: invalid value encountered in multiply\n",
      "  (1 - normalized_int_cumsum) * np.log(1 - normalized_int_cumsum)\n",
      "/Users/cmarshak/mambaforge/envs/dswx_val/lib/python3.11/site-packages/dswx_sar/initial_threshold.py:669: RuntimeWarning: invalid value encountered in sqrt\n",
      "  sigma_f = np.sqrt(intenisty_s / intensity_cumsum -\n",
      "/Users/cmarshak/mambaforge/envs/dswx_val/lib/python3.11/site-packages/dswx_sar/initial_threshold.py:669: RuntimeWarning: invalid value encountered in divide\n",
      "  sigma_f = np.sqrt(intenisty_s / intensity_cumsum -\n",
      "/Users/cmarshak/mambaforge/envs/dswx_val/lib/python3.11/site-packages/dswx_sar/initial_threshold.py:670: RuntimeWarning: invalid value encountered in divide\n",
      "  (intensity_area / intensity_cumsum) ** 2)\n",
      "/Users/cmarshak/mambaforge/envs/dswx_val/lib/python3.11/site-packages/dswx_sar/initial_threshold.py:675: RuntimeWarning: invalid value encountered in divide\n",
      "  sigma_b = np.sqrt(sb / cb - (mb / cb) ** 2)\n",
      "/Users/cmarshak/mambaforge/envs/dswx_val/lib/python3.11/site-packages/dswx_sar/initial_threshold.py:675: RuntimeWarning: invalid value encountered in sqrt\n",
      "  sigma_b = np.sqrt(sb / cb - (mb / cb) ** 2)\n",
      "/Users/cmarshak/mambaforge/envs/dswx_val/lib/python3.11/site-packages/dswx_sar/initial_threshold.py:680: RuntimeWarning: divide by zero encountered in log\n",
      "  normalized_int_cumsum * np.log(sigma_f) + \\\n",
      "/Users/cmarshak/mambaforge/envs/dswx_val/lib/python3.11/site-packages/dswx_sar/initial_threshold.py:682: RuntimeWarning: divide by zero encountered in log\n",
      "  normalized_int_cumsum * np.log(normalized_int_cumsum) - \\\n",
      "/Users/cmarshak/mambaforge/envs/dswx_val/lib/python3.11/site-packages/dswx_sar/initial_threshold.py:682: RuntimeWarning: invalid value encountered in multiply\n",
      "  normalized_int_cumsum * np.log(normalized_int_cumsum) - \\\n",
      "/Users/cmarshak/mambaforge/envs/dswx_val/lib/python3.11/site-packages/dswx_sar/initial_threshold.py:683: RuntimeWarning: divide by zero encountered in log\n",
      "  (1 - normalized_int_cumsum) * np.log(1 - normalized_int_cumsum)\n",
      "/Users/cmarshak/mambaforge/envs/dswx_val/lib/python3.11/site-packages/dswx_sar/initial_threshold.py:683: RuntimeWarning: invalid value encountered in multiply\n",
      "  (1 - normalized_int_cumsum) * np.log(1 - normalized_int_cumsum)\n",
      "/Users/cmarshak/mambaforge/envs/dswx_val/lib/python3.11/site-packages/dswx_sar/initial_threshold.py:669: RuntimeWarning: invalid value encountered in divide\n",
      "  sigma_f = np.sqrt(intenisty_s / intensity_cumsum -\n",
      "/Users/cmarshak/mambaforge/envs/dswx_val/lib/python3.11/site-packages/dswx_sar/initial_threshold.py:670: RuntimeWarning: invalid value encountered in divide\n",
      "  (intensity_area / intensity_cumsum) ** 2)\n",
      "/Users/cmarshak/mambaforge/envs/dswx_val/lib/python3.11/site-packages/dswx_sar/initial_threshold.py:675: RuntimeWarning: invalid value encountered in divide\n",
      "  sigma_b = np.sqrt(sb / cb - (mb / cb) ** 2)\n",
      "/Users/cmarshak/mambaforge/envs/dswx_val/lib/python3.11/site-packages/dswx_sar/initial_threshold.py:675: RuntimeWarning: invalid value encountered in sqrt\n",
      "  sigma_b = np.sqrt(sb / cb - (mb / cb) ** 2)\n",
      "/Users/cmarshak/mambaforge/envs/dswx_val/lib/python3.11/site-packages/dswx_sar/initial_threshold.py:682: RuntimeWarning: divide by zero encountered in log\n",
      "  normalized_int_cumsum * np.log(normalized_int_cumsum) - \\\n",
      "/Users/cmarshak/mambaforge/envs/dswx_val/lib/python3.11/site-packages/dswx_sar/initial_threshold.py:682: RuntimeWarning: invalid value encountered in multiply\n",
      "  normalized_int_cumsum * np.log(normalized_int_cumsum) - \\\n",
      "/Users/cmarshak/mambaforge/envs/dswx_val/lib/python3.11/site-packages/dswx_sar/initial_threshold.py:683: RuntimeWarning: divide by zero encountered in log\n",
      "  (1 - normalized_int_cumsum) * np.log(1 - normalized_int_cumsum)\n",
      "/Users/cmarshak/mambaforge/envs/dswx_val/lib/python3.11/site-packages/dswx_sar/initial_threshold.py:683: RuntimeWarning: invalid value encountered in multiply\n",
      "  (1 - normalized_int_cumsum) * np.log(1 - normalized_int_cumsum)\n",
      "/Users/cmarshak/mambaforge/envs/dswx_val/lib/python3.11/site-packages/dswx_sar/initial_threshold.py:680: RuntimeWarning: divide by zero encountered in log\n",
      "  normalized_int_cumsum * np.log(sigma_f) + \\\n",
      "/Users/cmarshak/mambaforge/envs/dswx_val/lib/python3.11/site-packages/dswx_sar/initial_threshold.py:669: RuntimeWarning: invalid value encountered in divide\n",
      "  sigma_f = np.sqrt(intenisty_s / intensity_cumsum -\n",
      "/Users/cmarshak/mambaforge/envs/dswx_val/lib/python3.11/site-packages/dswx_sar/initial_threshold.py:670: RuntimeWarning: invalid value encountered in divide\n",
      "  (intensity_area / intensity_cumsum) ** 2)\n",
      "/Users/cmarshak/mambaforge/envs/dswx_val/lib/python3.11/site-packages/dswx_sar/initial_threshold.py:675: RuntimeWarning: invalid value encountered in divide\n",
      "  sigma_b = np.sqrt(sb / cb - (mb / cb) ** 2)\n",
      "/Users/cmarshak/mambaforge/envs/dswx_val/lib/python3.11/site-packages/dswx_sar/initial_threshold.py:680: RuntimeWarning: divide by zero encountered in log\n",
      "  normalized_int_cumsum * np.log(sigma_f) + \\\n",
      "/Users/cmarshak/mambaforge/envs/dswx_val/lib/python3.11/site-packages/dswx_sar/initial_threshold.py:682: RuntimeWarning: divide by zero encountered in log\n",
      "  normalized_int_cumsum * np.log(normalized_int_cumsum) - \\\n",
      "/Users/cmarshak/mambaforge/envs/dswx_val/lib/python3.11/site-packages/dswx_sar/initial_threshold.py:682: RuntimeWarning: invalid value encountered in multiply\n",
      "  normalized_int_cumsum * np.log(normalized_int_cumsum) - \\\n",
      "/Users/cmarshak/mambaforge/envs/dswx_val/lib/python3.11/site-packages/dswx_sar/initial_threshold.py:683: RuntimeWarning: divide by zero encountered in log\n",
      "  (1 - normalized_int_cumsum) * np.log(1 - normalized_int_cumsum)\n",
      "/Users/cmarshak/mambaforge/envs/dswx_val/lib/python3.11/site-packages/dswx_sar/initial_threshold.py:683: RuntimeWarning: invalid value encountered in multiply\n",
      "  (1 - normalized_int_cumsum) * np.log(1 - normalized_int_cumsum)\n",
      "/Users/cmarshak/mambaforge/envs/dswx_val/lib/python3.11/site-packages/dswx_sar/initial_threshold.py:669: RuntimeWarning: invalid value encountered in sqrt\n",
      "  sigma_f = np.sqrt(intenisty_s / intensity_cumsum -\n",
      "/Users/cmarshak/mambaforge/envs/dswx_val/lib/python3.11/site-packages/dswx_sar/initial_threshold.py:669: RuntimeWarning: invalid value encountered in divide\n",
      "  sigma_f = np.sqrt(intenisty_s / intensity_cumsum -\n",
      "/Users/cmarshak/mambaforge/envs/dswx_val/lib/python3.11/site-packages/dswx_sar/initial_threshold.py:670: RuntimeWarning: invalid value encountered in divide\n",
      "  (intensity_area / intensity_cumsum) ** 2)\n",
      "/Users/cmarshak/mambaforge/envs/dswx_val/lib/python3.11/site-packages/dswx_sar/initial_threshold.py:675: RuntimeWarning: invalid value encountered in divide\n",
      "  sigma_b = np.sqrt(sb / cb - (mb / cb) ** 2)\n",
      "/Users/cmarshak/mambaforge/envs/dswx_val/lib/python3.11/site-packages/dswx_sar/initial_threshold.py:675: RuntimeWarning: invalid value encountered in sqrt\n",
      "  sigma_b = np.sqrt(sb / cb - (mb / cb) ** 2)\n",
      "/Users/cmarshak/mambaforge/envs/dswx_val/lib/python3.11/site-packages/dswx_sar/initial_threshold.py:680: RuntimeWarning: divide by zero encountered in log\n",
      "  normalized_int_cumsum * np.log(sigma_f) + \\\n",
      "/Users/cmarshak/mambaforge/envs/dswx_val/lib/python3.11/site-packages/dswx_sar/initial_threshold.py:682: RuntimeWarning: divide by zero encountered in log\n",
      "  normalized_int_cumsum * np.log(normalized_int_cumsum) - \\\n",
      "/Users/cmarshak/mambaforge/envs/dswx_val/lib/python3.11/site-packages/dswx_sar/initial_threshold.py:682: RuntimeWarning: invalid value encountered in multiply\n",
      "  normalized_int_cumsum * np.log(normalized_int_cumsum) - \\\n",
      "/Users/cmarshak/mambaforge/envs/dswx_val/lib/python3.11/site-packages/dswx_sar/initial_threshold.py:683: RuntimeWarning: divide by zero encountered in log\n",
      "  (1 - normalized_int_cumsum) * np.log(1 - normalized_int_cumsum)\n",
      "/Users/cmarshak/mambaforge/envs/dswx_val/lib/python3.11/site-packages/dswx_sar/initial_threshold.py:683: RuntimeWarning: invalid value encountered in multiply\n",
      "  (1 - normalized_int_cumsum) * np.log(1 - normalized_int_cumsum)\n",
      "/Users/cmarshak/mambaforge/envs/dswx_val/lib/python3.11/site-packages/dswx_sar/initial_threshold.py:675: RuntimeWarning: invalid value encountered in sqrt\n",
      "  sigma_b = np.sqrt(sb / cb - (mb / cb) ** 2)\n",
      "/Users/cmarshak/mambaforge/envs/dswx_val/lib/python3.11/site-packages/dswx_sar/initial_threshold.py:669: RuntimeWarning: invalid value encountered in sqrt\n",
      "  sigma_f = np.sqrt(intenisty_s / intensity_cumsum -\n",
      "/Users/cmarshak/mambaforge/envs/dswx_val/lib/python3.11/site-packages/dswx_sar/initial_threshold.py:680: RuntimeWarning: divide by zero encountered in log\n",
      "  normalized_int_cumsum * np.log(sigma_f) + \\\n",
      "/Users/cmarshak/mambaforge/envs/dswx_val/lib/python3.11/site-packages/dswx_sar/initial_threshold.py:669: RuntimeWarning: invalid value encountered in divide\n",
      "  sigma_f = np.sqrt(intenisty_s / intensity_cumsum -\n",
      "/Users/cmarshak/mambaforge/envs/dswx_val/lib/python3.11/site-packages/dswx_sar/initial_threshold.py:670: RuntimeWarning: invalid value encountered in divide\n",
      "  (intensity_area / intensity_cumsum) ** 2)\n",
      "/Users/cmarshak/mambaforge/envs/dswx_val/lib/python3.11/site-packages/dswx_sar/initial_threshold.py:675: RuntimeWarning: invalid value encountered in divide\n",
      "  sigma_b = np.sqrt(sb / cb - (mb / cb) ** 2)\n",
      "/Users/cmarshak/mambaforge/envs/dswx_val/lib/python3.11/site-packages/dswx_sar/initial_threshold.py:680: RuntimeWarning: divide by zero encountered in log\n",
      "  normalized_int_cumsum * np.log(sigma_f) + \\\n",
      "/Users/cmarshak/mambaforge/envs/dswx_val/lib/python3.11/site-packages/dswx_sar/initial_threshold.py:682: RuntimeWarning: divide by zero encountered in log\n",
      "  normalized_int_cumsum * np.log(normalized_int_cumsum) - \\\n",
      "/Users/cmarshak/mambaforge/envs/dswx_val/lib/python3.11/site-packages/dswx_sar/initial_threshold.py:682: RuntimeWarning: invalid value encountered in multiply\n",
      "  normalized_int_cumsum * np.log(normalized_int_cumsum) - \\\n",
      "/Users/cmarshak/mambaforge/envs/dswx_val/lib/python3.11/site-packages/dswx_sar/initial_threshold.py:683: RuntimeWarning: divide by zero encountered in log\n",
      "  (1 - normalized_int_cumsum) * np.log(1 - normalized_int_cumsum)\n",
      "/Users/cmarshak/mambaforge/envs/dswx_val/lib/python3.11/site-packages/dswx_sar/initial_threshold.py:683: RuntimeWarning: invalid value encountered in multiply\n",
      "  (1 - normalized_int_cumsum) * np.log(1 - normalized_int_cumsum)\n",
      "/Users/cmarshak/mambaforge/envs/dswx_val/lib/python3.11/site-packages/dswx_sar/initial_threshold.py:669: RuntimeWarning: invalid value encountered in sqrt\n",
      "  sigma_f = np.sqrt(intenisty_s / intensity_cumsum -\n",
      "/Users/cmarshak/mambaforge/envs/dswx_val/lib/python3.11/site-packages/dswx_sar/initial_threshold.py:675: RuntimeWarning: invalid value encountered in sqrt\n",
      "  sigma_b = np.sqrt(sb / cb - (mb / cb) ** 2)\n",
      "/Users/cmarshak/mambaforge/envs/dswx_val/lib/python3.11/site-packages/dswx_sar/initial_threshold.py:675: RuntimeWarning: invalid value encountered in sqrt\n",
      "  sigma_b = np.sqrt(sb / cb - (mb / cb) ** 2)\n",
      "/Users/cmarshak/mambaforge/envs/dswx_val/lib/python3.11/site-packages/dswx_sar/initial_threshold.py:669: RuntimeWarning: invalid value encountered in divide\n",
      "  sigma_f = np.sqrt(intenisty_s / intensity_cumsum -\n",
      "/Users/cmarshak/mambaforge/envs/dswx_val/lib/python3.11/site-packages/dswx_sar/initial_threshold.py:670: RuntimeWarning: invalid value encountered in divide\n",
      "  (intensity_area / intensity_cumsum) ** 2)\n",
      "/Users/cmarshak/mambaforge/envs/dswx_val/lib/python3.11/site-packages/dswx_sar/initial_threshold.py:675: RuntimeWarning: invalid value encountered in divide\n",
      "  sigma_b = np.sqrt(sb / cb - (mb / cb) ** 2)\n",
      "/Users/cmarshak/mambaforge/envs/dswx_val/lib/python3.11/site-packages/dswx_sar/initial_threshold.py:680: RuntimeWarning: divide by zero encountered in log\n",
      "  normalized_int_cumsum * np.log(sigma_f) + \\\n",
      "/Users/cmarshak/mambaforge/envs/dswx_val/lib/python3.11/site-packages/dswx_sar/initial_threshold.py:682: RuntimeWarning: divide by zero encountered in log\n",
      "  normalized_int_cumsum * np.log(normalized_int_cumsum) - \\\n",
      "/Users/cmarshak/mambaforge/envs/dswx_val/lib/python3.11/site-packages/dswx_sar/initial_threshold.py:682: RuntimeWarning: invalid value encountered in multiply\n",
      "  normalized_int_cumsum * np.log(normalized_int_cumsum) - \\\n",
      "/Users/cmarshak/mambaforge/envs/dswx_val/lib/python3.11/site-packages/dswx_sar/initial_threshold.py:683: RuntimeWarning: divide by zero encountered in log\n",
      "  (1 - normalized_int_cumsum) * np.log(1 - normalized_int_cumsum)\n",
      "/Users/cmarshak/mambaforge/envs/dswx_val/lib/python3.11/site-packages/dswx_sar/initial_threshold.py:683: RuntimeWarning: invalid value encountered in multiply\n",
      "  (1 - normalized_int_cumsum) * np.log(1 - normalized_int_cumsum)\n",
      "/Users/cmarshak/mambaforge/envs/dswx_val/lib/python3.11/site-packages/dswx_sar/initial_threshold.py:681: RuntimeWarning: divide by zero encountered in log\n",
      "  (1 - normalized_int_cumsum) * np.log(sigma_b) - \\\n",
      "/Users/cmarshak/mambaforge/envs/dswx_val/lib/python3.11/site-packages/dswx_sar/initial_threshold.py:669: RuntimeWarning: invalid value encountered in divide\n",
      "  sigma_f = np.sqrt(intenisty_s / intensity_cumsum -\n",
      "/Users/cmarshak/mambaforge/envs/dswx_val/lib/python3.11/site-packages/dswx_sar/initial_threshold.py:670: RuntimeWarning: invalid value encountered in divide\n",
      "  (intensity_area / intensity_cumsum) ** 2)\n",
      "/Users/cmarshak/mambaforge/envs/dswx_val/lib/python3.11/site-packages/dswx_sar/initial_threshold.py:675: RuntimeWarning: invalid value encountered in divide\n",
      "  sigma_b = np.sqrt(sb / cb - (mb / cb) ** 2)\n",
      "/Users/cmarshak/mambaforge/envs/dswx_val/lib/python3.11/site-packages/dswx_sar/initial_threshold.py:675: RuntimeWarning: invalid value encountered in sqrt\n",
      "  sigma_b = np.sqrt(sb / cb - (mb / cb) ** 2)\n",
      "/Users/cmarshak/mambaforge/envs/dswx_val/lib/python3.11/site-packages/dswx_sar/initial_threshold.py:680: RuntimeWarning: divide by zero encountered in log\n",
      "  normalized_int_cumsum * np.log(sigma_f) + \\\n",
      "/Users/cmarshak/mambaforge/envs/dswx_val/lib/python3.11/site-packages/dswx_sar/initial_threshold.py:682: RuntimeWarning: divide by zero encountered in log\n",
      "  normalized_int_cumsum * np.log(normalized_int_cumsum) - \\\n",
      "/Users/cmarshak/mambaforge/envs/dswx_val/lib/python3.11/site-packages/dswx_sar/initial_threshold.py:682: RuntimeWarning: invalid value encountered in multiply\n",
      "  normalized_int_cumsum * np.log(normalized_int_cumsum) - \\\n",
      "/Users/cmarshak/mambaforge/envs/dswx_val/lib/python3.11/site-packages/dswx_sar/initial_threshold.py:683: RuntimeWarning: divide by zero encountered in log\n",
      "  (1 - normalized_int_cumsum) * np.log(1 - normalized_int_cumsum)\n",
      "/Users/cmarshak/mambaforge/envs/dswx_val/lib/python3.11/site-packages/dswx_sar/initial_threshold.py:683: RuntimeWarning: invalid value encountered in multiply\n",
      "  (1 - normalized_int_cumsum) * np.log(1 - normalized_int_cumsum)\n",
      "/Users/cmarshak/mambaforge/envs/dswx_val/lib/python3.11/site-packages/dswx_sar/initial_threshold.py:681: RuntimeWarning: divide by zero encountered in log\n",
      "  (1 - normalized_int_cumsum) * np.log(sigma_b) - \\\n",
      "/Users/cmarshak/mambaforge/envs/dswx_val/lib/python3.11/site-packages/dswx_sar/initial_threshold.py:669: RuntimeWarning: invalid value encountered in divide\n",
      "  sigma_f = np.sqrt(intenisty_s / intensity_cumsum -\n",
      "/Users/cmarshak/mambaforge/envs/dswx_val/lib/python3.11/site-packages/dswx_sar/initial_threshold.py:670: RuntimeWarning: invalid value encountered in divide\n",
      "  (intensity_area / intensity_cumsum) ** 2)\n",
      "/Users/cmarshak/mambaforge/envs/dswx_val/lib/python3.11/site-packages/dswx_sar/initial_threshold.py:675: RuntimeWarning: invalid value encountered in divide\n",
      "  sigma_b = np.sqrt(sb / cb - (mb / cb) ** 2)\n",
      "/Users/cmarshak/mambaforge/envs/dswx_val/lib/python3.11/site-packages/dswx_sar/initial_threshold.py:675: RuntimeWarning: invalid value encountered in sqrt\n",
      "  sigma_b = np.sqrt(sb / cb - (mb / cb) ** 2)\n",
      "/Users/cmarshak/mambaforge/envs/dswx_val/lib/python3.11/site-packages/dswx_sar/initial_threshold.py:680: RuntimeWarning: divide by zero encountered in log\n",
      "  normalized_int_cumsum * np.log(sigma_f) + \\\n",
      "/Users/cmarshak/mambaforge/envs/dswx_val/lib/python3.11/site-packages/dswx_sar/initial_threshold.py:682: RuntimeWarning: divide by zero encountered in log\n",
      "  normalized_int_cumsum * np.log(normalized_int_cumsum) - \\\n",
      "/Users/cmarshak/mambaforge/envs/dswx_val/lib/python3.11/site-packages/dswx_sar/initial_threshold.py:682: RuntimeWarning: invalid value encountered in multiply\n",
      "  normalized_int_cumsum * np.log(normalized_int_cumsum) - \\\n",
      "/Users/cmarshak/mambaforge/envs/dswx_val/lib/python3.11/site-packages/dswx_sar/initial_threshold.py:683: RuntimeWarning: divide by zero encountered in log\n",
      "  (1 - normalized_int_cumsum) * np.log(1 - normalized_int_cumsum)\n",
      "/Users/cmarshak/mambaforge/envs/dswx_val/lib/python3.11/site-packages/dswx_sar/initial_threshold.py:683: RuntimeWarning: invalid value encountered in multiply\n",
      "  (1 - normalized_int_cumsum) * np.log(1 - normalized_int_cumsum)\n",
      "/Users/cmarshak/mambaforge/envs/dswx_val/lib/python3.11/site-packages/dswx_sar/initial_threshold.py:681: RuntimeWarning: divide by zero encountered in log\n",
      "  (1 - normalized_int_cumsum) * np.log(sigma_b) - \\\n",
      "/Users/cmarshak/mambaforge/envs/dswx_val/lib/python3.11/site-packages/dswx_sar/initial_threshold.py:675: RuntimeWarning: invalid value encountered in sqrt\n",
      "  sigma_b = np.sqrt(sb / cb - (mb / cb) ** 2)\n",
      "/Users/cmarshak/mambaforge/envs/dswx_val/lib/python3.11/site-packages/dswx_sar/initial_threshold.py:669: RuntimeWarning: invalid value encountered in sqrt\n",
      "  sigma_f = np.sqrt(intenisty_s / intensity_cumsum -\n",
      "/Users/cmarshak/mambaforge/envs/dswx_val/lib/python3.11/site-packages/dswx_sar/initial_threshold.py:669: RuntimeWarning: invalid value encountered in sqrt\n",
      "  sigma_f = np.sqrt(intenisty_s / intensity_cumsum -\n",
      "/Users/cmarshak/mambaforge/envs/dswx_val/lib/python3.11/site-packages/dswx_sar/initial_threshold.py:681: RuntimeWarning: divide by zero encountered in log\n",
      "  (1 - normalized_int_cumsum) * np.log(sigma_b) - \\\n",
      "/Users/cmarshak/mambaforge/envs/dswx_val/lib/python3.11/site-packages/dswx_sar/initial_threshold.py:681: RuntimeWarning: divide by zero encountered in log\n",
      "  (1 - normalized_int_cumsum) * np.log(sigma_b) - \\\n",
      "/Users/cmarshak/mambaforge/envs/dswx_val/lib/python3.11/site-packages/dswx_sar/initial_threshold.py:681: RuntimeWarning: divide by zero encountered in log\n",
      "  (1 - normalized_int_cumsum) * np.log(sigma_b) - \\\n",
      "/Users/cmarshak/mambaforge/envs/dswx_val/lib/python3.11/site-packages/dswx_sar/initial_threshold.py:681: RuntimeWarning: divide by zero encountered in log\n",
      "  (1 - normalized_int_cumsum) * np.log(sigma_b) - \\\n",
      "/Users/cmarshak/mambaforge/envs/dswx_val/lib/python3.11/site-packages/dswx_sar/initial_threshold.py:669: RuntimeWarning: invalid value encountered in sqrt\n",
      "  sigma_f = np.sqrt(intenisty_s / intensity_cumsum -\n",
      "/Users/cmarshak/mambaforge/envs/dswx_val/lib/python3.11/site-packages/dswx_sar/initial_threshold.py:681: RuntimeWarning: divide by zero encountered in log\n",
      "  (1 - normalized_int_cumsum) * np.log(sigma_b) - \\\n",
      "/Users/cmarshak/mambaforge/envs/dswx_val/lib/python3.11/site-packages/dswx_sar/initial_threshold.py:669: RuntimeWarning: invalid value encountered in sqrt\n",
      "  sigma_f = np.sqrt(intenisty_s / intensity_cumsum -\n",
      "/Users/cmarshak/mambaforge/envs/dswx_val/lib/python3.11/site-packages/dswx_sar/initial_threshold.py:681: RuntimeWarning: divide by zero encountered in log\n",
      "  (1 - normalized_int_cumsum) * np.log(sigma_b) - \\\n",
      "/Users/cmarshak/mambaforge/envs/dswx_val/lib/python3.11/site-packages/dswx_sar/initial_threshold.py:669: RuntimeWarning: invalid value encountered in sqrt\n",
      "  sigma_f = np.sqrt(intenisty_s / intensity_cumsum -\n",
      "/Users/cmarshak/mambaforge/envs/dswx_val/lib/python3.11/site-packages/dswx_sar/initial_threshold.py:669: RuntimeWarning: invalid value encountered in sqrt\n",
      "  sigma_f = np.sqrt(intenisty_s / intensity_cumsum -\n",
      "/Users/cmarshak/mambaforge/envs/dswx_val/lib/python3.11/site-packages/dswx_sar/initial_threshold.py:681: RuntimeWarning: divide by zero encountered in log\n",
      "  (1 - normalized_int_cumsum) * np.log(sigma_b) - \\\n",
      "/Users/cmarshak/mambaforge/envs/dswx_val/lib/python3.11/site-packages/dswx_sar/initial_threshold.py:681: RuntimeWarning: divide by zero encountered in log\n",
      "  (1 - normalized_int_cumsum) * np.log(sigma_b) - \\\n",
      "/Users/cmarshak/mambaforge/envs/dswx_val/lib/python3.11/site-packages/dswx_sar/initial_threshold.py:681: RuntimeWarning: divide by zero encountered in log\n",
      "  (1 - normalized_int_cumsum) * np.log(sigma_b) - \\\n",
      "/Users/cmarshak/mambaforge/envs/dswx_val/lib/python3.11/site-packages/dswx_sar/initial_threshold.py:669: RuntimeWarning: invalid value encountered in sqrt\n",
      "  sigma_f = np.sqrt(intenisty_s / intensity_cumsum -\n",
      "/Users/cmarshak/mambaforge/envs/dswx_val/lib/python3.11/site-packages/dswx_sar/initial_threshold.py:669: RuntimeWarning: invalid value encountered in sqrt\n",
      "  sigma_f = np.sqrt(intenisty_s / intensity_cumsum -\n",
      "Warning 1: libXML: 0: Element 'GeometryField', attribute 'separator': The attribute 'separator' is not allowed.\n"
     ]
    },
    {
     "name": "stdout",
     "output_type": "stream",
     "text": [
      "Grid data type is \"Float64\"\n",
      "Grid size = (9238 6146).\n",
      "Corner coordinates = (0.000000 6146.000000)-(9238.000000 0.000000).\n",
      "Grid cell size = (1.000000 -1.000000).\n",
      "Source point count = 550.\n",
      "Algorithm name: \"invdist\".\n",
      "Options are \"power=0.500000:smoothing=1.000000:radius1=800.000000:radius2=800.000000:angle=0.000000:max_points=0:min_points=1:nodata=0.000000\"\n",
      "\n",
      "0...10...20...30...40...50...60...70...80...90...100 - done.\n",
      " -- Reading /Users/cmarshak/bekaert-team/dswx-sar-workflow-pst/out/S1B_IW_SLC__1SDV_20211212T002818_20211212T002836_029985_03946A_6D2A/scratch/int_threshold_filled_VV.tif ... (6146, 9238)\n"
     ]
    },
    {
     "name": "stderr",
     "output_type": "stream",
     "text": [
      "Warning 1: libXML: 0: Element 'GeometryField', attribute 'separator': The attribute 'separator' is not allowed.\n"
     ]
    },
    {
     "name": "stdout",
     "output_type": "stream",
     "text": [
      "Grid data type is \"Float64\"\n",
      "Grid size = (9238 6146).\n",
      "Corner coordinates = (0.000000 6146.000000)-(9238.000000 0.000000).\n",
      "Grid cell size = (1.000000 -1.000000).\n",
      "Source point count = 583.\n",
      "Algorithm name: \"invdist\".\n",
      "Options are \"power=0.500000:smoothing=1.000000:radius1=800.000000:radius2=800.000000:angle=0.000000:max_points=0:min_points=1:nodata=0.000000\"\n",
      "\n",
      "0...10...20...30...40...50...60...70...80...90...100 - done.\n",
      " -- Reading /Users/cmarshak/bekaert-team/dswx-sar-workflow-pst/out/S1B_IW_SLC__1SDV_20211212T002818_20211212T002836_029985_03946A_6D2A/scratch/int_threshold_filled_VH.tif ... (6146, 9238)\n"
     ]
    },
    {
     "name": "stderr",
     "output_type": "stream",
     "text": [
      "Warning 1: libXML: 0: Element 'GeometryField', attribute 'separator': The attribute 'separator' is not allowed.\n"
     ]
    },
    {
     "name": "stdout",
     "output_type": "stream",
     "text": [
      "Grid data type is \"Float64\"\n",
      "Grid size = (9238 6146).\n",
      "Corner coordinates = (0.000000 6146.000000)-(9238.000000 0.000000).\n",
      "Grid cell size = (1.000000 -1.000000).\n",
      "Source point count = 550.\n",
      "Algorithm name: \"invdist\".\n",
      "Options are \"power=0.500000:smoothing=1.000000:radius1=800.000000:radius2=800.000000:angle=0.000000:max_points=0:min_points=1:nodata=0.000000\"\n",
      "\n",
      "0...10...20...30...40...50...60...70...80...90...100 - done.\n",
      " -- Reading /Users/cmarshak/bekaert-team/dswx-sar-workflow-pst/out/S1B_IW_SLC__1SDV_20211212T002818_20211212T002836_029985_03946A_6D2A/scratch/mode_tau_filled_VV.tif ... (6146, 9238)\n"
     ]
    },
    {
     "name": "stderr",
     "output_type": "stream",
     "text": [
      "Warning 1: libXML: 0: Element 'GeometryField', attribute 'separator': The attribute 'separator' is not allowed.\n"
     ]
    },
    {
     "name": "stdout",
     "output_type": "stream",
     "text": [
      "Grid data type is \"Float64\"\n",
      "Grid size = (9238 6146).\n",
      "Corner coordinates = (0.000000 6146.000000)-(9238.000000 0.000000).\n",
      "Grid cell size = (1.000000 -1.000000).\n",
      "Source point count = 583.\n",
      "Algorithm name: \"invdist\".\n",
      "Options are \"power=0.500000:smoothing=1.000000:radius1=800.000000:radius2=800.000000:angle=0.000000:max_points=0:min_points=1:nodata=0.000000\"\n",
      "\n",
      "0...10...20...30...40...50...60...70...80...90...100 - done.\n",
      " -- Reading /Users/cmarshak/bekaert-team/dswx-sar-workflow-pst/out/S1B_IW_SLC__1SDV_20211212T002818_20211212T002836_029985_03946A_6D2A/scratch/mode_tau_filled_VH.tif ... (6146, 9238)\n",
      " -- Reading /Users/cmarshak/bekaert-team/dswx-sar-workflow-pst/out/S1B_IW_SLC__1SDV_20211212T002818_20211212T002836_029985_03946A_6D2A/scratch/interpolated_DEM ... (6146, 9238)\n",
      "100 - done.\n",
      "0...10...20...30...40...50...60...70...80...90..."
     ]
    },
    {
     "name": "stderr",
     "output_type": "stream",
     "text": [
      "/Users/cmarshak/mambaforge/envs/dswx_val/lib/python3.11/site-packages/dswx_sar/fuzzy_value_computation.py:485: RuntimeWarning: Mean of empty slice\n",
      "  mean_intensity = np.nanmean(intensity, axis=0)\n",
      "/Users/cmarshak/mambaforge/envs/dswx_val/lib/python3.11/site-packages/osgeo/gdal.py:287: FutureWarning: Neither gdal.UseExceptions() nor gdal.DontUseExceptions() has been explicitly called. In GDAL 4.0, exceptions will be enabled by default.\n",
      "  warnings.warn(\n"
     ]
    },
    {
     "name": "stdout",
     "output_type": "stream",
     "text": [
      " -- Reading /Users/cmarshak/bekaert-team/dswx-sar-workflow-pst/out/S1B_IW_SLC__1SDV_20211212T002818_20211212T002836_029985_03946A_6D2A/scratch/fuzzy_image_VV_VH.tif ... (6146, 9238)\n",
      " -- Reading /Users/cmarshak/bekaert-team/dswx-sar-workflow-pst/out/S1B_IW_SLC__1SDV_20211212T002818_20211212T002836_029985_03946A_6D2A/scratch/temp_region_growing_VV_VH.tif ... (6146, 9238)\n",
      "Saving dswx product : /Users/cmarshak/bekaert-team/dswx-sar-workflow-pst/out/S1B_IW_SLC__1SDV_20211212T002818_20211212T002836_029985_03946A_6D2A/scratch/region_growing_output_binary_VV_VH.tif \n",
      "100 - done.\n",
      "0...10...20...30...40...50...60...70...80...90... -- Reading /Users/cmarshak/bekaert-team/dswx-sar-workflow-pst/out/S1B_IW_SLC__1SDV_20211212T002818_20211212T002836_029985_03946A_6D2A/scratch/region_growing_output_binary_VV_VH.tif ... (6146, 9238)\n",
      " -- Reading /Users/cmarshak/bekaert-team/dswx-sar-workflow-pst/out/S1B_IW_SLC__1SDV_20211212T002818_20211212T002836_029985_03946A_6D2A/scratch/filtered_image_VV_VH.tif ... (2, 6146, 9238)\n",
      " -- Reading /Users/cmarshak/bekaert-team/dswx-sar-workflow-pst/out/S1B_IW_SLC__1SDV_20211212T002818_20211212T002836_029985_03946A_6D2A/scratch/interpolated_wbd ... (6146, 9238)\n",
      " -- Reading /Users/cmarshak/bekaert-team/dswx-sar-workflow-pst/out/S1B_IW_SLC__1SDV_20211212T002818_20211212T002836_029985_03946A_6D2A/scratch/interpolated_landcover ... (6146, 9238)\n",
      "100 - done.\n",
      "0...10...20...30...40...50...60...70...80...90...100 - done.\n",
      "0...10...20...30...40...50...60...70...80...90...Saving dswx product : /Users/cmarshak/bekaert-team/dswx-sar-workflow-pst/out/S1B_IW_SLC__1SDV_20211212T002818_20211212T002836_029985_03946A_6D2A/scratch/maskedout_ancillary_2_landcover.tif \n",
      "100 - done.\n",
      "0...10...20...30...40...50...60...70...80...90..."
     ]
    },
    {
     "name": "stderr",
     "output_type": "stream",
     "text": [
      "/Users/cmarshak/mambaforge/envs/dswx_val/lib/python3.11/site-packages/numpy/core/fromnumeric.py:3504: RuntimeWarning: Mean of empty slice.\n",
      "  return _methods._mean(a, axis=axis, dtype=dtype,\n",
      "/Users/cmarshak/mambaforge/envs/dswx_val/lib/python3.11/site-packages/numpy/core/fromnumeric.py:3504: RuntimeWarning: Mean of empty slice.\n",
      "  return _methods._mean(a, axis=axis, dtype=dtype,\n",
      "/Users/cmarshak/mambaforge/envs/dswx_val/lib/python3.11/site-packages/numpy/core/_methods.py:129: RuntimeWarning: invalid value encountered in scalar divide\n",
      "  ret = ret.dtype.type(ret / rcount)\n",
      "/Users/cmarshak/mambaforge/envs/dswx_val/lib/python3.11/site-packages/numpy/core/_methods.py:129: RuntimeWarning: invalid value encountered in scalar divide\n",
      "  ret = ret.dtype.type(ret / rcount)\n",
      "/Users/cmarshak/mambaforge/envs/dswx_val/lib/python3.11/site-packages/numpy/core/fromnumeric.py:3504: RuntimeWarning: Mean of empty slice.\n",
      "  return _methods._mean(a, axis=axis, dtype=dtype,\n",
      "/Users/cmarshak/mambaforge/envs/dswx_val/lib/python3.11/site-packages/numpy/core/_methods.py:129: RuntimeWarning: invalid value encountered in scalar divide\n",
      "  ret = ret.dtype.type(ret / rcount)\n",
      "/Users/cmarshak/mambaforge/envs/dswx_val/lib/python3.11/site-packages/numpy/core/fromnumeric.py:3504: RuntimeWarning: Mean of empty slice.\n",
      "  return _methods._mean(a, axis=axis, dtype=dtype,\n",
      "/Users/cmarshak/mambaforge/envs/dswx_val/lib/python3.11/site-packages/numpy/core/_methods.py:129: RuntimeWarning: invalid value encountered in scalar divide\n",
      "  ret = ret.dtype.type(ret / rcount)\n",
      "/Users/cmarshak/mambaforge/envs/dswx_val/lib/python3.11/site-packages/numpy/core/fromnumeric.py:3504: RuntimeWarning: Mean of empty slice.\n",
      "  return _methods._mean(a, axis=axis, dtype=dtype,\n",
      "/Users/cmarshak/mambaforge/envs/dswx_val/lib/python3.11/site-packages/numpy/core/_methods.py:129: RuntimeWarning: invalid value encountered in scalar divide\n",
      "  ret = ret.dtype.type(ret / rcount)\n",
      "/Users/cmarshak/mambaforge/envs/dswx_val/lib/python3.11/site-packages/numpy/core/fromnumeric.py:3504: RuntimeWarning: Mean of empty slice.\n",
      "  return _methods._mean(a, axis=axis, dtype=dtype,\n",
      "/Users/cmarshak/mambaforge/envs/dswx_val/lib/python3.11/site-packages/numpy/core/_methods.py:129: RuntimeWarning: invalid value encountered in scalar divide\n",
      "  ret = ret.dtype.type(ret / rcount)\n",
      "/Users/cmarshak/mambaforge/envs/dswx_val/lib/python3.11/site-packages/numpy/core/fromnumeric.py:3504: RuntimeWarning: Mean of empty slice.\n",
      "  return _methods._mean(a, axis=axis, dtype=dtype,\n",
      "/Users/cmarshak/mambaforge/envs/dswx_val/lib/python3.11/site-packages/numpy/core/_methods.py:129: RuntimeWarning: invalid value encountered in scalar divide\n",
      "  ret = ret.dtype.type(ret / rcount)\n",
      "/Users/cmarshak/mambaforge/envs/dswx_val/lib/python3.11/site-packages/numpy/core/fromnumeric.py:3504: RuntimeWarning: Mean of empty slice.\n",
      "  return _methods._mean(a, axis=axis, dtype=dtype,\n",
      "/Users/cmarshak/mambaforge/envs/dswx_val/lib/python3.11/site-packages/numpy/core/_methods.py:129: RuntimeWarning: invalid value encountered in scalar divide\n",
      "  ret = ret.dtype.type(ret / rcount)\n",
      "/Users/cmarshak/mambaforge/envs/dswx_val/lib/python3.11/site-packages/numpy/core/fromnumeric.py:3504: RuntimeWarning: Mean of empty slice.\n",
      "  return _methods._mean(a, axis=axis, dtype=dtype,\n",
      "/Users/cmarshak/mambaforge/envs/dswx_val/lib/python3.11/site-packages/numpy/core/_methods.py:129: RuntimeWarning: invalid value encountered in scalar divide\n",
      "  ret = ret.dtype.type(ret / rcount)\n",
      "/Users/cmarshak/mambaforge/envs/dswx_val/lib/python3.11/site-packages/numpy/core/fromnumeric.py:3504: RuntimeWarning: Mean of empty slice.\n",
      "  return _methods._mean(a, axis=axis, dtype=dtype,\n",
      "/Users/cmarshak/mambaforge/envs/dswx_val/lib/python3.11/site-packages/numpy/core/_methods.py:129: RuntimeWarning: invalid value encountered in scalar divide\n",
      "  ret = ret.dtype.type(ret / rcount)\n",
      "/Users/cmarshak/mambaforge/envs/dswx_val/lib/python3.11/site-packages/joblib/externals/loky/process_executor.py:752: UserWarning: A worker stopped while some jobs were given to the executor. This can be caused by a too short worker timeout or by a memory leak.\n",
      "  warnings.warn(\n",
      "/Users/cmarshak/mambaforge/envs/dswx_val/lib/python3.11/site-packages/numpy/core/fromnumeric.py:3504: RuntimeWarning: Mean of empty slice.\n",
      "  return _methods._mean(a, axis=axis, dtype=dtype,\n",
      "/Users/cmarshak/mambaforge/envs/dswx_val/lib/python3.11/site-packages/numpy/core/_methods.py:129: RuntimeWarning: invalid value encountered in scalar divide\n",
      "  ret = ret.dtype.type(ret / rcount)\n",
      "/Users/cmarshak/mambaforge/envs/dswx_val/lib/python3.11/site-packages/numpy/core/fromnumeric.py:3504: RuntimeWarning: Mean of empty slice.\n",
      "  return _methods._mean(a, axis=axis, dtype=dtype,\n",
      "/Users/cmarshak/mambaforge/envs/dswx_val/lib/python3.11/site-packages/numpy/core/_methods.py:129: RuntimeWarning: invalid value encountered in scalar divide\n",
      "  ret = ret.dtype.type(ret / rcount)\n",
      "/Users/cmarshak/mambaforge/envs/dswx_val/lib/python3.11/site-packages/numpy/core/fromnumeric.py:3504: RuntimeWarning: Mean of empty slice.\n",
      "  return _methods._mean(a, axis=axis, dtype=dtype,\n",
      "/Users/cmarshak/mambaforge/envs/dswx_val/lib/python3.11/site-packages/numpy/core/_methods.py:129: RuntimeWarning: invalid value encountered in scalar divide\n",
      "  ret = ret.dtype.type(ret / rcount)\n",
      "/Users/cmarshak/mambaforge/envs/dswx_val/lib/python3.11/site-packages/numpy/core/fromnumeric.py:3504: RuntimeWarning: Mean of empty slice.\n",
      "  return _methods._mean(a, axis=axis, dtype=dtype,\n",
      "/Users/cmarshak/mambaforge/envs/dswx_val/lib/python3.11/site-packages/numpy/core/_methods.py:129: RuntimeWarning: invalid value encountered in scalar divide\n",
      "  ret = ret.dtype.type(ret / rcount)\n",
      "/Users/cmarshak/mambaforge/envs/dswx_val/lib/python3.11/site-packages/numpy/core/fromnumeric.py:3504: RuntimeWarning: Mean of empty slice.\n",
      "  return _methods._mean(a, axis=axis, dtype=dtype,\n",
      "/Users/cmarshak/mambaforge/envs/dswx_val/lib/python3.11/site-packages/numpy/core/_methods.py:129: RuntimeWarning: invalid value encountered in scalar divide\n",
      "  ret = ret.dtype.type(ret / rcount)\n",
      "/Users/cmarshak/mambaforge/envs/dswx_val/lib/python3.11/site-packages/numpy/core/fromnumeric.py:3504: RuntimeWarning: Mean of empty slice.\n",
      "  return _methods._mean(a, axis=axis, dtype=dtype,\n",
      "/Users/cmarshak/mambaforge/envs/dswx_val/lib/python3.11/site-packages/numpy/core/_methods.py:129: RuntimeWarning: invalid value encountered in scalar divide\n",
      "  ret = ret.dtype.type(ret / rcount)\n",
      "/Users/cmarshak/mambaforge/envs/dswx_val/lib/python3.11/site-packages/numpy/core/fromnumeric.py:3504: RuntimeWarning: Mean of empty slice.\n",
      "  return _methods._mean(a, axis=axis, dtype=dtype,\n",
      "/Users/cmarshak/mambaforge/envs/dswx_val/lib/python3.11/site-packages/numpy/core/_methods.py:129: RuntimeWarning: invalid value encountered in scalar divide\n",
      "  ret = ret.dtype.type(ret / rcount)\n",
      "/Users/cmarshak/mambaforge/envs/dswx_val/lib/python3.11/site-packages/numpy/core/fromnumeric.py:3504: RuntimeWarning: Mean of empty slice.\n",
      "  return _methods._mean(a, axis=axis, dtype=dtype,\n",
      "/Users/cmarshak/mambaforge/envs/dswx_val/lib/python3.11/site-packages/numpy/core/_methods.py:129: RuntimeWarning: invalid value encountered in scalar divide\n",
      "  ret = ret.dtype.type(ret / rcount)\n",
      "/Users/cmarshak/mambaforge/envs/dswx_val/lib/python3.11/site-packages/numpy/core/fromnumeric.py:3504: RuntimeWarning: Mean of empty slice.\n",
      "  return _methods._mean(a, axis=axis, dtype=dtype,\n",
      "/Users/cmarshak/mambaforge/envs/dswx_val/lib/python3.11/site-packages/numpy/core/_methods.py:129: RuntimeWarning: invalid value encountered in scalar divide\n",
      "  ret = ret.dtype.type(ret / rcount)\n",
      "/Users/cmarshak/mambaforge/envs/dswx_val/lib/python3.11/site-packages/numpy/core/fromnumeric.py:3504: RuntimeWarning: Mean of empty slice.\n",
      "  return _methods._mean(a, axis=axis, dtype=dtype,\n",
      "/Users/cmarshak/mambaforge/envs/dswx_val/lib/python3.11/site-packages/numpy/core/_methods.py:129: RuntimeWarning: invalid value encountered in scalar divide\n",
      "  ret = ret.dtype.type(ret / rcount)\n",
      "/Users/cmarshak/mambaforge/envs/dswx_val/lib/python3.11/site-packages/numpy/core/fromnumeric.py:3504: RuntimeWarning: Mean of empty slice.\n",
      "  return _methods._mean(a, axis=axis, dtype=dtype,\n",
      "/Users/cmarshak/mambaforge/envs/dswx_val/lib/python3.11/site-packages/numpy/core/_methods.py:129: RuntimeWarning: invalid value encountered in scalar divide\n",
      "  ret = ret.dtype.type(ret / rcount)\n",
      "/Users/cmarshak/mambaforge/envs/dswx_val/lib/python3.11/site-packages/numpy/core/fromnumeric.py:3504: RuntimeWarning: Mean of empty slice.\n",
      "  return _methods._mean(a, axis=axis, dtype=dtype,\n",
      "/Users/cmarshak/mambaforge/envs/dswx_val/lib/python3.11/site-packages/numpy/core/_methods.py:129: RuntimeWarning: invalid value encountered in scalar divide\n",
      "  ret = ret.dtype.type(ret / rcount)\n",
      "/Users/cmarshak/mambaforge/envs/dswx_val/lib/python3.11/site-packages/numpy/core/fromnumeric.py:3504: RuntimeWarning: Mean of empty slice.\n",
      "  return _methods._mean(a, axis=axis, dtype=dtype,\n",
      "/Users/cmarshak/mambaforge/envs/dswx_val/lib/python3.11/site-packages/numpy/core/_methods.py:129: RuntimeWarning: invalid value encountered in scalar divide\n",
      "  ret = ret.dtype.type(ret / rcount)\n",
      "/Users/cmarshak/mambaforge/envs/dswx_val/lib/python3.11/site-packages/numpy/core/fromnumeric.py:3504: RuntimeWarning: Mean of empty slice.\n",
      "  return _methods._mean(a, axis=axis, dtype=dtype,\n",
      "/Users/cmarshak/mambaforge/envs/dswx_val/lib/python3.11/site-packages/numpy/core/_methods.py:129: RuntimeWarning: invalid value encountered in scalar divide\n",
      "  ret = ret.dtype.type(ret / rcount)\n",
      "/Users/cmarshak/mambaforge/envs/dswx_val/lib/python3.11/site-packages/numpy/core/fromnumeric.py:3504: RuntimeWarning: Mean of empty slice.\n",
      "  return _methods._mean(a, axis=axis, dtype=dtype,\n",
      "/Users/cmarshak/mambaforge/envs/dswx_val/lib/python3.11/site-packages/numpy/core/_methods.py:129: RuntimeWarning: invalid value encountered in scalar divide\n",
      "  ret = ret.dtype.type(ret / rcount)\n",
      "/Users/cmarshak/mambaforge/envs/dswx_val/lib/python3.11/site-packages/numpy/core/fromnumeric.py:3504: RuntimeWarning: Mean of empty slice.\n",
      "  return _methods._mean(a, axis=axis, dtype=dtype,\n",
      "/Users/cmarshak/mambaforge/envs/dswx_val/lib/python3.11/site-packages/numpy/core/_methods.py:129: RuntimeWarning: invalid value encountered in scalar divide\n",
      "  ret = ret.dtype.type(ret / rcount)\n",
      "/Users/cmarshak/mambaforge/envs/dswx_val/lib/python3.11/site-packages/numpy/core/fromnumeric.py:3504: RuntimeWarning: Mean of empty slice.\n",
      "  return _methods._mean(a, axis=axis, dtype=dtype,\n",
      "/Users/cmarshak/mambaforge/envs/dswx_val/lib/python3.11/site-packages/numpy/core/_methods.py:129: RuntimeWarning: invalid value encountered in scalar divide\n",
      "  ret = ret.dtype.type(ret / rcount)\n",
      "/Users/cmarshak/mambaforge/envs/dswx_val/lib/python3.11/site-packages/numpy/core/fromnumeric.py:3504: RuntimeWarning: Mean of empty slice.\n",
      "  return _methods._mean(a, axis=axis, dtype=dtype,\n",
      "/Users/cmarshak/mambaforge/envs/dswx_val/lib/python3.11/site-packages/numpy/core/_methods.py:129: RuntimeWarning: invalid value encountered in scalar divide\n",
      "  ret = ret.dtype.type(ret / rcount)\n",
      "/Users/cmarshak/mambaforge/envs/dswx_val/lib/python3.11/site-packages/numpy/core/fromnumeric.py:3504: RuntimeWarning: Mean of empty slice.\n",
      "  return _methods._mean(a, axis=axis, dtype=dtype,\n",
      "/Users/cmarshak/mambaforge/envs/dswx_val/lib/python3.11/site-packages/numpy/core/_methods.py:129: RuntimeWarning: invalid value encountered in scalar divide\n",
      "  ret = ret.dtype.type(ret / rcount)\n",
      "/Users/cmarshak/mambaforge/envs/dswx_val/lib/python3.11/site-packages/numpy/core/fromnumeric.py:3504: RuntimeWarning: Mean of empty slice.\n",
      "  return _methods._mean(a, axis=axis, dtype=dtype,\n",
      "/Users/cmarshak/mambaforge/envs/dswx_val/lib/python3.11/site-packages/numpy/core/_methods.py:129: RuntimeWarning: invalid value encountered in scalar divide\n",
      "  ret = ret.dtype.type(ret / rcount)\n",
      "/Users/cmarshak/mambaforge/envs/dswx_val/lib/python3.11/site-packages/numpy/core/fromnumeric.py:3504: RuntimeWarning: Mean of empty slice.\n",
      "  return _methods._mean(a, axis=axis, dtype=dtype,\n",
      "/Users/cmarshak/mambaforge/envs/dswx_val/lib/python3.11/site-packages/numpy/core/_methods.py:129: RuntimeWarning: invalid value encountered in scalar divide\n",
      "  ret = ret.dtype.type(ret / rcount)\n",
      "/Users/cmarshak/mambaforge/envs/dswx_val/lib/python3.11/site-packages/numpy/core/fromnumeric.py:3504: RuntimeWarning: Mean of empty slice.\n",
      "  return _methods._mean(a, axis=axis, dtype=dtype,\n",
      "/Users/cmarshak/mambaforge/envs/dswx_val/lib/python3.11/site-packages/numpy/core/_methods.py:129: RuntimeWarning: invalid value encountered in scalar divide\n",
      "  ret = ret.dtype.type(ret / rcount)\n",
      "/Users/cmarshak/mambaforge/envs/dswx_val/lib/python3.11/site-packages/numpy/core/fromnumeric.py:3504: RuntimeWarning: Mean of empty slice.\n",
      "  return _methods._mean(a, axis=axis, dtype=dtype,\n",
      "/Users/cmarshak/mambaforge/envs/dswx_val/lib/python3.11/site-packages/numpy/core/_methods.py:129: RuntimeWarning: invalid value encountered in scalar divide\n",
      "  ret = ret.dtype.type(ret / rcount)\n",
      "/Users/cmarshak/mambaforge/envs/dswx_val/lib/python3.11/site-packages/numpy/core/fromnumeric.py:3504: RuntimeWarning: Mean of empty slice.\n",
      "  return _methods._mean(a, axis=axis, dtype=dtype,\n",
      "/Users/cmarshak/mambaforge/envs/dswx_val/lib/python3.11/site-packages/numpy/core/_methods.py:129: RuntimeWarning: invalid value encountered in scalar divide\n",
      "  ret = ret.dtype.type(ret / rcount)\n",
      "/Users/cmarshak/mambaforge/envs/dswx_val/lib/python3.11/site-packages/numpy/core/fromnumeric.py:3504: RuntimeWarning: Mean of empty slice.\n",
      "  return _methods._mean(a, axis=axis, dtype=dtype,\n",
      "/Users/cmarshak/mambaforge/envs/dswx_val/lib/python3.11/site-packages/numpy/core/_methods.py:129: RuntimeWarning: invalid value encountered in scalar divide\n",
      "  ret = ret.dtype.type(ret / rcount)\n"
     ]
    },
    {
     "name": "stdout",
     "output_type": "stream",
     "text": [
      " -- Reading /Users/cmarshak/bekaert-team/dswx-sar-workflow-pst/out/S1B_IW_SLC__1SDV_20211212T002818_20211212T002836_029985_03946A_6D2A/scratch/interpolated_landcover ... (6146, 9238)\n",
      "Saving dswx product : /Users/cmarshak/bekaert-team/dswx-sar-workflow-pst/out/S1B_IW_SLC__1SDV_20211212T002818_20211212T002836_029985_03946A_6D2A/scratch/refine_landcover_binary_VV_VH.tif \n",
      "    no_data found 120\n",
      "100 - done.\n",
      "0...10...20...30...40...50...60...70...80...90... -- Reading /Users/cmarshak/bekaert-team/dswx-sar-workflow-pst/out/S1B_IW_SLC__1SDV_20211212T002818_20211212T002836_029985_03946A_6D2A/scratch/filtered_image_VV_VH.tif ... (2, 6146, 9238)\n",
      "Saving dswx product : /Users/cmarshak/bekaert-team/dswx-sar-workflow-pst/out/S1B_IW_SLC__1SDV_20211212T002818_20211212T002836_029985_03946A_6D2A/scratch/no_data_area_VV_VH.tif \n",
      "100 - done.\n",
      "0...10...20...30...40...50...60...70...80...90... -- Reading /Users/cmarshak/bekaert-team/dswx-sar-workflow-pst/out/S1B_IW_SLC__1SDV_20211212T002818_20211212T002836_029985_03946A_6D2A/scratch/refine_landcover_binary_VV_VH.tif ... (6146, 9238)\n",
      " -- Reading /Users/cmarshak/bekaert-team/dswx-sar-workflow-pst/out/S1B_IW_SLC__1SDV_20211212T002818_20211212T002836_029985_03946A_6D2A/scratch/interpolated_landcover ... (6146, 9238)\n",
      "100 - done.\n",
      "0...10...20...30...40...50...60...70...80...90...100 - done.\n",
      "0...10...20...30...40...50...60...70...80...90..."
     ]
    },
    {
     "name": "stderr",
     "output_type": "stream",
     "text": [
      "/Users/cmarshak/mambaforge/envs/dswx_val/lib/python3.11/site-packages/dswx_sar/refine_with_bimodality.py:150: RuntimeWarning: divide by zero encountered in divide\n",
      "  return amplitude * np.exp(-(array - mu)**2 / 2 / sigma ** 2)\n"
     ]
    },
    {
     "name": "stdout",
     "output_type": "stream",
     "text": [
      " -- Reading /Users/cmarshak/bekaert-team/dswx-sar-workflow-pst/out/S1B_IW_SLC__1SDV_20211212T002818_20211212T002836_029985_03946A_6D2A/scratch/no_data_area_VV_VH.tif ... (6146, 9238)\n",
      "100 - done.\n",
      "0...10...20...30...40...50...60...70...80...90...Saving dswx product : /Users/cmarshak/bekaert-team/dswx-sar-workflow-pst/out/S1B_IW_SLC__1SDV_20211212T002818_20211212T002836_029985_03946A_6D2A/scratch/bimodality_output_binary_VV_VH.tif \n",
      "100 - done.\n",
      "0...10...20...30...40...50...60...70...80...90...>> lee_enhanced_filter\n",
      " -- Reading /Users/cmarshak/bekaert-team/dswx-sar-workflow-pst/out/S1B_IW_SLC__1SDV_20211212T002818_20211212T002836_029985_03946A_6D2A/scratch/interpolated_landcover ... (6146, 9238)\n",
      " -- Reading /Users/cmarshak/bekaert-team/dswx-sar-workflow-pst/out/S1B_IW_SLC__1SDV_20211212T002818_20211212T002836_029985_03946A_6D2A/scratch/interpolated_landcover ... (6146, 9238)\n",
      "/Users/cmarshak/bekaert-team/dswx-sar-workflow-pst/out/S1B_IW_SLC__1SDV_20211212T002818_20211212T002836_029985_03946A_6D2A/scratch/temp_inundated_vegetation.tif (6146, 9238)\n",
      "Saving dswx product : /Users/cmarshak/bekaert-team/dswx-sar-workflow-pst/out/S1B_IW_SLC__1SDV_20211212T002818_20211212T002836_029985_03946A_6D2A/scratch/temp_inundated_vegetation.tif \n",
      "100 - done.\n",
      "0...10...20...30...40...50...60...70...80...90..."
     ]
    },
    {
     "name": "stderr",
     "output_type": "stream",
     "text": [
      "WARNING: product version was not provided.\n",
      "WARNING: Either the MGRS tile or the MGRS collection database was not provided.\n"
     ]
    },
    {
     "name": "stdout",
     "output_type": "stream",
     "text": [
      " -- Reading /Users/cmarshak/bekaert-team/dswx-sar-workflow-pst/out/S1B_IW_SLC__1SDV_20211212T002818_20211212T002836_029985_03946A_6D2A/scratch/bimodality_output_binary_VV_VH.tif ... (6146, 9238)\n",
      " -- Reading /Users/cmarshak/bekaert-team/dswx-sar-workflow-pst/out/S1B_IW_SLC__1SDV_20211212T002818_20211212T002836_029985_03946A_6D2A/scratch/no_data_area_VV_VH.tif ... (6146, 9238)\n",
      " -- Reading /Users/cmarshak/bekaert-team/dswx-sar-workflow-pst/out/S1B_IW_SLC__1SDV_20211212T002818_20211212T002836_029985_03946A_6D2A/scratch/mosaic_layovershadow_mask.tif ... (6146, 9238)\n",
      " -- Reading /Users/cmarshak/bekaert-team/dswx-sar-workflow-pst/out/S1B_IW_SLC__1SDV_20211212T002818_20211212T002836_029985_03946A_6D2A/scratch/interpolated_hand ... (6146, 9238)\n",
      " -- Reading /Users/cmarshak/bekaert-team/dswx-sar-workflow-pst/out/S1B_IW_SLC__1SDV_20211212T002818_20211212T002836_029985_03946A_6D2A/scratch/temp_inundated_vegetation.tif ... (6146, 9238)\n",
      " -- Reading /Users/cmarshak/bekaert-team/dswx-sar-workflow-pst/out/S1B_IW_SLC__1SDV_20211212T002818_20211212T002836_029985_03946A_6D2A/scratch/region_growing_output_binary_VV_VH.tif ... (6146, 9238)\n",
      " -- Reading /Users/cmarshak/bekaert-team/dswx-sar-workflow-pst/out/S1B_IW_SLC__1SDV_20211212T002818_20211212T002836_029985_03946A_6D2A/scratch/refine_landcover_binary_VV_VH.tif ... (6146, 9238)\n",
      "Saving dswx product : /Users/cmarshak/bekaert-team/dswx-sar-workflow-pst/out/S1B_IW_SLC__1SDV_20211212T002818_20211212T002836_029985_03946A_6D2A/scratch/full_water_binary_WTR_set.tif \n",
      "    bright_water_fill found 2\n",
      "    dark_land_mask found 3\n",
      "    landcover_mask found 4\n",
      "    hand_mask found 5\n",
      "    layover_shadow_mask found 6\n",
      "    inundated_vegetation found 7\n",
      "    no_data found 120\n",
      "100 - done.\n",
      "0...10...20...30...40...50...60...70...80...90...Saving dswx product : /Users/cmarshak/bekaert-team/dswx-sar-workflow-pst/out/S1B_IW_SLC__1SDV_20211212T002818_20211212T002836_029985_03946A_6D2A/scratch/full_water_binary_BWTR_set.tif \n",
      "    hand_mask found 5\n",
      "    layover_shadow_mask found 6\n",
      "    inundated_vegetation found 7\n",
      "    no_data found 120\n",
      "100 - done.\n",
      "0...10...20...30...40...50...60...70...80...90... -- Reading /Users/cmarshak/bekaert-team/dswx-sar-workflow-pst/out/S1B_IW_SLC__1SDV_20211212T002818_20211212T002836_029985_03946A_6D2A/scratch/fuzzy_image_VV_VH.tif ... (6146, 9238)\n",
      "Saving dswx product : /Users/cmarshak/bekaert-team/dswx-sar-workflow-pst/out/S1B_IW_SLC__1SDV_20211212T002818_20211212T002836_029985_03946A_6D2A/scratch/full_water_binary_CONF_set.tif \n",
      "    no_data found 120\n",
      "    hand_mask found 252\n",
      "    layover_shadow_mask found 253\n",
      "100 - done.\n",
      "0...10...20...30...40...50...60...70...80...90...100 - done.\n",
      "0...10...20...30...40...50...60...70...80...90...100 - done.\n",
      "0...10...20...30...40...50...60...70...80...90...100 - done.\n",
      "0...10...20...30...40...50...60...70...80...90...100 - done.\n",
      "0...10...20...30...40...50...60...70...80...90...100 - done.\n",
      "0...10...20...30...40...50...60...70...80...90...100 - done.\n",
      "0...10...20...30...40...50...60...70...80...90...100 - done.\n",
      "0...10...20...30...40...50...60...70...80...90...100 - done.\n",
      "0...10...20...30...40...50...60...70...80...90...100 - done.\n",
      "0...10...20...30...40...50...60...70...80...90...100 - done.\n",
      "0...10...20...30...40...50...60...70...80...90...100 - done.\n",
      "0...10...20...30...40...50...60...70...80...90...100 - done.\n",
      "0...10...20...30...40...50...60...70...80...90...100 - done.\n",
      "0...10...20...30...40...50...60...70...80...90...100 - done.\n",
      "0...10...20...30...40...50...60...70...80...90...100 - done.\n",
      "0...10...20...30...40...50...60...70...80...90...100 - done.\n",
      "0...10...20...30...40...50...60...70...80...90...100 - done.\n",
      "0...10...20...30...40...50...60...70...80...90...100 - done.\n",
      "0...10...20...30...40...50...60...70...80...90...100 - done.\n",
      "0...10...20...30...40...50...60...70...80...90...100 - done.\n",
      "0...10...20...30...40...50...60...70...80...90...100 - done.\n",
      "0...10...20...30...40...50...60...70...80...90...100 - done.\n",
      "0...10...20...30...40...50...60...70...80...90...100 - done.\n",
      "0...10...20...30...40...50...60...70...80...90...100 - done.\n",
      "0...10...20...30...40...50...60...70...80...90...100 - done.\n",
      "0...10...20...30...40...50...60...70...80...90...100 - done.\n",
      "0...10...20...30...40...50...60...70...80...90...100 - done.\n",
      "0...10...20...30...40...50...60...70...80...90...100 - done.\n",
      "0...10...20...30...40...50...60...70...80...90...100 - done.\n",
      "0...10...20...30...40...50...60...70...80...90...100 - done.\n",
      "0...10...20...30...40...50...60...70...80...90...100 - done.\n",
      "0...10...20...30...40...50...60...70...80...90...100 - done.\n",
      "0...10...20...30...40...50...60...70...80...90...100 - done.\n",
      "0...10...20...30...40...50...60...70...80...90...100 - done.\n",
      "0...10...20...30...40...50...60...70...80...90...100 - done.\n",
      "0...10...20...30...40...50...60...70...80...90...100 - done.\n",
      "0...10...20...30...40...50...60...70...80...90..."
     ]
    }
   ],
   "source": [
    "from dswx_sar.dswx_s1 import dswx_s1_workflow\n",
    "\n",
    "dswx_s1_workflow(cfg)"
   ]
  }
 ],
 "metadata": {
  "kernelspec": {
   "display_name": "dswx_val",
   "language": "python",
   "name": "dswx_val"
  },
  "language_info": {
   "codemirror_mode": {
    "name": "ipython",
    "version": 3
   },
   "file_extension": ".py",
   "mimetype": "text/x-python",
   "name": "python",
   "nbconvert_exporter": "python",
   "pygments_lexer": "ipython3",
   "version": "3.11.6"
  }
 },
 "nbformat": 4,
 "nbformat_minor": 5
}

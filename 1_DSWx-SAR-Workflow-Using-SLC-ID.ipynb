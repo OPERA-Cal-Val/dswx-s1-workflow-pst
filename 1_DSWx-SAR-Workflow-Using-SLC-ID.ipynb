{
 "cells": [
  {
   "cell_type": "markdown",
   "id": "a99262e7-6309-4b66-9783-fda50ceaa892",
   "metadata": {},
   "source": [
    "The purpose of this notebook is to:\n",
    "\n",
    "1. Localize all the necessary data to run DSWx-SAR\n",
    "2. Create a `yaml` file (proverbially called a RunConfig) for DSWx-SAR\n",
    "3. Run DSWx-SAR\n",
    "\n",
    "Most of the code is focused on 1. There are some small todos:\n",
    "\n",
    "+ Provide an option to serialize data (since re-localizing data takes time and all we need is path)\n",
    "+ Possibly replace SLC_ID look up in HySDS PST DB with a look up in a table so users don't have to be on PST."
   ]
  },
  {
   "cell_type": "code",
   "execution_count": 1,
   "id": "27145d1a-3179-4e53-a245-0f1692c4e1d2",
   "metadata": {},
   "outputs": [],
   "source": [
    "%load_ext autoreload\n",
    "%autoreload 2"
   ]
  },
  {
   "cell_type": "code",
   "execution_count": 54,
   "id": "634938b0-3dc5-4876-a1ee-055fd25239bc",
   "metadata": {},
   "outputs": [],
   "source": [
    "import asf_search as asf\n",
    "import geopandas as gpd\n",
    "import pandas as pd\n",
    "import rasterio\n",
    "import datetime\n",
    "from shapely.geometry import shape, Point, box\n",
    "from rasterio.crs import CRS\n",
    "from pathlib import Path\n",
    "from dem_stitcher import stitch_dem\n",
    "from hand import compute_hand\n",
    "from tile_stitcher import get_raster_from_tiles\n",
    "from download_rtc import get_search_client, get_rtc_urls, download_rtc_products, get_burst_df\n",
    "from dataclasses import dataclass\n",
    "import yaml\n",
    "from dswx_sar.dswx_runconfig import RunConfig, WORKFLOW_SCRIPTS_DIR\n",
    "import requests\n",
    "from dswx_sar.dswx_s1 import dswx_s1_workflow\n"
   ]
  },
  {
   "cell_type": "code",
   "execution_count": 3,
   "id": "84fd60d7-4c49-40d2-90ac-2be5d625bf94",
   "metadata": {},
   "outputs": [
    {
     "data": {
      "text/plain": [
       "'/Users/cmarshak/bekaert-team/DSWX-SAR/src/dswx_sar'"
      ]
     },
     "execution_count": 3,
     "metadata": {},
     "output_type": "execute_result"
    }
   ],
   "source": [
    "WORKFLOW_SCRIPTS_DIR"
   ]
  },
  {
   "cell_type": "markdown",
   "id": "4854fc8d-20ff-420b-9567-cd8052d7001b",
   "metadata": {},
   "source": [
    "# Parameters"
   ]
  },
  {
   "cell_type": "code",
   "execution_count": 4,
   "id": "470f0a25-8a05-4464-b822-4d09e1b2df9f",
   "metadata": {},
   "outputs": [],
   "source": [
    "## PST S3 Sample\n",
    "\n",
    "# SLC_ID = 'S1B_IW_SLC__1SDV_20211212T002818_20211212T002836_029985_03946A_6D2A'\n",
    "# USE_ASF_DAAC = False\n",
    "\n",
    "## ASF DAAC\n",
    "\n",
    "SLC_ID = 'S1A_IW_SLC__1SDV_20240108T232450_20240108T232517_052022_06495E_2EAD'\n",
    "USE_ASF_DAAC = True"
   ]
  },
  {
   "cell_type": "markdown",
   "id": "6d6b1154-70fa-4a63-be01-b2eba2f3723c",
   "metadata": {},
   "source": [
    "# Out Directory"
   ]
  },
  {
   "cell_type": "code",
   "execution_count": 5,
   "id": "a09960f0-0928-4b32-8fda-fd505221fc59",
   "metadata": {},
   "outputs": [],
   "source": [
    "out_directory = Path('out') / SLC_ID\n",
    "out_directory.mkdir(exist_ok=True, parents=True)"
   ]
  },
  {
   "cell_type": "markdown",
   "id": "e474f3d0-9aab-4dee-a172-73470ba8dbb7",
   "metadata": {},
   "source": [
    "## Get SLC Metadata"
   ]
  },
  {
   "cell_type": "code",
   "execution_count": 6,
   "id": "c23e5fef-3087-4a82-96df-151893ffbd20",
   "metadata": {},
   "outputs": [
    {
     "data": {
      "text/html": [
       "<div>\n",
       "<style scoped>\n",
       "    .dataframe tbody tr th:only-of-type {\n",
       "        vertical-align: middle;\n",
       "    }\n",
       "\n",
       "    .dataframe tbody tr th {\n",
       "        vertical-align: top;\n",
       "    }\n",
       "\n",
       "    .dataframe thead th {\n",
       "        text-align: right;\n",
       "    }\n",
       "</style>\n",
       "<table border=\"1\" class=\"dataframe\">\n",
       "  <thead>\n",
       "    <tr style=\"text-align: right;\">\n",
       "      <th></th>\n",
       "      <th>beamModeType</th>\n",
       "      <th>browse</th>\n",
       "      <th>bytes</th>\n",
       "      <th>centerLat</th>\n",
       "      <th>centerLon</th>\n",
       "      <th>faradayRotation</th>\n",
       "      <th>fileID</th>\n",
       "      <th>flightDirection</th>\n",
       "      <th>groupID</th>\n",
       "      <th>granuleType</th>\n",
       "      <th>...</th>\n",
       "      <th>sensor</th>\n",
       "      <th>startTime</th>\n",
       "      <th>stopTime</th>\n",
       "      <th>url</th>\n",
       "      <th>pgeVersion</th>\n",
       "      <th>fileName</th>\n",
       "      <th>frameNumber</th>\n",
       "      <th>geometry</th>\n",
       "      <th>range_start</th>\n",
       "      <th>range_end</th>\n",
       "    </tr>\n",
       "  </thead>\n",
       "  <tbody>\n",
       "    <tr>\n",
       "      <th>0</th>\n",
       "      <td>IW</td>\n",
       "      <td>None</td>\n",
       "      <td>7887315666</td>\n",
       "      <td>42.6384</td>\n",
       "      <td>-82.3951</td>\n",
       "      <td>None</td>\n",
       "      <td>S1A_IW_SLC__1SDV_20240108T232450_20240108T2325...</td>\n",
       "      <td>ASCENDING</td>\n",
       "      <td>S1A_IWDV_0135_0141_052022_150</td>\n",
       "      <td>SENTINEL_1A_FRAME</td>\n",
       "      <td>...</td>\n",
       "      <td>C-SAR</td>\n",
       "      <td>2024-01-08T23:24:50.731Z</td>\n",
       "      <td>2024-01-08T23:25:17.679Z</td>\n",
       "      <td>https://datapool.asf.alaska.edu/SLC/SA/S1A_IW_...</td>\n",
       "      <td>003.71</td>\n",
       "      <td>S1A_IW_SLC__1SDV_20240108T232450_20240108T2325...</td>\n",
       "      <td>135</td>\n",
       "      <td>POLYGON ((-84.15382 43.23674, -83.72439 41.619...</td>\n",
       "      <td>2024-01-08 23:24:50.731000+00:00</td>\n",
       "      <td>2024-01-09 23:24:50.731000+00:00</td>\n",
       "    </tr>\n",
       "  </tbody>\n",
       "</table>\n",
       "<p>1 rows × 31 columns</p>\n",
       "</div>"
      ],
      "text/plain": [
       "  beamModeType browse       bytes  centerLat  centerLon faradayRotation  \\\n",
       "0           IW   None  7887315666    42.6384   -82.3951            None   \n",
       "\n",
       "                                              fileID flightDirection  \\\n",
       "0  S1A_IW_SLC__1SDV_20240108T232450_20240108T2325...       ASCENDING   \n",
       "\n",
       "                         groupID        granuleType  ... sensor  \\\n",
       "0  S1A_IWDV_0135_0141_052022_150  SENTINEL_1A_FRAME  ...  C-SAR   \n",
       "\n",
       "                  startTime                  stopTime  \\\n",
       "0  2024-01-08T23:24:50.731Z  2024-01-08T23:25:17.679Z   \n",
       "\n",
       "                                                 url  pgeVersion  \\\n",
       "0  https://datapool.asf.alaska.edu/SLC/SA/S1A_IW_...      003.71   \n",
       "\n",
       "                                            fileName frameNumber  \\\n",
       "0  S1A_IW_SLC__1SDV_20240108T232450_20240108T2325...         135   \n",
       "\n",
       "                                            geometry  \\\n",
       "0  POLYGON ((-84.15382 43.23674, -83.72439 41.619...   \n",
       "\n",
       "                       range_start                        range_end  \n",
       "0 2024-01-08 23:24:50.731000+00:00 2024-01-09 23:24:50.731000+00:00  \n",
       "\n",
       "[1 rows x 31 columns]"
      ]
     },
     "execution_count": 6,
     "metadata": {},
     "output_type": "execute_result"
    }
   ],
   "source": [
    "opts = asf.ASFSearchOptions(processingLevel=[asf.PRODUCT_TYPE.SLC],\n",
    "                            beamMode=[asf.BEAMMODE.IW],\n",
    "                            platform=[asf.PLATFORM.SENTINEL1]\n",
    "                            )\n",
    "\n",
    "resp = asf.granule_search([SLC_ID], opts=opts)\n",
    "geometry = [shape(r.geojson()['geometry']) for r in resp]\n",
    "properties = [r.properties for r in resp]\n",
    "df_slc = gpd.GeoDataFrame(properties,\n",
    "                          geometry=geometry, crs=CRS.from_epsg(4326))\n",
    "df_slc['range_start'] = pd.to_datetime(df_slc.startTime)\n",
    "df_slc['range_end'] = df_slc['range_start'] + pd.Timedelta(days=1)\n",
    "df_slc.head()"
   ]
  },
  {
   "cell_type": "code",
   "execution_count": 7,
   "id": "76866acd-f00a-4edc-b71f-d5d5948c970c",
   "metadata": {},
   "outputs": [],
   "source": [
    "if (USE_ASF_DAAC) and (df_slc['range_start'][0] < pd.Timestamp('2023-10-01T00:00:00', tz='UTC')):\n",
    "    raise ValueError('OPERA only started generating RTC products in October 2023')"
   ]
  },
  {
   "cell_type": "code",
   "execution_count": 8,
   "id": "b15fd642-32d6-490b-a1ea-df1ef4ffc131",
   "metadata": {},
   "outputs": [
    {
     "data": {
      "text/plain": [
       "<Axes: >"
      ]
     },
     "execution_count": 8,
     "metadata": {},
     "output_type": "execute_result"
    },
    {
     "data": {
      "image/png": "[encoded data removed]",
      "text/plain": [
       "<Figure size 640x480 with 1 Axes>"
      ]
     },
     "metadata": {},
     "output_type": "display_data"
    }
   ],
   "source": [
    "df_slc.plot()"
   ]
  },
  {
   "cell_type": "markdown",
   "id": "0db69962-1e48-4e83-b50f-0547904bb48f",
   "metadata": {},
   "source": [
    "# Auxiliary Datasets\n",
    "\n",
    "## DEM"
   ]
  },
  {
   "cell_type": "code",
   "execution_count": 59,
   "id": "1fc16d7a-fda3-49ad-a426-c590a72a70c1",
   "metadata": {},
   "outputs": [
    {
     "name": "stdout",
     "output_type": "stream",
     "text": [
      "[-84.153824, 41.619595, -80.669395, 43.635811]\n"
     ]
    },
    {
     "data": {
      "text/plain": [
       "[-85.153824, 40.619595, -79.669395, 44.635811]"
      ]
     },
     "execution_count": 59,
     "metadata": {},
     "output_type": "execute_result"
    }
   ],
   "source": [
    "bounds = list(df_slc.total_bounds)\n",
    "print(bounds)\n",
    "bounds_buffered = list(box(*bounds).buffer(1).bounds)\n",
    "bounds_buffered"
   ]
  },
  {
   "cell_type": "code",
   "execution_count": 11,
   "id": "123fcc58-0b5d-494f-82d9-30be7b487632",
   "metadata": {},
   "outputs": [
    {
     "name": "stderr",
     "output_type": "stream",
     "text": [
      "Reading glo_30 Datasets: 100%|███████████████████████████████████████████| 35/35 [00:41<00:00,  1.20s/it]\n"
     ]
    }
   ],
   "source": [
    "dst_area_or_point = 'Point'\n",
    "dem, p_dem = stitch_dem(bounds_buffered, \n",
    "                  'glo_30', \n",
    "                  dst_area_or_point=dst_area_or_point, \n",
    "                  dst_ellipsoidal_height=False)"
   ]
  },
  {
   "cell_type": "code",
   "execution_count": 12,
   "id": "20c4c7be-64cd-4971-8ef8-e251e781e759",
   "metadata": {},
   "outputs": [],
   "source": [
    "dem_path = out_directory / 'glo30_dem.tif'"
   ]
  },
  {
   "cell_type": "code",
   "execution_count": 13,
   "id": "e17c29c1-cd45-4b05-93d7-525a9684ce9a",
   "metadata": {},
   "outputs": [],
   "source": [
    "with rasterio.open(dem_path, 'w', **p_dem) as ds:\n",
    "   ds.write(dem, 1)\n",
    "   ds.update_tags(AREA_OR_POINT='Point')"
   ]
  },
  {
   "cell_type": "markdown",
   "id": "e8572031-8106-4de3-af09-b7a55473aa74",
   "metadata": {},
   "source": [
    "## HAND"
   ]
  },
  {
   "cell_type": "code",
   "execution_count": 14,
   "id": "2103facf-2962-4927-a58b-546f888ec48c",
   "metadata": {},
   "outputs": [
    {
     "name": "stdout",
     "output_type": "stream",
     "text": [
      "CPU times: user 3min 11s, sys: 16.7 s, total: 3min 27s\n",
      "Wall time: 3min 2s\n"
     ]
    }
   ],
   "source": [
    "%%time\n",
    "\n",
    "hand = compute_hand(dem_path)"
   ]
  },
  {
   "cell_type": "code",
   "execution_count": 15,
   "id": "ed337ad6-9884-4302-b800-9270c1274dfd",
   "metadata": {},
   "outputs": [],
   "source": [
    "hand_path = out_directory / f'hand.tif'"
   ]
  },
  {
   "cell_type": "code",
   "execution_count": 16,
   "id": "f8444371-a853-4651-a957-5db55feaf8b2",
   "metadata": {},
   "outputs": [],
   "source": [
    "with rasterio.open(hand_path, 'w', **p_dem) as ds:\n",
    "    ds.write(hand, 1)"
   ]
  },
  {
   "cell_type": "markdown",
   "id": "4f2ccd5d-6be1-4e88-9385-ed89302c6fe9",
   "metadata": {},
   "source": [
    "## Pekel"
   ]
  },
  {
   "cell_type": "code",
   "execution_count": 17,
   "id": "332caa3b-2731-4fa8-8423-1b51dd27393a",
   "metadata": {},
   "outputs": [],
   "source": [
    "X_occ, p_occ = get_raster_from_tiles(bounds_buffered, tile_shortname='peckel_water_occ_2021')"
   ]
  },
  {
   "cell_type": "code",
   "execution_count": 18,
   "id": "d57f7c26-fde6-48cf-9937-2d6bc6e940f3",
   "metadata": {},
   "outputs": [],
   "source": [
    "occ_path = out_directory / 'pekel_occ.tif'"
   ]
  },
  {
   "cell_type": "code",
   "execution_count": 19,
   "id": "d9d678fe-2bf2-4a74-ba43-7bdad97b9784",
   "metadata": {},
   "outputs": [],
   "source": [
    "with rasterio.open(occ_path, 'w', **p_occ) as ds:\n",
    "    ds.write(X_occ)"
   ]
  },
  {
   "cell_type": "markdown",
   "id": "6130c1f3-3e9b-4cf7-be68-b4aaf6d07e9c",
   "metadata": {},
   "source": [
    "## World Cover"
   ]
  },
  {
   "cell_type": "code",
   "execution_count": 20,
   "id": "e0c11815-e910-4d66-9243-da9d323c5a47",
   "metadata": {},
   "outputs": [],
   "source": [
    "X_esa_wc, p_wc = get_raster_from_tiles(bounds_buffered, tile_shortname='esa_world_cover_2021')"
   ]
  },
  {
   "cell_type": "code",
   "execution_count": 21,
   "id": "5e8af3e9-4600-4772-b62d-67c4a5c88cf6",
   "metadata": {},
   "outputs": [],
   "source": [
    "wc_path = out_directory / f'wc.tif'"
   ]
  },
  {
   "cell_type": "code",
   "execution_count": 22,
   "id": "57fbb4ad-8dc1-465b-b27e-8d8373271dbf",
   "metadata": {},
   "outputs": [],
   "source": [
    "with rasterio.open(wc_path, 'w', **p_wc) as ds:\n",
    "    ds.write(X_esa_wc)"
   ]
  },
  {
   "cell_type": "code",
   "execution_count": 23,
   "id": "eeba1a5b-ca55-49ad-a9a4-6c9a1a4cc873",
   "metadata": {},
   "outputs": [
    {
     "data": {
      "text/plain": [
       "(1, 48195, 65814)"
      ]
     },
     "execution_count": 23,
     "metadata": {},
     "output_type": "execute_result"
    }
   ],
   "source": [
    "X_esa_wc.shape"
   ]
  },
  {
   "cell_type": "markdown",
   "id": "fe15ede2-ff5f-40ed-8a32-a09378239959",
   "metadata": {},
   "source": [
    "# Delete Above Rasters in Memory"
   ]
  },
  {
   "cell_type": "code",
   "execution_count": 24,
   "id": "6690caaa-7913-4ddd-b31c-e43b15bcbaf6",
   "metadata": {},
   "outputs": [],
   "source": [
    "del X_esa_wc\n",
    "del dem\n",
    "del hand\n",
    "del X_occ"
   ]
  },
  {
   "cell_type": "markdown",
   "id": "52382afe-8952-4021-8747-5a52ab8d8ea5",
   "metadata": {},
   "source": [
    "# Download RTC Data\n",
    "\n",
    "Requires access to ES database and the `.env` file with JPL credentials."
   ]
  },
  {
   "cell_type": "code",
   "execution_count": 25,
   "id": "315e7be0-9884-472e-995a-c0fd573b84a3",
   "metadata": {},
   "outputs": [],
   "source": [
    "rtc_product_directory = out_directory / 'rtc_products'\n",
    "rtc_product_directory.mkdir(exist_ok=True, parents=True)"
   ]
  },
  {
   "cell_type": "code",
   "execution_count": 26,
   "id": "9c9487bb-8055-4ff1-a228-889c7773cd22",
   "metadata": {},
   "outputs": [
    {
     "data": {
      "text/html": [
       "<div>\n",
       "<style scoped>\n",
       "    .dataframe tbody tr th:only-of-type {\n",
       "        vertical-align: middle;\n",
       "    }\n",
       "\n",
       "    .dataframe tbody tr th {\n",
       "        vertical-align: top;\n",
       "    }\n",
       "\n",
       "    .dataframe thead th {\n",
       "        text-align: right;\n",
       "    }\n",
       "</style>\n",
       "<table border=\"1\" class=\"dataframe\">\n",
       "  <thead>\n",
       "    <tr style=\"text-align: right;\">\n",
       "      <th></th>\n",
       "      <th>geometry</th>\n",
       "      <th>burst_id_jpl</th>\n",
       "      <th>is_land</th>\n",
       "      <th>is_north_america</th>\n",
       "      <th>orbit_pass</th>\n",
       "      <th>track</th>\n",
       "    </tr>\n",
       "  </thead>\n",
       "  <tbody>\n",
       "    <tr>\n",
       "      <th>0</th>\n",
       "      <td>POLYGON ((2.53190 4.75701, 3.29631 4.91201, 3....</td>\n",
       "      <td>t001_000025_iw1</td>\n",
       "      <td>1</td>\n",
       "      <td>False</td>\n",
       "      <td>ASCENDING</td>\n",
       "      <td>1</td>\n",
       "    </tr>\n",
       "    <tr>\n",
       "      <th>1</th>\n",
       "      <td>POLYGON ((3.25912 4.97460, 4.06055 5.13657, 4....</td>\n",
       "      <td>t001_000025_iw2</td>\n",
       "      <td>1</td>\n",
       "      <td>False</td>\n",
       "      <td>ASCENDING</td>\n",
       "      <td>1</td>\n",
       "    </tr>\n",
       "    <tr>\n",
       "      <th>2</th>\n",
       "      <td>POLYGON ((4.02659 5.18854, 4.73485 5.32978, 4....</td>\n",
       "      <td>t001_000025_iw3</td>\n",
       "      <td>1</td>\n",
       "      <td>False</td>\n",
       "      <td>ASCENDING</td>\n",
       "      <td>1</td>\n",
       "    </tr>\n",
       "    <tr>\n",
       "      <th>3</th>\n",
       "      <td>POLYGON ((2.49611 4.92361, 3.26087 5.07851, 3....</td>\n",
       "      <td>t001_000026_iw1</td>\n",
       "      <td>1</td>\n",
       "      <td>False</td>\n",
       "      <td>ASCENDING</td>\n",
       "      <td>1</td>\n",
       "    </tr>\n",
       "    <tr>\n",
       "      <th>4</th>\n",
       "      <td>POLYGON ((3.22392 5.14115, 4.02565 5.30297, 3....</td>\n",
       "      <td>t001_000026_iw2</td>\n",
       "      <td>1</td>\n",
       "      <td>False</td>\n",
       "      <td>ASCENDING</td>\n",
       "      <td>1</td>\n",
       "    </tr>\n",
       "  </tbody>\n",
       "</table>\n",
       "</div>"
      ],
      "text/plain": [
       "                                            geometry     burst_id_jpl  \\\n",
       "0  POLYGON ((2.53190 4.75701, 3.29631 4.91201, 3....  t001_000025_iw1   \n",
       "1  POLYGON ((3.25912 4.97460, 4.06055 5.13657, 4....  t001_000025_iw2   \n",
       "2  POLYGON ((4.02659 5.18854, 4.73485 5.32978, 4....  t001_000025_iw3   \n",
       "3  POLYGON ((2.49611 4.92361, 3.26087 5.07851, 3....  t001_000026_iw1   \n",
       "4  POLYGON ((3.22392 5.14115, 4.02565 5.30297, 3....  t001_000026_iw2   \n",
       "\n",
       "   is_land  is_north_america orbit_pass  track  \n",
       "0        1             False  ASCENDING      1  \n",
       "1        1             False  ASCENDING      1  \n",
       "2        1             False  ASCENDING      1  \n",
       "3        1             False  ASCENDING      1  \n",
       "4        1             False  ASCENDING      1  "
      ]
     },
     "execution_count": 26,
     "metadata": {},
     "output_type": "execute_result"
    }
   ],
   "source": [
    "df_burst = get_burst_df()\n",
    "df_burst.head()"
   ]
  },
  {
   "cell_type": "code",
   "execution_count": 27,
   "id": "e32dc287-f144-45c4-b2b2-2e09a77cd93f",
   "metadata": {},
   "outputs": [],
   "source": [
    "url_dict = get_rtc_urls(SLC_ID, \n",
    "                        df_slc, \n",
    "                        from_asf_daac=USE_ASF_DAAC)"
   ]
  },
  {
   "cell_type": "code",
   "execution_count": 28,
   "id": "ba4042a9-58f2-4ca4-9473-ea55344538fe",
   "metadata": {},
   "outputs": [
    {
     "data": {
      "text/plain": [
       "32"
      ]
     },
     "execution_count": 28,
     "metadata": {},
     "output_type": "execute_result"
    }
   ],
   "source": [
    "len(url_dict.keys())"
   ]
  },
  {
   "cell_type": "code",
   "execution_count": 29,
   "id": "7e800440-fdc6-425b-87f1-446b5e3c2141",
   "metadata": {
    "scrolled": true
   },
   "outputs": [
    {
     "name": "stderr",
     "output_type": "stream",
     "text": [
      "100%|██████████████████████████████████████████████████████████████████| 160/160 [01:24<00:00,  1.90it/s]\n"
     ]
    }
   ],
   "source": [
    "out_paths = download_rtc_products(url_dict, rtc_product_directory)"
   ]
  },
  {
   "cell_type": "markdown",
   "id": "bbed0a41-3a76-4fc7-8886-2b3637c6415d",
   "metadata": {},
   "source": [
    "# Generate Yaml/Runconfig\n",
    "\n",
    "There are three general steps:\n",
    "\n",
    "1. Get the defaults/templates for parameters and runconfig.\n",
    "2. Populate the yml with our data (specifically paths and directories)\n",
    "3. Load the yml as a Runconfig object for the workflow.\n",
    "\n",
    "The way we figured this out was to keep going through the 3 steps and try running the RunConfig initialization `RunConfig.load_from_yaml`. Usually the loading tells the user what needs filling out on account of yaml validation. It's not pretty."
   ]
  },
  {
   "cell_type": "code",
   "execution_count": 30,
   "id": "abbccbbe-f75a-4774-a07f-05ae4bdfe5ad",
   "metadata": {},
   "outputs": [],
   "source": [
    "# dswx_sar_pge_url = 'https://raw.githubusercontent.com/opera-adt/DSWX-SAR/main/src/dswx_sar/defaults/dswx_s1.yaml'\n",
    "# dswx_sar_param_url = 'https://raw.githubusercontent.com/opera-adt/DSWX-SAR/main/src/dswx_sar/defaults/algorithm_parameter_s1.yaml'\n",
    "\n",
    "# resp = requests.get(dswx_sar_pge_url)\n",
    "# resp_param = requests.get(dswx_sar_param_url)"
   ]
  },
  {
   "cell_type": "markdown",
   "id": "e8ed61f6-f4c5-4209-b284-d36834d9adb5",
   "metadata": {},
   "source": [
    "## Load default ymls from upstream repository"
   ]
  },
  {
   "cell_type": "code",
   "execution_count": 31,
   "id": "ca64d64b-57b7-4d1e-a83e-da75d4391a92",
   "metadata": {},
   "outputs": [
    {
     "data": {
      "text/plain": [
       "{'runconfig': {'name': 'dswx_s1_workflow_algorithm',\n",
       "  'processing': {'dswx_workflow': 'opera_dswx_s1',\n",
       "   'polarizations': ['dual-pol'],\n",
       "   'polarimetric_option': None,\n",
       "   'reference_water': {'max_value': 100,\n",
       "    'no_data_value': 255,\n",
       "    'permanent_water_value': 0.9,\n",
       "    'drought_erosion_pixel': 10,\n",
       "    'flood_dilation_pixel': 16},\n",
       "   'hand': {'mask_value': 200},\n",
       "   'mosaic': {'mosaic_prefix': 'mosaic',\n",
       "    'mosaic_cog_enable': True,\n",
       "    'mosaic_mode': 'first'},\n",
       "   'filter': {'enabled': True, 'window_size': 5, 'line_per_block': 1000},\n",
       "   'initial_threshold': {'maximum_tile_size': {'x': 400, 'y': 400},\n",
       "    'minimum_tile_size': {'x': 40, 'y': 40},\n",
       "    'selection_method': ['combined'],\n",
       "    'tile_selection_twele': [0.09, 0.8, 0.97],\n",
       "    'tile_selection_bimodality': 0.7,\n",
       "    'extending_method': 'gdal_grid',\n",
       "    'threshold_method': 'ki',\n",
       "    'multi_threshold': True,\n",
       "    'adjust_threshold_nonoverlapped_distribution': True,\n",
       "    'number_cpu': -1,\n",
       "    'tile_average': True,\n",
       "    'line_per_block': 300},\n",
       "   'fuzzy_value': {'line_per_block': 200,\n",
       "    'hand': {'member_min': 0, 'member_max': 15},\n",
       "    'slope': {'member_min': 0.5, 'member_max': 15},\n",
       "    'reference_water': {'member_min': 0.8, 'member_max': 0.95},\n",
       "    'area': {'member_min': 0, 'member_max': 40},\n",
       "    'dark_area': {'cross_land': -18, 'cross_water': -24},\n",
       "    'high_frequent_water': {'water_min_value': 0.1, 'water_max_value': 0.9}},\n",
       "   'region_growing': {'initial_threshold': 0.81,\n",
       "    'relaxed_threshold': 0.51,\n",
       "    'line_per_block': 400},\n",
       "   'masking_ancillary': {'land_cover_darkland_list': ['Bare sparse vegetation',\n",
       "     'Urban',\n",
       "     'Moss and lichen'],\n",
       "    'land_cover_darkland_extension_list': ['Grassland', 'Shrubs'],\n",
       "    'co_pol_threshold': -14.6,\n",
       "    'cross_pol_threshold': -22.8,\n",
       "    'water_threshold': 0.05,\n",
       "    'extended_darkland': True,\n",
       "    'hand_variation_mask': True,\n",
       "    'hand_variation_threshold': 2.5,\n",
       "    'line_per_block': 400,\n",
       "    'number_cpu': 1},\n",
       "   'refine_with_bimodality': {'minimum_pixel': 4,\n",
       "    'lines_per_block': 500,\n",
       "    'number_cpu': 1,\n",
       "    'thresholds': {'ashman': 1.5,\n",
       "     'Bhattacharyya_coefficient': 0.97,\n",
       "     'bm_coefficient': 0.7,\n",
       "     'surface_ratio': 0.1}},\n",
       "   'inundated_vegetation': {'enabled': True,\n",
       "    'dual_pol_ratio_max': 12,\n",
       "    'dual_pol_ratio_min': 7,\n",
       "    'dual_pol_ratio_threshold': 8,\n",
       "    'cross_pol_min': -26,\n",
       "    'line_per_block': 300,\n",
       "    'target_land_cover': ['Herbaceous wetland']},\n",
       "   'debug_mode': False}}}"
      ]
     },
     "execution_count": 31,
     "metadata": {},
     "output_type": "execute_result"
    }
   ],
   "source": [
    "param_path = (Path(WORKFLOW_SCRIPTS_DIR) / 'defaults' / 'algorithm_parameter_s1.yaml')\n",
    "with open(param_path) as f:\n",
    "    param_dict = yaml.safe_load(f)\n",
    "param_dict"
   ]
  },
  {
   "cell_type": "code",
   "execution_count": 32,
   "id": "7362ba42-fe3d-4743-aebd-c807e3ad0b79",
   "metadata": {},
   "outputs": [
    {
     "data": {
      "text/plain": [
       "{'runconfig': {'name': 'dswx_s1_workflow_default',\n",
       "  'groups': {'pge_name_group': {'pge_name': 'DSWX_S1_PGE'},\n",
       "   'input_file_group': {'input_file_path': None},\n",
       "   'dynamic_ancillary_file_group': {'dem_file': None,\n",
       "    'dem_file_description': None,\n",
       "    'worldcover_file': None,\n",
       "    'worldcover_file_description': None,\n",
       "    'reference_water_file': None,\n",
       "    'reference_water_file_description': None,\n",
       "    'hand_file': None,\n",
       "    'hand_file_description': None,\n",
       "    'shoreline_shapefile': None,\n",
       "    'shoreline_shapefile_description': None,\n",
       "    'algorithm_parameters': None},\n",
       "   'static_ancillary_file_group': {'static_ancillary_inputs_flag': True,\n",
       "    'mgrs_database_file': None,\n",
       "    'mgrs_collection_database_file': None},\n",
       "   'primary_executable': {'product_type': 'DSWX_S1'},\n",
       "   'product_path_group': {'product_path': None,\n",
       "    'scratch_path': None,\n",
       "    'sas_output_path': None,\n",
       "    'product_version': None,\n",
       "    'output_imagery_format': 'COG',\n",
       "    'output_imagery_compression': 'DEFLATE',\n",
       "    'output_imagery_nbits': 32},\n",
       "   'browse_image_group': {'save_browse': True,\n",
       "    'browse_image_height': 1024,\n",
       "    'browse_image_width': 1024,\n",
       "    'flag_collapse_wtr_classes': True,\n",
       "    'exclude_inundated_vegetation': False,\n",
       "    'set_not_water_to_nodata': False,\n",
       "    'set_hand_mask_to_nodata': False,\n",
       "    'set_layover_shadow_to_nodata': False,\n",
       "    'set_ocean_masked_to_nodata': False},\n",
       "   'log_file': 'None'}}}"
      ]
     },
     "execution_count": 32,
     "metadata": {},
     "output_type": "execute_result"
    }
   ],
   "source": [
    "input_dict = (Path(WORKFLOW_SCRIPTS_DIR) / 'defaults' / 'dswx_s1.yaml')\n",
    "with open(input_dict) as f:\n",
    "    input_dict = yaml.safe_load(f)\n",
    "input_dict"
   ]
  },
  {
   "cell_type": "markdown",
   "id": "bc5c8c98-d716-4b01-a634-4a636dc19efd",
   "metadata": {},
   "source": [
    "## Injecting parameters in relevant yml"
   ]
  },
  {
   "cell_type": "code",
   "execution_count": 33,
   "id": "1eaa956a-6aae-440e-ba55-3b8721fc2bdb",
   "metadata": {},
   "outputs": [
    {
     "data": {
      "text/plain": [
       "['out/S1A_IW_SLC__1SDV_20240108T232450_20240108T232517_052022_06495E_2EAD/rtc_products/OPERA_L2_RTC-S1_T150-320294-IW3_20240108T232510Z_20240110T010045Z_S1A_30_v1.0/',\n",
       " 'out/S1A_IW_SLC__1SDV_20240108T232450_20240108T232517_052022_06495E_2EAD/rtc_products/OPERA_L2_RTC-S1_T150-320294-IW2_20240108T232509Z_20240110T010045Z_S1A_30_v1.0/',\n",
       " 'out/S1A_IW_SLC__1SDV_20240108T232450_20240108T232517_052022_06495E_2EAD/rtc_products/OPERA_L2_RTC-S1_T150-320289-IW2_20240108T232455Z_20240110T010045Z_S1A_30_v1.0/']"
      ]
     },
     "execution_count": 33,
     "metadata": {},
     "output_type": "execute_result"
    }
   ],
   "source": [
    "rtc_paths = list(rtc_product_directory.glob('*/'))\n",
    "rtc_paths_str = list(map(str, rtc_paths))\n",
    "rtc_paths_str = list(map(lambda s: s + '/', rtc_paths_str))\n",
    "rtc_paths_str[:3]"
   ]
  },
  {
   "cell_type": "code",
   "execution_count": 34,
   "id": "1a994349-12f7-459f-95f9-af409a963d45",
   "metadata": {},
   "outputs": [
    {
     "data": {
      "text/plain": [
       "[None, None, None]"
      ]
     },
     "execution_count": 34,
     "metadata": {},
     "output_type": "execute_result"
    }
   ],
   "source": [
    "scratch_dir = (out_directory / 'scratch').resolve()\n",
    "sas_dir = (out_directory / 'sas').resolve()\n",
    "product_dir = (out_directory / 'product_path').resolve()\n",
    "[d.mkdir(exist_ok=True, parents=True) for d in [scratch_dir, sas_dir, product_dir]]"
   ]
  },
  {
   "cell_type": "code",
   "execution_count": 35,
   "id": "f6840611-5bef-4a0a-9419-713eee6c3e41",
   "metadata": {},
   "outputs": [
    {
     "data": {
      "text/plain": [
       "{'runconfig': {'name': 'dswx_s1_workflow_default',\n",
       "  'groups': {'pge_name_group': {'pge_name': 'DSWX_S1_PGE'},\n",
       "   'input_file_group': {'input_file_path': None},\n",
       "   'dynamic_ancillary_file_group': {'dem_file': None,\n",
       "    'dem_file_description': None,\n",
       "    'worldcover_file': None,\n",
       "    'worldcover_file_description': None,\n",
       "    'reference_water_file': None,\n",
       "    'reference_water_file_description': None,\n",
       "    'hand_file': None,\n",
       "    'hand_file_description': None,\n",
       "    'shoreline_shapefile': None,\n",
       "    'shoreline_shapefile_description': None,\n",
       "    'algorithm_parameters': None},\n",
       "   'static_ancillary_file_group': {'static_ancillary_inputs_flag': True,\n",
       "    'mgrs_database_file': None,\n",
       "    'mgrs_collection_database_file': None},\n",
       "   'primary_executable': {'product_type': 'DSWX_S1'},\n",
       "   'product_path_group': {'product_path': None,\n",
       "    'scratch_path': None,\n",
       "    'sas_output_path': None,\n",
       "    'product_version': None,\n",
       "    'output_imagery_format': 'COG',\n",
       "    'output_imagery_compression': 'DEFLATE',\n",
       "    'output_imagery_nbits': 32},\n",
       "   'browse_image_group': {'save_browse': True,\n",
       "    'browse_image_height': 1024,\n",
       "    'browse_image_width': 1024,\n",
       "    'flag_collapse_wtr_classes': True,\n",
       "    'exclude_inundated_vegetation': False,\n",
       "    'set_not_water_to_nodata': False,\n",
       "    'set_hand_mask_to_nodata': False,\n",
       "    'set_layover_shadow_to_nodata': False,\n",
       "    'set_ocean_masked_to_nodata': False},\n",
       "   'log_file': 'None'}}}"
      ]
     },
     "execution_count": 35,
     "metadata": {},
     "output_type": "execute_result"
    }
   ],
   "source": [
    "input_dict"
   ]
  },
  {
   "cell_type": "code",
   "execution_count": 36,
   "id": "1d2e59fa-73e6-499a-a0d9-4ad8b24d6974",
   "metadata": {},
   "outputs": [],
   "source": [
    "input_dict['runconfig']['groups']['input_file_group']['input_file_path'] = rtc_paths_str\n",
    "input_dict['runconfig']['groups']['dynamic_ancillary_file_group']['dem_file']= str(dem_path.resolve())\n",
    "input_dict['runconfig']['groups']['dynamic_ancillary_file_group']['worldcover_file']= str(wc_path.resolve())\n",
    "input_dict['runconfig']['groups']['dynamic_ancillary_file_group']['hand_file']= str(hand_path.resolve())\n",
    "input_dict['runconfig']['groups']['dynamic_ancillary_file_group']['reference_water_file']= str(occ_path.resolve())\n",
    "input_dict['runconfig']['groups']['product_path_group']['scratch_path'] = str(scratch_dir)\n",
    "input_dict['runconfig']['groups']['product_path_group']['sas_output_path'] = str(sas_dir)\n",
    "input_dict['runconfig']['groups']['product_path_group']['product_path'] = str(product_dir)\n",
    "\n",
    "input_dict['runconfig']['groups']['primary_executable']['product_type'] = 'dswx_s1'\n",
    "input_dict['runconfig']['groups']['static_ancillary_file_group']['static_ancillary_inputs_flag'] = False"
   ]
  },
  {
   "cell_type": "markdown",
   "id": "ad85b0b8-86c9-4e37-9809-cbfc63b3412e",
   "metadata": {},
   "source": [
    "Make sure empty string rather than `None` is populated in yml."
   ]
  },
  {
   "cell_type": "code",
   "execution_count": 37,
   "id": "e789dc07-20f9-4f08-bae4-07e31686f380",
   "metadata": {},
   "outputs": [],
   "source": [
    "# See: https://stackoverflow.com/a/41786451\n",
    "def represent_none(self, _):\n",
    "    return self.represent_scalar('tag:yaml.org,2002:null', '')\n",
    "\n",
    "yaml.add_representer(type(None), represent_none)"
   ]
  },
  {
   "cell_type": "code",
   "execution_count": 38,
   "id": "952ad704-18f9-45c1-9fd4-775ae3d18bcc",
   "metadata": {},
   "outputs": [],
   "source": [
    "params_path = out_directory / 'params.yml'\n",
    "with open(params_path, 'w') as param_file:\n",
    "    yaml.dump(param_dict, param_file)"
   ]
  },
  {
   "cell_type": "code",
   "execution_count": 39,
   "id": "2621b3a5-88ea-4927-a855-426ccc5cb251",
   "metadata": {},
   "outputs": [],
   "source": [
    "input_dict['runconfig']['groups']['dynamic_ancillary_file_group']['algorithm_parameters'] = str(params_path.resolve())"
   ]
  },
  {
   "cell_type": "code",
   "execution_count": 40,
   "id": "77fdc0d8-f4d7-4e13-a3f9-065afc0ad5a0",
   "metadata": {},
   "outputs": [],
   "source": [
    "log_path = str(out_directory/f'{SLC_ID}.log')\n",
    "\n",
    "@dataclass\n",
    "class Args:\n",
    "    \"\"\"placeholder\"\"\"\n",
    "    debug_mode = False\n",
    "    log_file = log_path"
   ]
  },
  {
   "cell_type": "code",
   "execution_count": 41,
   "id": "eba5f4f4-cc8e-4177-a41e-2f31d2dbbb69",
   "metadata": {},
   "outputs": [
    {
     "data": {
      "text/plain": [
       "Args()"
      ]
     },
     "execution_count": 41,
     "metadata": {},
     "output_type": "execute_result"
    }
   ],
   "source": [
    "args = Args()\n",
    "args"
   ]
  },
  {
   "cell_type": "code",
   "execution_count": 42,
   "id": "b302bc6d-8a27-4735-9d6a-3d7ff0598fed",
   "metadata": {},
   "outputs": [],
   "source": [
    "run_config_path = out_directory / 'run_config.yml'\n",
    "with open(run_config_path, 'w') as run_config_yaml:\n",
    "    yaml.dump(input_dict, run_config_yaml)"
   ]
  },
  {
   "cell_type": "code",
   "execution_count": 43,
   "id": "6898665c-df80-4bac-be3f-074b3b8ec1fb",
   "metadata": {},
   "outputs": [
    {
     "name": "stderr",
     "output_type": "stream",
     "text": [
      "command line log file \"out/S1A_IW_SLC__1SDV_20240108T232450_20240108T232517_052022_06495E_2EAD/S1A_IW_SLC__1SDV_20240108T232450_20240108T232517_052022_06495E_2EAD.log\" has precedence over runconfig log file \"None\"\n"
     ]
    }
   ],
   "source": [
    "cfg = RunConfig.load_from_yaml(str(run_config_path), 'dswx_s1', args)"
   ]
  },
  {
   "cell_type": "markdown",
   "id": "be504037-3167-4f81-9b81-d900b960b75f",
   "metadata": {},
   "source": [
    "# Run Workflow"
   ]
  },
  {
   "cell_type": "code",
   "execution_count": 58,
   "id": "d4a06dbe-a604-4d02-91e6-34fabf4fbd29",
   "metadata": {},
   "outputs": [
    {
     "name": "stdout",
     "output_type": "stream",
     "text": [
      "Number of bursts to process: 32\n",
      "    mosaic geogrid:\n",
      "        start X: 240930.0\n",
      "        end X: 533910.0\n",
      "        start Y: 4845060.0\n",
      "        end Y: 4594650.0\n",
      "        spacing X: 30.0\n",
      "        spacing Y: -30.0\n",
      "        width: 9766\n",
      "        length: 8347\n",
      "        projection: PROJCS[\"WGS 84 / UTM zone 17N\",GEOGCS[\"WGS 84\",DATUM[\"WGS_1984\",SPHEROID[\"WGS 84\",6378137,298.257223563,AUTHORITY[\"EPSG\",\"7030\"]],AUTHORITY[\"EPSG\",\"6326\"]],PRIMEM[\"Greenwich\",0,AUTHORITY[\"EPSG\",\"8901\"]],UNIT[\"degree\",0.0174532925199433,AUTHORITY[\"EPSG\",\"9122\"]],AUTHORITY[\"EPSG\",\"4326\"]],PROJECTION[\"Transverse_Mercator\"],PARAMETER[\"latitude_of_origin\",0],PARAMETER[\"central_meridian\",-81],PARAMETER[\"scale_factor\",0.9996],PARAMETER[\"false_easting\",500000],PARAMETER[\"false_northing\",0],UNIT[\"metre\",1,AUTHORITY[\"EPSG\",\"9001\"]],AXIS[\"Easting\",EAST],AXIS[\"Northing\",NORTH],AUTHORITY[\"EPSG\",\"32617\"]]\n",
      "        number of bands: 1\n",
      "    mosaicking (1/32): OPERA_L2_RTC-S1_T150-320294-IW3_20240108T232510Z_20240110T010045Z_S1A_30_v1.0_VV.tif\n",
      "        image offset (x, y): (5895, 1225)\n",
      "    mosaicking (2/32): OPERA_L2_RTC-S1_T150-320294-IW2_20240108T232509Z_20240110T010045Z_S1A_30_v1.0_VV.tif\n",
      "        image offset (x, y): (3029, 1861)\n",
      "    mosaicking (3/32): OPERA_L2_RTC-S1_T150-320289-IW2_20240108T232455Z_20240110T010045Z_S1A_30_v1.0_VV.tif\n",
      "        image offset (x, y): (3511, 4931)\n",
      "    mosaicking (4/32): OPERA_L2_RTC-S1_T150-320289-IW1_20240108T232454Z_20240110T010045Z_S1A_30_v1.0_VV.tif\n",
      "        image offset (x, y): (776, 5584)\n",
      "    mosaicking (5/32): OPERA_L2_RTC-S1_T150-320286-IW3_20240108T232447Z_20240110T010059Z_S1A_30_v1.0_VV.tif\n",
      "        image offset (x, y): (6673, 6126)\n",
      "    mosaicking (6/32): OPERA_L2_RTC-S1_T150-320288-IW2_20240108T232452Z_20240110T010045Z_S1A_30_v1.0_VV.tif\n",
      "        image offset (x, y): (3610, 5545)\n",
      "    mosaicking (7/32): OPERA_L2_RTC-S1_T150-320294-IW1_20240108T232508Z_20240110T010045Z_S1A_30_v1.0_VV.tif\n",
      "        image offset (x, y): (294, 2506)\n",
      "    mosaicking (8/32): OPERA_L2_RTC-S1_T150-320288-IW3_20240108T232453Z_20240110T010045Z_S1A_30_v1.0_VV.tif\n",
      "        image offset (x, y): (6474, 4901)\n",
      "    mosaicking (9/32): OPERA_L2_RTC-S1_T150-320287-IW2_20240108T232449Z_20240110T010059Z_S1A_30_v1.0_VV.tif\n",
      "        image offset (x, y): (3710, 6159)\n",
      "    mosaicking (10/32): OPERA_L2_RTC-S1_T150-320292-IW1_20240108T232502Z_20240110T010045Z_S1A_30_v1.0_VV.tif\n",
      "        image offset (x, y): (477, 3738)\n",
      "    mosaicking (11/32): OPERA_L2_RTC-S1_T150-320295-IW1_20240108T232510Z_20240110T010045Z_S1A_30_v1.0_VV.tif\n",
      "        image offset (x, y): (195, 1890)\n",
      "    mosaicking (12/32): OPERA_L2_RTC-S1_T150-320287-IW1_20240108T232448Z_20240110T010059Z_S1A_30_v1.0_VV.tif\n",
      "        image offset (x, y): (977, 6815)\n",
      "    mosaicking (13/32): OPERA_L2_RTC-S1_T150-320292-IW3_20240108T232504Z_20240110T010045Z_S1A_30_v1.0_VV.tif\n",
      "        image offset (x, y): (6081, 2452)\n",
      "    mosaicking (14/32): OPERA_L2_RTC-S1_T150-320296-IW3_20240108T232515Z_20240110T010006Z_S1A_30_v1.0_VV.tif\n",
      "        image offset (x, y): (5702, 0)\n",
      "    mosaicking (15/32): OPERA_L2_RTC-S1_T150-320292-IW2_20240108T232503Z_20240110T010045Z_S1A_30_v1.0_VV.tif\n",
      "        image offset (x, y): (3214, 3090)\n",
      "    mosaicking (16/32): OPERA_L2_RTC-S1_T150-320293-IW1_20240108T232505Z_20240110T010045Z_S1A_30_v1.0_VV.tif\n",
      "        image offset (x, y): (378, 3123)\n",
      "    mosaicking (17/32): OPERA_L2_RTC-S1_T150-320295-IW2_20240108T232511Z_20240110T010045Z_S1A_30_v1.0_VV.tif\n",
      "        image offset (x, y): (2931, 1247)\n",
      "    mosaicking (18/32): OPERA_L2_RTC-S1_T150-320290-IW2_20240108T232458Z_20240110T010045Z_S1A_30_v1.0_VV.tif\n",
      "        image offset (x, y): (3412, 4318)\n",
      "    mosaicking (19/32): OPERA_L2_RTC-S1_T150-320296-IW1_20240108T232513Z_20240110T010045Z_S1A_30_v1.0_VV.tif\n",
      "        image offset (x, y): (97, 1275)\n",
      "    mosaicking (20/32): OPERA_L2_RTC-S1_T150-320293-IW3_20240108T232507Z_20240110T010045Z_S1A_30_v1.0_VV.tif\n",
      "        image offset (x, y): (5992, 1838)\n",
      "    mosaicking (21/32): OPERA_L2_RTC-S1_T150-320288-IW1_20240108T232451Z_20240110T010045Z_S1A_30_v1.0_VV.tif\n",
      "        image offset (x, y): (876, 6199)\n",
      "    mosaicking (22/32): OPERA_L2_RTC-S1_T150-320291-IW1_20240108T232459Z_20240110T010045Z_S1A_30_v1.0_VV.tif\n",
      "        image offset (x, y): (577, 4354)\n",
      "    mosaicking (23/32): OPERA_L2_RTC-S1_T150-320291-IW2_20240108T232500Z_20240110T010045Z_S1A_30_v1.0_VV.tif\n",
      "        image offset (x, y): (3313, 3704)\n",
      "    mosaicking (24/32): OPERA_L2_RTC-S1_T150-320295-IW3_20240108T232512Z_20240110T010045Z_S1A_30_v1.0_VV.tif\n",
      "        image offset (x, y): (5798, 613)\n",
      "    mosaicking (25/32): OPERA_L2_RTC-S1_T150-320297-IW1_20240108T232516Z_20240110T010006Z_S1A_30_v1.0_VV.tif\n",
      "        image offset (x, y): (0, 659)\n",
      "    mosaicking (26/32): OPERA_L2_RTC-S1_T150-320291-IW3_20240108T232501Z_20240110T010045Z_S1A_30_v1.0_VV.tif\n",
      "        image offset (x, y): (6179, 3064)\n",
      "    mosaicking (27/32): OPERA_L2_RTC-S1_T150-320289-IW3_20240108T232456Z_20240110T010045Z_S1A_30_v1.0_VV.tif\n",
      "        image offset (x, y): (6376, 4289)\n",
      "    mosaicking (28/32): OPERA_L2_RTC-S1_T150-320296-IW2_20240108T232514Z_20240110T010045Z_S1A_30_v1.0_VV.tif\n",
      "        image offset (x, y): (2834, 633)\n",
      "    mosaicking (29/32): OPERA_L2_RTC-S1_T150-320293-IW2_20240108T232506Z_20240110T010045Z_S1A_30_v1.0_VV.tif\n",
      "        image offset (x, y): (3127, 2475)\n",
      "    mosaicking (30/32): OPERA_L2_RTC-S1_T150-320287-IW3_20240108T232450Z_20240110T010045Z_S1A_30_v1.0_VV.tif\n",
      "        image offset (x, y): (6574, 5514)\n",
      "    mosaicking (31/32): OPERA_L2_RTC-S1_T150-320290-IW1_20240108T232457Z_20240110T010045Z_S1A_30_v1.0_VV.tif\n",
      "        image offset (x, y): (676, 4969)\n",
      "    mosaicking (32/32): OPERA_L2_RTC-S1_T150-320290-IW3_20240108T232459Z_20240110T010045Z_S1A_30_v1.0_VV.tif\n",
      "        image offset (x, y): (6277, 3677)\n",
      "    mosaic geogrid:\n",
      "        start X: 240930.0\n",
      "        end X: 533910.0\n",
      "        start Y: 4845060.0\n",
      "        end Y: 4594650.0\n",
      "        spacing X: 30.0\n",
      "        spacing Y: -30.0\n",
      "        width: 9766\n",
      "        length: 8347\n",
      "        projection: PROJCS[\"WGS 84 / UTM zone 17N\",GEOGCS[\"WGS 84\",DATUM[\"WGS_1984\",SPHEROID[\"WGS 84\",6378137,298.257223563,AUTHORITY[\"EPSG\",\"7030\"]],AUTHORITY[\"EPSG\",\"6326\"]],PRIMEM[\"Greenwich\",0,AUTHORITY[\"EPSG\",\"8901\"]],UNIT[\"degree\",0.0174532925199433,AUTHORITY[\"EPSG\",\"9122\"]],AUTHORITY[\"EPSG\",\"4326\"]],PROJECTION[\"Transverse_Mercator\"],PARAMETER[\"latitude_of_origin\",0],PARAMETER[\"central_meridian\",-81],PARAMETER[\"scale_factor\",0.9996],PARAMETER[\"false_easting\",500000],PARAMETER[\"false_northing\",0],UNIT[\"metre\",1,AUTHORITY[\"EPSG\",\"9001\"]],AXIS[\"Easting\",EAST],AXIS[\"Northing\",NORTH],AUTHORITY[\"EPSG\",\"32617\"]]\n",
      "        number of bands: 1\n",
      "    mosaicking (1/32): OPERA_L2_RTC-S1_T150-320294-IW3_20240108T232510Z_20240110T010045Z_S1A_30_v1.0_VH.tif\n",
      "        image offset (x, y): (5895, 1225)\n",
      "    mosaicking (2/32): OPERA_L2_RTC-S1_T150-320294-IW2_20240108T232509Z_20240110T010045Z_S1A_30_v1.0_VH.tif\n",
      "        image offset (x, y): (3029, 1861)\n",
      "    mosaicking (3/32): OPERA_L2_RTC-S1_T150-320289-IW2_20240108T232455Z_20240110T010045Z_S1A_30_v1.0_VH.tif\n",
      "        image offset (x, y): (3511, 4931)\n",
      "    mosaicking (4/32): OPERA_L2_RTC-S1_T150-320289-IW1_20240108T232454Z_20240110T010045Z_S1A_30_v1.0_VH.tif\n",
      "        image offset (x, y): (776, 5584)\n",
      "    mosaicking (5/32): OPERA_L2_RTC-S1_T150-320286-IW3_20240108T232447Z_20240110T010059Z_S1A_30_v1.0_VH.tif\n",
      "        image offset (x, y): (6673, 6126)\n",
      "    mosaicking (6/32): OPERA_L2_RTC-S1_T150-320288-IW2_20240108T232452Z_20240110T010045Z_S1A_30_v1.0_VH.tif\n",
      "        image offset (x, y): (3610, 5545)\n",
      "    mosaicking (7/32): OPERA_L2_RTC-S1_T150-320294-IW1_20240108T232508Z_20240110T010045Z_S1A_30_v1.0_VH.tif\n",
      "        image offset (x, y): (294, 2506)\n",
      "    mosaicking (8/32): OPERA_L2_RTC-S1_T150-320288-IW3_20240108T232453Z_20240110T010045Z_S1A_30_v1.0_VH.tif\n",
      "        image offset (x, y): (6474, 4901)\n",
      "    mosaicking (9/32): OPERA_L2_RTC-S1_T150-320287-IW2_20240108T232449Z_20240110T010059Z_S1A_30_v1.0_VH.tif\n",
      "        image offset (x, y): (3710, 6159)\n",
      "    mosaicking (10/32): OPERA_L2_RTC-S1_T150-320292-IW1_20240108T232502Z_20240110T010045Z_S1A_30_v1.0_VH.tif\n",
      "        image offset (x, y): (477, 3738)\n",
      "    mosaicking (11/32): OPERA_L2_RTC-S1_T150-320295-IW1_20240108T232510Z_20240110T010045Z_S1A_30_v1.0_VH.tif\n",
      "        image offset (x, y): (195, 1890)\n",
      "    mosaicking (12/32): OPERA_L2_RTC-S1_T150-320287-IW1_20240108T232448Z_20240110T010059Z_S1A_30_v1.0_VH.tif\n",
      "        image offset (x, y): (977, 6815)\n",
      "    mosaicking (13/32): OPERA_L2_RTC-S1_T150-320292-IW3_20240108T232504Z_20240110T010045Z_S1A_30_v1.0_VH.tif\n",
      "        image offset (x, y): (6081, 2452)\n",
      "    mosaicking (14/32): OPERA_L2_RTC-S1_T150-320296-IW3_20240108T232515Z_20240110T010006Z_S1A_30_v1.0_VH.tif\n",
      "        image offset (x, y): (5702, 0)\n",
      "    mosaicking (15/32): OPERA_L2_RTC-S1_T150-320292-IW2_20240108T232503Z_20240110T010045Z_S1A_30_v1.0_VH.tif\n",
      "        image offset (x, y): (3214, 3090)\n",
      "    mosaicking (16/32): OPERA_L2_RTC-S1_T150-320293-IW1_20240108T232505Z_20240110T010045Z_S1A_30_v1.0_VH.tif\n",
      "        image offset (x, y): (378, 3123)\n",
      "    mosaicking (17/32): OPERA_L2_RTC-S1_T150-320295-IW2_20240108T232511Z_20240110T010045Z_S1A_30_v1.0_VH.tif\n",
      "        image offset (x, y): (2931, 1247)\n",
      "    mosaicking (18/32): OPERA_L2_RTC-S1_T150-320290-IW2_20240108T232458Z_20240110T010045Z_S1A_30_v1.0_VH.tif\n",
      "        image offset (x, y): (3412, 4318)\n",
      "    mosaicking (19/32): OPERA_L2_RTC-S1_T150-320296-IW1_20240108T232513Z_20240110T010045Z_S1A_30_v1.0_VH.tif\n",
      "        image offset (x, y): (97, 1275)\n",
      "    mosaicking (20/32): OPERA_L2_RTC-S1_T150-320293-IW3_20240108T232507Z_20240110T010045Z_S1A_30_v1.0_VH.tif\n",
      "        image offset (x, y): (5992, 1838)\n",
      "    mosaicking (21/32): OPERA_L2_RTC-S1_T150-320288-IW1_20240108T232451Z_20240110T010045Z_S1A_30_v1.0_VH.tif\n",
      "        image offset (x, y): (876, 6199)\n",
      "    mosaicking (22/32): OPERA_L2_RTC-S1_T150-320291-IW1_20240108T232459Z_20240110T010045Z_S1A_30_v1.0_VH.tif\n",
      "        image offset (x, y): (577, 4354)\n",
      "    mosaicking (23/32): OPERA_L2_RTC-S1_T150-320291-IW2_20240108T232500Z_20240110T010045Z_S1A_30_v1.0_VH.tif\n",
      "        image offset (x, y): (3313, 3704)\n",
      "    mosaicking (24/32): OPERA_L2_RTC-S1_T150-320295-IW3_20240108T232512Z_20240110T010045Z_S1A_30_v1.0_VH.tif\n",
      "        image offset (x, y): (5798, 613)\n",
      "    mosaicking (25/32): OPERA_L2_RTC-S1_T150-320297-IW1_20240108T232516Z_20240110T010006Z_S1A_30_v1.0_VH.tif\n",
      "        image offset (x, y): (0, 659)\n",
      "    mosaicking (26/32): OPERA_L2_RTC-S1_T150-320291-IW3_20240108T232501Z_20240110T010045Z_S1A_30_v1.0_VH.tif\n",
      "        image offset (x, y): (6179, 3064)\n",
      "    mosaicking (27/32): OPERA_L2_RTC-S1_T150-320289-IW3_20240108T232456Z_20240110T010045Z_S1A_30_v1.0_VH.tif\n",
      "        image offset (x, y): (6376, 4289)\n",
      "    mosaicking (28/32): OPERA_L2_RTC-S1_T150-320296-IW2_20240108T232514Z_20240110T010045Z_S1A_30_v1.0_VH.tif\n",
      "        image offset (x, y): (2834, 633)\n",
      "    mosaicking (29/32): OPERA_L2_RTC-S1_T150-320293-IW2_20240108T232506Z_20240110T010045Z_S1A_30_v1.0_VH.tif\n",
      "        image offset (x, y): (3127, 2475)\n",
      "    mosaicking (30/32): OPERA_L2_RTC-S1_T150-320287-IW3_20240108T232450Z_20240110T010045Z_S1A_30_v1.0_VH.tif\n",
      "        image offset (x, y): (6574, 5514)\n",
      "    mosaicking (31/32): OPERA_L2_RTC-S1_T150-320290-IW1_20240108T232457Z_20240110T010045Z_S1A_30_v1.0_VH.tif\n",
      "        image offset (x, y): (676, 4969)\n",
      "    mosaicking (32/32): OPERA_L2_RTC-S1_T150-320290-IW3_20240108T232459Z_20240110T010045Z_S1A_30_v1.0_VH.tif\n",
      "        image offset (x, y): (6277, 3677)\n",
      "    mosaic geogrid:\n",
      "        start X: 240930.0\n",
      "        end X: 533910.0\n",
      "        start Y: 4845060.0\n",
      "        end Y: 4594650.0\n",
      "        spacing X: 30.0\n",
      "        spacing Y: -30.0\n",
      "        width: 9766\n",
      "        length: 8347\n",
      "        projection: PROJCS[\"WGS 84 / UTM zone 17N\",GEOGCS[\"WGS 84\",DATUM[\"WGS_1984\",SPHEROID[\"WGS 84\",6378137,298.257223563,AUTHORITY[\"EPSG\",\"7030\"]],AUTHORITY[\"EPSG\",\"6326\"]],PRIMEM[\"Greenwich\",0,AUTHORITY[\"EPSG\",\"8901\"]],UNIT[\"degree\",0.0174532925199433,AUTHORITY[\"EPSG\",\"9122\"]],AUTHORITY[\"EPSG\",\"4326\"]],PROJECTION[\"Transverse_Mercator\"],PARAMETER[\"latitude_of_origin\",0],PARAMETER[\"central_meridian\",-81],PARAMETER[\"scale_factor\",0.9996],PARAMETER[\"false_easting\",500000],PARAMETER[\"false_northing\",0],UNIT[\"metre\",1,AUTHORITY[\"EPSG\",\"9001\"]],AXIS[\"Easting\",EAST],AXIS[\"Northing\",NORTH],AUTHORITY[\"EPSG\",\"32617\"]]\n",
      "        number of bands: 1\n",
      "    mosaicking (1/32): OPERA_L2_RTC-S1_T150-320294-IW3_20240108T232510Z_20240110T010045Z_S1A_30_v1.0_mask.tif\n",
      "        image offset (x, y): (5895, 1225)\n",
      "    mosaicking (2/32): OPERA_L2_RTC-S1_T150-320294-IW2_20240108T232509Z_20240110T010045Z_S1A_30_v1.0_mask.tif\n",
      "        image offset (x, y): (3029, 1861)\n",
      "    mosaicking (3/32): OPERA_L2_RTC-S1_T150-320289-IW2_20240108T232455Z_20240110T010045Z_S1A_30_v1.0_mask.tif\n",
      "        image offset (x, y): (3511, 4931)\n",
      "    mosaicking (4/32): OPERA_L2_RTC-S1_T150-320289-IW1_20240108T232454Z_20240110T010045Z_S1A_30_v1.0_mask.tif\n",
      "        image offset (x, y): (776, 5584)\n",
      "    mosaicking (5/32): OPERA_L2_RTC-S1_T150-320286-IW3_20240108T232447Z_20240110T010059Z_S1A_30_v1.0_mask.tif\n",
      "        image offset (x, y): (6673, 6126)\n",
      "    mosaicking (6/32): OPERA_L2_RTC-S1_T150-320288-IW2_20240108T232452Z_20240110T010045Z_S1A_30_v1.0_mask.tif\n",
      "        image offset (x, y): (3610, 5545)\n",
      "    mosaicking (7/32): OPERA_L2_RTC-S1_T150-320294-IW1_20240108T232508Z_20240110T010045Z_S1A_30_v1.0_mask.tif\n",
      "        image offset (x, y): (294, 2506)\n",
      "    mosaicking (8/32): OPERA_L2_RTC-S1_T150-320288-IW3_20240108T232453Z_20240110T010045Z_S1A_30_v1.0_mask.tif\n",
      "        image offset (x, y): (6474, 4901)\n",
      "    mosaicking (9/32): OPERA_L2_RTC-S1_T150-320287-IW2_20240108T232449Z_20240110T010059Z_S1A_30_v1.0_mask.tif\n",
      "        image offset (x, y): (3710, 6159)\n",
      "    mosaicking (10/32): OPERA_L2_RTC-S1_T150-320292-IW1_20240108T232502Z_20240110T010045Z_S1A_30_v1.0_mask.tif\n",
      "        image offset (x, y): (477, 3738)\n",
      "    mosaicking (11/32): OPERA_L2_RTC-S1_T150-320295-IW1_20240108T232510Z_20240110T010045Z_S1A_30_v1.0_mask.tif\n",
      "        image offset (x, y): (195, 1890)\n",
      "    mosaicking (12/32): OPERA_L2_RTC-S1_T150-320287-IW1_20240108T232448Z_20240110T010059Z_S1A_30_v1.0_mask.tif\n",
      "        image offset (x, y): (977, 6815)\n",
      "    mosaicking (13/32): OPERA_L2_RTC-S1_T150-320292-IW3_20240108T232504Z_20240110T010045Z_S1A_30_v1.0_mask.tif\n",
      "        image offset (x, y): (6081, 2452)\n",
      "    mosaicking (14/32): OPERA_L2_RTC-S1_T150-320296-IW3_20240108T232515Z_20240110T010006Z_S1A_30_v1.0_mask.tif\n",
      "        image offset (x, y): (5702, 0)\n",
      "    mosaicking (15/32): OPERA_L2_RTC-S1_T150-320292-IW2_20240108T232503Z_20240110T010045Z_S1A_30_v1.0_mask.tif\n",
      "        image offset (x, y): (3214, 3090)\n",
      "    mosaicking (16/32): OPERA_L2_RTC-S1_T150-320293-IW1_20240108T232505Z_20240110T010045Z_S1A_30_v1.0_mask.tif\n",
      "        image offset (x, y): (378, 3123)\n",
      "    mosaicking (17/32): OPERA_L2_RTC-S1_T150-320295-IW2_20240108T232511Z_20240110T010045Z_S1A_30_v1.0_mask.tif\n",
      "        image offset (x, y): (2931, 1247)\n",
      "    mosaicking (18/32): OPERA_L2_RTC-S1_T150-320290-IW2_20240108T232458Z_20240110T010045Z_S1A_30_v1.0_mask.tif\n",
      "        image offset (x, y): (3412, 4318)\n",
      "    mosaicking (19/32): OPERA_L2_RTC-S1_T150-320296-IW1_20240108T232513Z_20240110T010045Z_S1A_30_v1.0_mask.tif\n",
      "        image offset (x, y): (97, 1275)\n",
      "    mosaicking (20/32): OPERA_L2_RTC-S1_T150-320293-IW3_20240108T232507Z_20240110T010045Z_S1A_30_v1.0_mask.tif\n",
      "        image offset (x, y): (5992, 1838)\n",
      "    mosaicking (21/32): OPERA_L2_RTC-S1_T150-320288-IW1_20240108T232451Z_20240110T010045Z_S1A_30_v1.0_mask.tif\n",
      "        image offset (x, y): (876, 6199)\n",
      "    mosaicking (22/32): OPERA_L2_RTC-S1_T150-320291-IW1_20240108T232459Z_20240110T010045Z_S1A_30_v1.0_mask.tif\n",
      "        image offset (x, y): (577, 4354)\n",
      "    mosaicking (23/32): OPERA_L2_RTC-S1_T150-320291-IW2_20240108T232500Z_20240110T010045Z_S1A_30_v1.0_mask.tif\n",
      "        image offset (x, y): (3313, 3704)\n",
      "    mosaicking (24/32): OPERA_L2_RTC-S1_T150-320295-IW3_20240108T232512Z_20240110T010045Z_S1A_30_v1.0_mask.tif\n",
      "        image offset (x, y): (5798, 613)\n",
      "    mosaicking (25/32): OPERA_L2_RTC-S1_T150-320297-IW1_20240108T232516Z_20240110T010006Z_S1A_30_v1.0_mask.tif\n",
      "        image offset (x, y): (0, 659)\n",
      "    mosaicking (26/32): OPERA_L2_RTC-S1_T150-320291-IW3_20240108T232501Z_20240110T010045Z_S1A_30_v1.0_mask.tif\n",
      "        image offset (x, y): (6179, 3064)\n",
      "    mosaicking (27/32): OPERA_L2_RTC-S1_T150-320289-IW3_20240108T232456Z_20240110T010045Z_S1A_30_v1.0_mask.tif\n",
      "        image offset (x, y): (6376, 4289)\n",
      "    mosaicking (28/32): OPERA_L2_RTC-S1_T150-320296-IW2_20240108T232514Z_20240110T010045Z_S1A_30_v1.0_mask.tif\n",
      "        image offset (x, y): (2834, 633)\n",
      "    mosaicking (29/32): OPERA_L2_RTC-S1_T150-320293-IW2_20240108T232506Z_20240110T010045Z_S1A_30_v1.0_mask.tif\n",
      "        image offset (x, y): (3127, 2475)\n",
      "    mosaicking (30/32): OPERA_L2_RTC-S1_T150-320287-IW3_20240108T232450Z_20240110T010045Z_S1A_30_v1.0_mask.tif\n",
      "        image offset (x, y): (6574, 5514)\n",
      "    mosaicking (31/32): OPERA_L2_RTC-S1_T150-320290-IW1_20240108T232457Z_20240110T010045Z_S1A_30_v1.0_mask.tif\n",
      "        image offset (x, y): (676, 4969)\n",
      "    mosaicking (32/32): OPERA_L2_RTC-S1_T150-320290-IW3_20240108T232459Z_20240110T010045Z_S1A_30_v1.0_mask.tif\n",
      "        image offset (x, y): (6277, 3677)\n",
      ".60...70...80...90...100 - done.\n",
      "0...10...20...30...40...50...60...70...80...90...100 - done.\n",
      "0...10...20...30...40...50...60...70...80...90...100 - done.\n",
      "0...10...20...30...40...50...60...70...80...90.. -- Reading /Users/cmarshak/bekaert-team/dswx-sar-workflow-pst/out/S1A_IW_SLC__1SDV_20240108T232450_20240108T232517_052022_06495E_2EAD/scratch/interpolated_DEM.tif ... (8347, 9766)\n",
      " -- Reading /Users/cmarshak/bekaert-team/dswx-sar-workflow-pst/out/S1A_IW_SLC__1SDV_20240108T232450_20240108T232517_052022_06495E_2EAD/scratch/interpolated_hand.tif ... (8347, 9766)\n",
      " -- Reading /Users/cmarshak/bekaert-team/dswx-sar-workflow-pst/out/S1A_IW_SLC__1SDV_20240108T232450_20240108T232517_052022_06495E_2EAD/scratch/interpolated_landcover.tif ... (8347, 9766)\n",
      " -- Reading /Users/cmarshak/bekaert-team/dswx-sar-workflow-pst/out/S1A_IW_SLC__1SDV_20240108T232450_20240108T232517_052022_06495E_2EAD/scratch/interpolated_wbd.tif ... (8347, 9766)\n",
      ">> lee_enhanced_filter\n",
      ">> lee_enhanced_filter\n",
      ">> lee_enhanced_filter\n",
      ">> lee_enhanced_filter\n",
      ">> lee_enhanced_filter\n",
      ">> lee_enhanced_filter\n",
      ">> lee_enhanced_filter\n",
      ">> lee_enhanced_filter\n",
      ">> lee_enhanced_filter\n",
      ">> lee_enhanced_filter\n",
      ">> lee_enhanced_filter\n",
      ">> lee_enhanced_filter\n",
      ">> lee_enhanced_filter\n",
      ">> lee_enhanced_filter\n",
      ">> lee_enhanced_filter\n",
      ">> lee_enhanced_filter\n",
      ">> lee_enhanced_filter\n",
      ">> lee_enhanced_filter\n",
      ".100 - done.\n",
      "0...10...20...30...40...50...60...70...80...90...100 - done.\n",
      "0...10...20...30...40...50...60...70...80...90...100 - done.\n",
      "0...10...20...30...40...50...60...70...80...90...Grid data type is \"Float32\"\n",
      "Grid size = (9766 8347).\n",
      "Corner coordinates = (0.000000 8347.000000)-(9766.000000 0.000000).\n",
      "Grid cell size = (1.000000 -1.000000).\n",
      "Source point count = 525.\n",
      "Algorithm name: \"invdist\".\n",
      "Options are \"power=0.500000:smoothing=1.000000:radius1=800.000000:radius2=800.000000:angle=0.000000:max_points=0:min_points=1:nodata=0.000000\"\n",
      "\n",
      "0...10...20...30...40...50...60...70...80...90...100 - done.\n",
      "100 - done.\n",
      "0...10...20...30...40...50...60...70...80...90...Grid data type is \"Float32\"\n",
      "Grid size = (9766 8347).\n",
      "Corner coordinates = (0.000000 8347.000000)-(9766.000000 0.000000).\n",
      "Grid cell size = (1.000000 -1.000000).\n",
      "Source point count = 525.\n",
      "Algorithm name: \"invdist\".\n",
      "Options are \"power=0.500000:smoothing=1.000000:radius1=800.000000:radius2=800.000000:angle=0.000000:max_points=0:min_points=1:nodata=0.000000\"\n",
      "\n",
      "0...10...20...30...40...50...60...70...80...90...100 - done.\n",
      "100 - done.\n",
      "0...10...20...30...40...50...60...70...80...90...Grid data type is \"Float32\"\n",
      "Grid size = (9766 8347).\n",
      "Corner coordinates = (0.000000 8347.000000)-(9766.000000 0.000000).\n",
      "Grid cell size = (1.000000 -1.000000).\n",
      "Source point count = 525.\n",
      "Algorithm name: \"invdist\".\n",
      "Options are \"power=0.500000:smoothing=1.000000:radius1=800.000000:radius2=800.000000:angle=0.000000:max_points=0:min_points=1:nodata=0.000000\"\n",
      "\n",
      "0...10...20...30...40...50...60...70...80...90...100 - done.\n",
      "100 - done.\n",
      "0...10...20...30...40...50...60...70...80...90...Grid data type is \"Float32\"\n",
      "Grid size = (9766 8347).\n",
      "Corner coordinates = (0.000000 8347.000000)-(9766.000000 0.000000).\n",
      "Grid cell size = (1.000000 -1.000000).\n",
      "Source point count = 525.\n",
      "Algorithm name: \"invdist\".\n",
      "Options are \"power=0.500000:smoothing=1.000000:radius1=800.000000:radius2=800.000000:angle=0.000000:max_points=0:min_points=1:nodata=0.000000\"\n",
      "\n",
      "0...10...20...30...40...50...60...70...80...90...100 - done.\n",
      "100 - done.\n",
      "0...10...20...30...40...50...60...70...80...90...100 - done.\n",
      "0...10...20...30...40...50...60...70...80...90...100 - done.\n",
      "0...10...20...30...40...50...60...70...80...90...100 - done.\n",
      "0...10...20...30...40...50...60...70...80...90...100 - done.\n",
      "0...10...20...30...40...50...60...70...80...90...100 - done.\n",
      "0...10...20...30...40...50...60...70...80...90...100 - done.\n",
      "0...10...20...30...40...50...60...70...80...90... -- Reading /Users/cmarshak/bekaert-team/dswx-sar-workflow-pst/out/S1A_IW_SLC__1SDV_20240108T232450_20240108T232517_052022_06495E_2EAD/scratch/fuzzy_image_VV_VH.tif ... (8347, 9766)\n",
      " -- Reading /Users/cmarshak/bekaert-team/dswx-sar-workflow-pst/out/S1A_IW_SLC__1SDV_20240108T232450_20240108T232517_052022_06495E_2EAD/scratch/temp_region_growing_VV_VH.tif ... (8347, 9766)\n",
      "Saving dswx product : /Users/cmarshak/bekaert-team/dswx-sar-workflow-pst/out/S1A_IW_SLC__1SDV_20240108T232450_20240108T232517_052022_06495E_2EAD/scratch/region_growing_output_binary_VV_VH.tif \n",
      "100 - done.\n",
      "0...10...20...30...40...50...60...70...80...90.. -- Reading /Users/cmarshak/bekaert-team/dswx-sar-workflow-pst/out/S1A_IW_SLC__1SDV_20240108T232450_20240108T232517_052022_06495E_2EAD/scratch/region_growing_output_binary_VV_VH.tif ... (8347, 9766)\n",
      " -- Reading /Users/cmarshak/bekaert-team/dswx-sar-workflow-pst/out/S1A_IW_SLC__1SDV_20240108T232450_20240108T232517_052022_06495E_2EAD/scratch/interpolated_wbd.tif ... (8347, 9766)\n",
      " -- Reading /Users/cmarshak/bekaert-team/dswx-sar-workflow-pst/out/S1A_IW_SLC__1SDV_20240108T232450_20240108T232517_052022_06495E_2EAD/scratch/interpolated_landcover.tif ... (8347, 9766)\n",
      " -- Reading /Users/cmarshak/bekaert-team/dswx-sar-workflow-pst/out/S1A_IW_SLC__1SDV_20240108T232450_20240108T232517_052022_06495E_2EAD/scratch/interpolated_landcover.tif ... (8347, 9766)\n",
      "Saving dswx product : /Users/cmarshak/bekaert-team/dswx-sar-workflow-pst/out/S1A_IW_SLC__1SDV_20240108T232450_20240108T232517_052022_06495E_2EAD/scratch/landcover_excluded_rg.tif \n",
      ".100 - done.\n",
      "0...10...20...30...40...50...60...70...80...90..Saving dswx product : /Users/cmarshak/bekaert-team/dswx-sar-workflow-pst/out/S1A_IW_SLC__1SDV_20240108T232450_20240108T232517_052022_06495E_2EAD/scratch/landcover_target.tif \n",
      ".100 - done.\n",
      "0...10...20...30...40...50...60...70...80...90...100 - done.\n",
      "0...10...20...30...40...50...60...70...80...90...100 - done.\n",
      "0...10...20...30...40...50...60...70...80...90...100 - done.\n",
      "0...10...20...30...40...50...60...70...80...90...100 - done.\n",
      "0...10...20...30...40...50...60...70...80...90...100 - done.\n",
      "0...10...20...30...40...50...60...70...80...90... -- Reading /Users/cmarshak/bekaert-team/dswx-sar-workflow-pst/out/S1A_IW_SLC__1SDV_20240108T232450_20240108T232517_052022_06495E_2EAD/scratch/landcover_target_candidate.tif ... (8347, 9766)\n",
      " -- Reading /Users/cmarshak/bekaert-team/dswx-sar-workflow-pst/out/S1A_IW_SLC__1SDV_20240108T232450_20240108T232517_052022_06495E_2EAD/scratch/landcover_temp_transition.tif ... (8347, 9766)\n",
      "Saving dswx product : /Users/cmarshak/bekaert-team/dswx-sar-workflow-pst/out/S1A_IW_SLC__1SDV_20240108T232450_20240108T232517_052022_06495E_2EAD/scratch/mask_excluded_landcover_ancillary.tif \n",
      "100 - done.\n",
      "0...10...20...30...40...50...60...70...80...90..Saving dswx product : /Users/cmarshak/bekaert-team/dswx-sar-workflow-pst/out/S1A_IW_SLC__1SDV_20240108T232450_20240108T232517_052022_06495E_2EAD/scratch/input_image_test.tif \n",
      ".100 - done.\n",
      "0...10...20...30...40...50...60...70...80...90.. -- Reading /Users/cmarshak/bekaert-team/dswx-sar-workflow-pst/out/S1A_IW_SLC__1SDV_20240108T232450_20240108T232517_052022_06495E_2EAD/scratch/input_image_test.tif ... (8347, 9766)\n",
      ".100 - done.\n",
      "0...10...20...30...40...50...60...70...80...90...Saving dswx product : /Users/cmarshak/bekaert-team/dswx-sar-workflow-pst/out/S1A_IW_SLC__1SDV_20240108T232450_20240108T232517_052022_06495E_2EAD/scratch/split_mask_water_masking.tif \n",
      "100 - done.\n",
      "0...10...20...30...40...50...60...70...80...90...100 - done.\n",
      "0...10...20...30...40...50...60...70...80...90.. -- Reading /Users/cmarshak/bekaert-team/dswx-sar-workflow-pst/out/S1A_IW_SLC__1SDV_20240108T232450_20240108T232517_052022_06495E_2EAD/scratch/intermediate_false_water_candidate.tif ... (8347, 9766)\n",
      ".100 - done.\n",
      "0...10...20...30...40...50...60...70...80...90...Saving dswx product : /Users/cmarshak/bekaert-team/dswx-sar-workflow-pst/out/S1A_IW_SLC__1SDV_20240108T232450_20240108T232517_052022_06495E_2EAD/scratch/false_positive_connected_water.tif \n",
      "100 - done.\n",
      "0...10...20...30...40...50...60...70...80...90...100 - done.\n",
      "0...10...20...30...40...50...60...70...80...90.. -- Reading /Users/cmarshak/bekaert-team/dswx-sar-workflow-pst/out/S1A_IW_SLC__1SDV_20240108T232450_20240108T232517_052022_06495E_2EAD/scratch/masking_ancillary_darkland_removed.tif ... (8347, 9766)\n",
      "Saving dswx product : /Users/cmarshak/bekaert-team/dswx-sar-workflow-pst/out/S1A_IW_SLC__1SDV_20240108T232450_20240108T232517_052022_06495E_2EAD/scratch/refine_landcover_binary_VV_VH.tif \n",
      ".100 - done.\n",
      "0...10...20...30...40...50...60...70...80...90.. -- Reading /Users/cmarshak/bekaert-team/dswx-sar-workflow-pst/out/S1A_IW_SLC__1SDV_20240108T232450_20240108T232517_052022_06495E_2EAD/scratch/refine_landcover_binary_VV_VH.tif ... (8347, 9766)\n",
      " -- Reading /Users/cmarshak/bekaert-team/dswx-sar-workflow-pst/out/S1A_IW_SLC__1SDV_20240108T232450_20240108T232517_052022_06495E_2EAD/scratch/interpolated_landcover.tif ... (8347, 9766)\n",
      ".100 - done.\n",
      "0...10...20...30...40...50...60...70...80...90...100 - done.\n",
      "0...10...20...30...40...50...60...70...80...90...100 - done.\n",
      "0...10...20...30...40...50...60...70...80...90...100 - done.\n",
      "0...10...20...30...40...50...60...70...80...90...100 - done.\n",
      "0...10...20...30...40...50...60...70...80...90...100 - done.\n",
      "0...10...20...30...40...50...60...70...80...90...100 - done.\n",
      "0...10...20...30...40...50...60...70...80...90...100 - done.\n",
      "0...10...20...30...40...50...60...70...80...90.. -- Reading /Users/cmarshak/bekaert-team/dswx-sar-workflow-pst/out/S1A_IW_SLC__1SDV_20240108T232450_20240108T232517_052022_06495E_2EAD/scratch/merged_removed_false_water_VV.tif ... (8347, 9766)\n",
      "Saving dswx product : /Users/cmarshak/bekaert-team/dswx-sar-workflow-pst/out/S1A_IW_SLC__1SDV_20240108T232450_20240108T232517_052022_06495E_2EAD/scratch/bimodality_bright_water_VV_VH.tif \n",
      ".100 - done.\n",
      "0...10...20...30...40...50...60...70...80...90...100 - done.\n",
      "0...10...20...30...40...50...60...70...80...90...100 - done.\n",
      "0...10...20...30...40...50...60...70...80...90...100 - done.\n",
      "0...10...20...30...40...50...60...70...80...90...100 - done.\n",
      "0...10...20...30...40...50...60...70...80...90...100 - done.\n",
      "0...10...20...30...40...50...60...70...80...90...100 - done.\n",
      "0...10...20...30...40...50...60...70...80...90...100 - done.\n",
      "0...10...20...30...40...50...60...70...80...90.. -- Reading /Users/cmarshak/bekaert-team/dswx-sar-workflow-pst/out/S1A_IW_SLC__1SDV_20240108T232450_20240108T232517_052022_06495E_2EAD/scratch/merged_fill_gap_VV_VH.tif ... (8347, 9766)\n",
      "Saving dswx product : /Users/cmarshak/bekaert-team/dswx-sar-workflow-pst/out/S1A_IW_SLC__1SDV_20240108T232450_20240108T232517_052022_06495E_2EAD/scratch/bimodality_output_binary_VV_VH.tif \n",
      ".100 - done.\n",
      "0...10...20...30...40...50...60...70...80...90..>> lee_enhanced_filter\n",
      ">> lee_enhanced_filter\n",
      ">> lee_enhanced_filter\n",
      ">> lee_enhanced_filter\n",
      ">> lee_enhanced_filter\n",
      ">> lee_enhanced_filter\n",
      ">> lee_enhanced_filter\n",
      ">> lee_enhanced_filter\n",
      ">> lee_enhanced_filter\n",
      ">> lee_enhanced_filter\n",
      ">> lee_enhanced_filter\n",
      ">> lee_enhanced_filter\n",
      ">> lee_enhanced_filter\n",
      ">> lee_enhanced_filter\n",
      ">> lee_enhanced_filter\n",
      ">> lee_enhanced_filter\n",
      ">> lee_enhanced_filter\n",
      ">> lee_enhanced_filter\n",
      ">> lee_enhanced_filter\n",
      ">> lee_enhanced_filter\n",
      ">> lee_enhanced_filter\n",
      ">> lee_enhanced_filter\n",
      ">> lee_enhanced_filter\n",
      ">> lee_enhanced_filter\n",
      ">> lee_enhanced_filter\n",
      ">> lee_enhanced_filter\n",
      ">> lee_enhanced_filter\n",
      ">> lee_enhanced_filter\n",
      ".100 - done.\n",
      "0...10...20...30...40...50...60...70...80...90...100 - done.\n",
      "0...10...20...30...40...50...60...70...80...90..."
     ]
    },
    {
     "name": "stderr",
     "output_type": "stream",
     "text": [
      "WARNING: product version was not provided.\n",
      "WARNING: Either the MGRS tile or the MGRS collection database was not provided.\n"
     ]
    },
    {
     "name": "stdout",
     "output_type": "stream",
     "text": [
      " -- Reading /Users/cmarshak/bekaert-team/dswx-sar-workflow-pst/out/S1A_IW_SLC__1SDV_20240108T232450_20240108T232517_052022_06495E_2EAD/scratch/bimodality_output_binary_VV_VH.tif ... (8347, 9766)\n",
      " -- Reading /Users/cmarshak/bekaert-team/dswx-sar-workflow-pst/out/S1A_IW_SLC__1SDV_20240108T232450_20240108T232517_052022_06495E_2EAD/scratch/no_data_area_VV_VH.tif ... (8347, 9766)\n",
      " -- Reading /Users/cmarshak/bekaert-team/dswx-sar-workflow-pst/out/S1A_IW_SLC__1SDV_20240108T232450_20240108T232517_052022_06495E_2EAD/scratch/mosaic_layovershadow_mask.tif ... (8347, 9766)\n",
      " -- Reading /Users/cmarshak/bekaert-team/dswx-sar-workflow-pst/out/S1A_IW_SLC__1SDV_20240108T232450_20240108T232517_052022_06495E_2EAD/scratch/interpolated_hand.tif ... (8347, 9766)\n",
      " -- Reading /Users/cmarshak/bekaert-team/dswx-sar-workflow-pst/out/S1A_IW_SLC__1SDV_20240108T232450_20240108T232517_052022_06495E_2EAD/scratch/temp_inundated_vegetation_VV_VH.tif ... (8347, 9766)\n",
      " -- Reading /Users/cmarshak/bekaert-team/dswx-sar-workflow-pst/out/S1A_IW_SLC__1SDV_20240108T232450_20240108T232517_052022_06495E_2EAD/scratch/region_growing_output_binary_VV_VH.tif ... (8347, 9766)\n",
      " -- Reading /Users/cmarshak/bekaert-team/dswx-sar-workflow-pst/out/S1A_IW_SLC__1SDV_20240108T232450_20240108T232517_052022_06495E_2EAD/scratch/refine_landcover_binary_VV_VH.tif ... (8347, 9766)\n",
      "100 - done.\n",
      "0...10...20...30...40...50...60...70...80...90...100 - done.\n",
      "0...10...20...30...40...50...60...70...80...90...100 - done.\n",
      "0...10...20...30...40...50...60...70...80...90.. -- Reading /Users/cmarshak/bekaert-team/dswx-sar-workflow-pst/out/S1A_IW_SLC__1SDV_20240108T232450_20240108T232517_052022_06495E_2EAD/scratch/fuzzy_image_VV_VH.tif ... (8347, 9766)\n",
      ".100 - done.\n",
      "0...10...20...30...40...50...60...70...80...90...100 - done.\n",
      "0...10...20...30...40...50...60...70...80...90...100 - done.\n",
      "0...10...20...30...40...50...60...70...80...90...100 - done.\n",
      "0...10...20...30...40...50...60...70...80...90...100 - done.\n",
      "0...10...20...30...40...50...60...70...80...90...100 - done.\n",
      "0...10...20...30...40...50...60...70...80...90...100 - done.\n",
      "0...10...20...30...40...50...60...70...80...90...100 - done.\n",
      "0...10...20...30...40...50...60...70...80...90...100 - done.\n",
      "0...10...20...30...40...50...60...70...80...90...100 - done.\n",
      "0...10...20...30...40...50.."
     ]
    },
    {
     "name": "stderr",
     "output_type": "stream",
     "text": [
      "fail to find the overlapped rtc\n"
     ]
    },
    {
     "name": "stdout",
     "output_type": "stream",
     "text": [
      ".60...70...80...90...100 - done.\n",
      "0...10...20...30...40...50.."
     ]
    },
    {
     "name": "stderr",
     "output_type": "stream",
     "text": [
      "fail to find the overlapped rtc\n"
     ]
    },
    {
     "name": "stdout",
     "output_type": "stream",
     "text": [
      ".60...70...80...90...100 - done.\n",
      "0...10...20...30...40...50...60...70...80...90...100 - done.\n",
      "0...10...20...30...40...50...60...70...80...90...100 - done.\n",
      "0...10...20...30...40...50...60...70...80...90...100 - done.\n",
      "0...10...20...30...40...50...60...70...80...90...100 - done.\n",
      "0...10...20...30...40...50...60...70...80...90...100 - done.\n",
      "0...10...20...30...40...50...60...70...80...90...100 - done.\n",
      "0...10...20...30...40...50...60...70...80...90...100 - done.\n",
      "0...10...20...30...40...50...60...70...80...90...100 - done.\n",
      "0...10...20...30...40...50...60...70...80...90...100 - done.\n",
      "0...10...20...30...40...50...60...70...80...90...100 - done.\n",
      "0...10...20...30...40...50...60...70...80...90...100 - done.\n",
      "0...10...20...30...40...50...60...70...80...90...100 - done.\n",
      "0...10...20...30...40...50...60...70...80...90...100 - done.\n",
      "0...10...20...30...40...50...60...70...80...90...100 - done.\n",
      "0...10...20...30...40...50...60...70...80...90...100 - done.\n",
      "0...10...20...30...40...50...60...70...80...90...100 - done.\n",
      "0...10...20...30...40...50...60...70...80...90...100 - done.\n",
      "0...10...20...30...40...50...60...70...80...90...100 - done.\n",
      "0...10...20...30...40...50...60...70...80...90...100 - done.\n",
      "0...10...20...30...40...50...60...70...80...90...100 - done.\n",
      "0...10...20...30...40...50...60...70...80...90...100 - done.\n",
      "0...10...20...30...40...50...60...70...80...90...100 - done.\n",
      "0...10...20...30...40...50...60...70...80...90...100 - done.\n",
      "0...10...20...30...40...50...60...70...80...90...100 - done.\n",
      "0...10...20...30...40...50...60...70...80...90...100 - done.\n",
      "0...10...20...30...40...50...60...70...80...90...100 - done.\n",
      "0...10...20...30...40...50...60...70...80...90...100 - done.\n",
      "0...10...20...30...40...50...60...70...80...90...100 - done.\n",
      "0...10...20...30...40...50...60...70...80...90...100 - done.\n",
      "0...10...20...30...40...50...60...70...80...90...100 - done.\n",
      "0...10...20...30...40...50...60...70...80...90...100 - done.\n",
      "0...10...20...30...40...50...60...70...80...90...100 - done.\n",
      "0...10...20...30...40...50...60...70...80...90...100 - done.\n",
      "0...10...20...30...40...50...60...70...80...90...100 - done.\n",
      "0...10...20...30...40...50...60...70...80...90...100 - done.\n",
      "0...10...20...30...40...50...60...70...80...90...100 - done.\n",
      "0...10...20...30...40...50...60...70...80...90...100 - done.\n",
      "0...10...20...30...40...50...60...70...80...90...100 - done.\n",
      "0...10...20...30...40...50...60...70...80...90...100 - done.\n",
      "0...10...20...30...40...50.."
     ]
    },
    {
     "name": "stderr",
     "output_type": "stream",
     "text": [
      "fail to find the overlapped rtc\n"
     ]
    },
    {
     "name": "stdout",
     "output_type": "stream",
     "text": [
      ".60...70...80...90...100 - done.\n",
      "0...10...20...30...40...50...60...70...80...90...100 - done.\n",
      "0...10...20...30...40...50...60...70...80...90...100 - done.\n",
      "0...10...20...30...40...50...60...70...80...90...100 - done.\n",
      "0...10...20...30...40...50...60...70...80...90...100 - done.\n",
      "0...10...20...30...40...50...60...70...80...90...100 - done.\n",
      "0...10...20...30...40...50...60...70...80...90...100 - done.\n",
      "0...10...20...30...40...50...60...70...80...90...100 - done.\n",
      "0...10...20...30...40...50...60...70...80...90...100 - done.\n",
      "0...10...20...30...40...50...60...70...80...90...100 - done.\n",
      "0...10...20...30...40...50...60...70...80...90...100 - done.\n",
      "0...10...20...30...40...50...60...70...80...90...100 - done.\n",
      "0...10...20...30...40...50...60...70...80...90...100 - done.\n",
      "0...10...20...30...40...50...60...70...80...90...100 - done.\n",
      "0...10...20...30...40...50...60...70...80...90...100 - done.\n",
      "0...10...20...30...40...50...60...70...80...90...100 - done.\n",
      "0...10...20...30...40...50...60...70...80...90...100 - done.\n",
      "0...10...20...30...40...50...60...70...80...90...100 - done.\n",
      "0...10...20...30...40...50...60...70...80...90...100 - done.\n",
      "0...10...20...30...40...50...60...70...80...90...100 - done.\n",
      "0...10...20...30...40...50...60...70...80...90...100 - done.\n",
      "0...10...20...30...40...50...60...70...80...90...100 - done.\n",
      "0...10...20...30...40...50...60...70...80...90...100 - done.\n",
      "0...10...20...30...40...50...60...70...80...90...100 - done.\n",
      "0...10...20...30...40...50...60...70...80...90...100 - done.\n",
      "0...10...20...30...40...50...60...70...80...90...100 - done.\n",
      "0...10...20...30...40...50...60...70...80...90...100 - done.\n",
      "0...10...20...30...40...50...60...70...80...90...100 - done.\n",
      "0...10...20...30...40...50...60...70...80...90...100 - done.\n",
      "0...10...20...30...40...50...60...70...80...90...100 - done.\n",
      "0...10...20...30...40...50.."
     ]
    },
    {
     "name": "stderr",
     "output_type": "stream",
     "text": [
      "fail to find the overlapped rtc\n"
     ]
    }
   ],
   "source": [
    "dswx_s1_workflow(cfg)"
   ]
  }
 ],
 "metadata": {
  "kernelspec": {
   "display_name": "dswx_s1",
   "language": "python",
   "name": "dswx_s1"
  },
  "language_info": {
   "codemirror_mode": {
    "name": "ipython",
    "version": 3
   },
   "file_extension": ".py",
   "mimetype": "text/x-python",
   "name": "python",
   "nbconvert_exporter": "python",
   "pygments_lexer": "ipython3",
   "version": "3.11.7"
  }
 },
 "nbformat": 4,
 "nbformat_minor": 5
}

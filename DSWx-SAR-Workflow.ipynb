{
 "cells": [
  {
   "cell_type": "markdown",
   "id": "a99262e7-6309-4b66-9783-fda50ceaa892",
   "metadata": {},
   "source": [
    "The purpose of this notebook is to:\n",
    "\n",
    "1. Localize all the necessary data to run DSWx-SAR\n",
    "2. Create a `yaml` file (proverbially called a RunConfig) for DSWx-SAR\n",
    "3. Run DSWx-SAR\n",
    "4. View the final products\n",
    "\n",
    "Most of the code is focused on 1. There are some small todos:\n",
    "\n",
    "+ Provide an option to serialize data (since re-localizing data takes time and all we need is path)\n",
    "+ Possibly replace SLC_ID look up in HySDS PST DB with a look up in a table so users don't have to be on PST."
   ]
  },
  {
   "cell_type": "code",
   "execution_count": 1,
   "id": "27145d1a-3179-4e53-a245-0f1692c4e1d2",
   "metadata": {},
   "outputs": [],
   "source": [
    "%load_ext autoreload\n",
    "%autoreload 2"
   ]
  },
  {
   "cell_type": "code",
   "execution_count": 2,
   "id": "634938b0-3dc5-4876-a1ee-055fd25239bc",
   "metadata": {},
   "outputs": [
    {
     "name": "stderr",
     "output_type": "stream",
     "text": [
      "OMP: Info #276: omp_set_nested routine deprecated, please use omp_set_max_active_levels instead.\n"
     ]
    }
   ],
   "source": [
    "import asf_search as asf\n",
    "import geopandas as gpd\n",
    "import pandas as pd\n",
    "import rasterio\n",
    "from shapely.geometry import shape\n",
    "from rasterio.crs import CRS\n",
    "from pathlib import Path\n",
    "from dem_stitcher import stitch_dem\n",
    "from hand import compute_hand\n",
    "from tile_stitcher import get_raster_from_tiles\n",
    "from es_db import get_search_client, get_rtc_urls, download_rtc_products\n",
    "from dataclasses import dataclass\n",
    "from tempfile import NamedTemporaryFile"
   ]
  },
  {
   "cell_type": "code",
   "execution_count": 3,
   "id": "bb78e0ab-b7bd-46c9-adf2-03a9d1fd9be1",
   "metadata": {},
   "outputs": [],
   "source": [
    "import concurrent.futures\n",
    "from functools import lru_cache\n",
    "from pathlib import Path\n",
    "\n",
    "import requests\n",
    "import urllib3\n",
    "from dotenv import dotenv_values\n",
    "from elasticsearch import Elasticsearch, RequestsHttpConnection\n",
    "from elasticsearch_dsl import Q, Search\n",
    "from tqdm import tqdm\n",
    "\n",
    "urllib3.disable_warnings()"
   ]
  },
  {
   "cell_type": "code",
   "execution_count": 4,
   "id": "55c28069-cdbc-4040-a2a7-ff80a8b7acdb",
   "metadata": {},
   "outputs": [],
   "source": [
    "slc_id = 'S1B_IW_SLC__1SDV_20211212T002818_20211212T002836_029985_03946A_6D2A'"
   ]
  },
  {
   "cell_type": "markdown",
   "id": "4854fc8d-20ff-420b-9567-cd8052d7001b",
   "metadata": {},
   "source": [
    "# Parameters"
   ]
  },
  {
   "cell_type": "code",
   "execution_count": 5,
   "id": "470f0a25-8a05-4464-b822-4d09e1b2df9f",
   "metadata": {},
   "outputs": [],
   "source": [
    "SLC_ID = 'S1B_IW_SLC__1SDV_20211212T002818_20211212T002836_029985_03946A_6D2A'"
   ]
  },
  {
   "cell_type": "markdown",
   "id": "6d6b1154-70fa-4a63-be01-b2eba2f3723c",
   "metadata": {},
   "source": [
    "# Out Directory"
   ]
  },
  {
   "cell_type": "code",
   "execution_count": 6,
   "id": "a09960f0-0928-4b32-8fda-fd505221fc59",
   "metadata": {},
   "outputs": [],
   "source": [
    "out_directory = Path('out') / SLC_ID\n",
    "out_directory.mkdir(exist_ok=True, parents=True)"
   ]
  },
  {
   "cell_type": "markdown",
   "id": "e474f3d0-9aab-4dee-a172-73470ba8dbb7",
   "metadata": {},
   "source": [
    "## Get SLC Metadata"
   ]
  },
  {
   "cell_type": "code",
   "execution_count": 7,
   "id": "c23e5fef-3087-4a82-96df-151893ffbd20",
   "metadata": {},
   "outputs": [
    {
     "data": {
      "text/html": [
       "<div>\n",
       "<style scoped>\n",
       "    .dataframe tbody tr th:only-of-type {\n",
       "        vertical-align: middle;\n",
       "    }\n",
       "\n",
       "    .dataframe tbody tr th {\n",
       "        vertical-align: top;\n",
       "    }\n",
       "\n",
       "    .dataframe thead th {\n",
       "        text-align: right;\n",
       "    }\n",
       "</style>\n",
       "<table border=\"1\" class=\"dataframe\">\n",
       "  <thead>\n",
       "    <tr style=\"text-align: right;\">\n",
       "      <th></th>\n",
       "      <th>geometry</th>\n",
       "    </tr>\n",
       "  </thead>\n",
       "  <tbody>\n",
       "    <tr>\n",
       "      <th>0</th>\n",
       "      <td>POLYGON ((-99.04952 37.27494, -98.77662 36.144...</td>\n",
       "    </tr>\n",
       "  </tbody>\n",
       "</table>\n",
       "</div>"
      ],
      "text/plain": [
       "                                            geometry\n",
       "0  POLYGON ((-99.04952 37.27494, -98.77662 36.144..."
      ]
     },
     "execution_count": 7,
     "metadata": {},
     "output_type": "execute_result"
    }
   ],
   "source": [
    "opts = asf.ASFSearchOptions(processingLevel=[asf.PRODUCT_TYPE.SLC],\n",
    "                            beamMode=[asf.BEAMMODE.IW],\n",
    "                            platform=[asf.PLATFORM.SENTINEL1]\n",
    "                            )\n",
    "\n",
    "resp = asf.granule_search([SLC_ID], opts=opts)\n",
    "geometry = [shape(r.geojson()['geometry']) for r in resp]\n",
    "df_slc = gpd.GeoDataFrame(geometry=geometry, crs=CRS.from_epsg(4326))\n",
    "df_slc.head()"
   ]
  },
  {
   "cell_type": "code",
   "execution_count": 8,
   "id": "b15fd642-32d6-490b-a1ea-df1ef4ffc131",
   "metadata": {},
   "outputs": [
    {
     "data": {
      "text/plain": [
       "<Axes: >"
      ]
     },
     "execution_count": 8,
     "metadata": {},
     "output_type": "execute_result"
    },
    {
     "data": {
      "image/png": "[encoded data removed]",
      "text/plain": [
       "<Figure size 640x480 with 1 Axes>"
      ]
     },
     "metadata": {},
     "output_type": "display_data"
    }
   ],
   "source": [
    "df_slc.plot()"
   ]
  },
  {
   "cell_type": "markdown",
   "id": "0db69962-1e48-4e83-b50f-0547904bb48f",
   "metadata": {},
   "source": [
    "# Auxiliary Datasets\n",
    "\n",
    "## DEM"
   ]
  },
  {
   "cell_type": "code",
   "execution_count": 9,
   "id": "1fc16d7a-fda3-49ad-a426-c590a72a70c1",
   "metadata": {},
   "outputs": [
    {
     "data": {
      "text/plain": [
       "[-99.049522, 36.144268, -96.012474, 37.669025]"
      ]
     },
     "execution_count": 9,
     "metadata": {},
     "output_type": "execute_result"
    }
   ],
   "source": [
    "bounds = list(df_slc.total_bounds)\n",
    "bounds"
   ]
  },
  {
   "cell_type": "code",
   "execution_count": null,
   "id": "123fcc58-0b5d-494f-82d9-30be7b487632",
   "metadata": {},
   "outputs": [
    {
     "name": "stderr",
     "output_type": "stream",
     "text": [
      "Reading glo_30 Datasets: 100%|██████████| 8/8 [00:14<00:00,  1.75s/it]\n"
     ]
    }
   ],
   "source": [
    "dst_area_or_point = 'Point'\n",
    "dem, p_dem = stitch_dem(bounds, \n",
    "                  'glo_30', \n",
    "                  dst_area_or_point=dst_area_or_point, \n",
    "                  dst_ellipsoidal_height=False)"
   ]
  },
  {
   "cell_type": "code",
   "execution_count": null,
   "id": "20c4c7be-64cd-4971-8ef8-e251e781e759",
   "metadata": {},
   "outputs": [],
   "source": [
    "dem_path = out_directory / 'glo30_dem.tif'"
   ]
  },
  {
   "cell_type": "code",
   "execution_count": null,
   "id": "e17c29c1-cd45-4b05-93d7-525a9684ce9a",
   "metadata": {},
   "outputs": [],
   "source": [
    "with rasterio.open(dem_path, 'w', **p_dem) as ds:\n",
    "   ds.write(dem, 1)\n",
    "   ds.update_tags(AREA_OR_POINT='Point')"
   ]
  },
  {
   "cell_type": "markdown",
   "id": "e8572031-8106-4de3-af09-b7a55473aa74",
   "metadata": {},
   "source": [
    "## HAND"
   ]
  },
  {
   "cell_type": "code",
   "execution_count": null,
   "id": "2103facf-2962-4927-a58b-546f888ec48c",
   "metadata": {},
   "outputs": [],
   "source": [
    "%%time\n",
    "\n",
    "hand = compute_hand(dem_path)"
   ]
  },
  {
   "cell_type": "code",
   "execution_count": null,
   "id": "ed337ad6-9884-4302-b800-9270c1274dfd",
   "metadata": {},
   "outputs": [],
   "source": [
    "hand_path = out_directory / f'hand.tif'"
   ]
  },
  {
   "cell_type": "code",
   "execution_count": null,
   "id": "f8444371-a853-4651-a957-5db55feaf8b2",
   "metadata": {},
   "outputs": [],
   "source": [
    "with rasterio.open(hand_path, 'w', **p_dem) as ds:\n",
    "    ds.write(hand, 1)"
   ]
  },
  {
   "cell_type": "markdown",
   "id": "4f2ccd5d-6be1-4e88-9385-ed89302c6fe9",
   "metadata": {},
   "source": [
    "## Pekel"
   ]
  },
  {
   "cell_type": "code",
   "execution_count": null,
   "id": "332caa3b-2731-4fa8-8423-1b51dd27393a",
   "metadata": {},
   "outputs": [],
   "source": [
    "X_occ, p_occ = get_raster_from_tiles(bounds, tile_shortname='peckel_water_occ_2021')"
   ]
  },
  {
   "cell_type": "code",
   "execution_count": null,
   "id": "d57f7c26-fde6-48cf-9937-2d6bc6e940f3",
   "metadata": {},
   "outputs": [],
   "source": [
    "occ_path = out_directory / 'pekel_occ.tif'"
   ]
  },
  {
   "cell_type": "code",
   "execution_count": null,
   "id": "d9d678fe-2bf2-4a74-ba43-7bdad97b9784",
   "metadata": {},
   "outputs": [],
   "source": [
    "with rasterio.open(occ_path, 'w', **p_occ) as ds:\n",
    "    ds.write(X_occ)"
   ]
  },
  {
   "cell_type": "markdown",
   "id": "6130c1f3-3e9b-4cf7-be68-b4aaf6d07e9c",
   "metadata": {},
   "source": [
    "## World Cover"
   ]
  },
  {
   "cell_type": "code",
   "execution_count": null,
   "id": "e0c11815-e910-4d66-9243-da9d323c5a47",
   "metadata": {},
   "outputs": [],
   "source": [
    "X_esa_wc, p_wc = get_raster_from_tiles(bounds, tile_shortname='esa_world_cover_2021')"
   ]
  },
  {
   "cell_type": "code",
   "execution_count": null,
   "id": "5e8af3e9-4600-4772-b62d-67c4a5c88cf6",
   "metadata": {},
   "outputs": [],
   "source": [
    "wc_path = out_directory / f'wc.tif'"
   ]
  },
  {
   "cell_type": "code",
   "execution_count": null,
   "id": "57fbb4ad-8dc1-465b-b27e-8d8373271dbf",
   "metadata": {},
   "outputs": [],
   "source": [
    "with rasterio.open(wc_path, 'w', **p_wc) as ds:\n",
    "    ds.write(X_esa_wc)"
   ]
  },
  {
   "cell_type": "code",
   "execution_count": null,
   "id": "eeba1a5b-ca55-49ad-a9a4-6c9a1a4cc873",
   "metadata": {},
   "outputs": [],
   "source": [
    "X_esa_wc.shape"
   ]
  },
  {
   "cell_type": "markdown",
   "id": "fe15ede2-ff5f-40ed-8a32-a09378239959",
   "metadata": {},
   "source": [
    "# Delete Above Rasters in Memory"
   ]
  },
  {
   "cell_type": "code",
   "execution_count": null,
   "id": "6690caaa-7913-4ddd-b31c-e43b15bcbaf6",
   "metadata": {},
   "outputs": [],
   "source": [
    "del X_esa_wc\n",
    "del dem\n",
    "del hand\n",
    "del X_occ"
   ]
  },
  {
   "cell_type": "markdown",
   "id": "52382afe-8952-4021-8747-5a52ab8d8ea5",
   "metadata": {},
   "source": [
    "# Download RTC Data\n",
    "\n",
    "Requires access to ES database and the `.env` file with JPL credentials."
   ]
  },
  {
   "cell_type": "code",
   "execution_count": null,
   "id": "315e7be0-9884-472e-995a-c0fd573b84a3",
   "metadata": {},
   "outputs": [],
   "source": [
    "rtc_product_directory = out_directory / 'rtc_products'\n",
    "rtc_product_directory.mkdir(exist_ok=True, parents=True)"
   ]
  },
  {
   "cell_type": "code",
   "execution_count": null,
   "id": "e32dc287-f144-45c4-b2b2-2e09a77cd93f",
   "metadata": {
    "scrolled": true
   },
   "outputs": [],
   "source": [
    "url_dict = get_rtc_urls(SLC_ID)"
   ]
  },
  {
   "cell_type": "code",
   "execution_count": null,
   "id": "7e800440-fdc6-425b-87f1-446b5e3c2141",
   "metadata": {
    "scrolled": true
   },
   "outputs": [],
   "source": [
    "out_paths = download_rtc_products(url_dict, rtc_product_directory)"
   ]
  },
  {
   "cell_type": "markdown",
   "id": "bbed0a41-3a76-4fc7-8886-2b3637c6415d",
   "metadata": {},
   "source": [
    "# Generate Yaml/Runconfig\n",
    "\n",
    "There are three general steps:\n",
    "\n",
    "1. Get the defaults/templates\n",
    "2. Populate the yml with our data\n",
    "3. Load the yml as a Runconfig object for the workflow.\n",
    "\n",
    "The way we figured this out was to keep going through the 3 steps and try running the RunConfig initialization `RunConfig.load_from_yaml`. Usually the loading tells the user what needs filling out on account of yaml validation."
   ]
  },
  {
   "cell_type": "code",
   "execution_count": null,
   "id": "abbccbbe-f75a-4774-a07f-05ae4bdfe5ad",
   "metadata": {},
   "outputs": [],
   "source": [
    "dswx_sar_pge_url = 'https://raw.githubusercontent.com/opera-adt/DSWX-SAR/main/src/dswx_sar/defaults/dswx_s1.yaml'\n",
    "dswx_sar_param_url = 'https://raw.githubusercontent.com/opera-adt/DSWX-SAR/main/src/dswx_sar/defaults/algorithm_parameter_s1.yaml'"
   ]
  },
  {
   "cell_type": "markdown",
   "id": "e8ed61f6-f4c5-4209-b284-d36834d9adb5",
   "metadata": {},
   "source": [
    "## Load default ymls from upstream repository"
   ]
  },
  {
   "cell_type": "code",
   "execution_count": null,
   "id": "245e088d-7caf-460e-be86-f3d2f0862007",
   "metadata": {},
   "outputs": [],
   "source": [
    "resp = requests.get(dswx_sar_pge_url)\n",
    "resp_param = requests.get(dswx_sar_param_url)"
   ]
  },
  {
   "cell_type": "code",
   "execution_count": null,
   "id": "ca64d64b-57b7-4d1e-a83e-da75d4391a92",
   "metadata": {},
   "outputs": [],
   "source": [
    "# param_dict = yaml.safe_load(resp_param.content)\n",
    "# param_dict"
   ]
  },
  {
   "cell_type": "code",
   "execution_count": null,
   "id": "75fe2887-c716-4059-93ce-9d6f268d4800",
   "metadata": {},
   "outputs": [],
   "source": [
    "input_dict = yaml.safe_load(resp.content)\n",
    "input_dict"
   ]
  },
  {
   "cell_type": "markdown",
   "id": "bc5c8c98-d716-4b01-a634-4a636dc19efd",
   "metadata": {},
   "source": [
    "## Injecting parameters in relevant yml"
   ]
  },
  {
   "cell_type": "code",
   "execution_count": null,
   "id": "1eaa956a-6aae-440e-ba55-3b8721fc2bdb",
   "metadata": {},
   "outputs": [],
   "source": [
    "rtc_paths = list(rtc_product_directory.glob('*/'))\n",
    "rtc_paths_str = list(map(str, rtc_paths))\n",
    "rtc_paths_str = list(map(lambda s: s + '/', rtc_paths_str))\n",
    "rtc_paths_str[:3]"
   ]
  },
  {
   "cell_type": "code",
   "execution_count": null,
   "id": "1a994349-12f7-459f-95f9-af409a963d45",
   "metadata": {},
   "outputs": [],
   "source": [
    "scratch_dir = (out_directory / 'scratch').resolve()\n",
    "sas_dir = (out_directory / 'scratch').resolve()\n",
    "product_dir = (out_directory / 'product_path').resolve()"
   ]
  },
  {
   "cell_type": "code",
   "execution_count": null,
   "id": "1d2e59fa-73e6-499a-a0d9-4ad8b24d6974",
   "metadata": {},
   "outputs": [],
   "source": [
    "input_dict['runconfig']['groups']['input_file_group']['input_file_path'] = rtc_paths_str\n",
    "input_dict['runconfig']['groups']['dynamic_ancillary_file_group']['dem_file']= str(dem_path.resolve())\n",
    "input_dict['runconfig']['groups']['dynamic_ancillary_file_group']['worldcover_file']= str(wc_path.resolve())\n",
    "input_dict['runconfig']['groups']['dynamic_ancillary_file_group']['hand_file']= str(hand_path.resolve())\n",
    "input_dict['runconfig']['groups']['dynamic_ancillary_file_group']['reference_water_file']= str(occ_path.resolve())\n",
    "input_dict['runconfig']['groups']['product_path_group']['scratch_path'] = str(scratch_dir)\n",
    "input_dict['runconfig']['groups']['product_path_group']['sas_output_path'] = str(sas_dir)\n",
    "input_dict['runconfig']['groups']['product_path_group']['product_path'] = str(product_dir)\n",
    "\n",
    "input_dict['runconfig']['groups']['primary_executable']['product_type'] = 'dswx_s1'\n",
    "input_dict['runconfig']['groups']['dynamic_ancillary_file_group']['algorithm_parameters'] = 'params.yml'\n",
    "input_dict['runconfig']['groups']['static_ancillary_file_group']['static_ancillary_inputs_flag'] = False"
   ]
  },
  {
   "cell_type": "markdown",
   "id": "ad85b0b8-86c9-4e37-9809-cbfc63b3412e",
   "metadata": {},
   "source": [
    "Make sure empty string rather than `None` is populated in yml."
   ]
  },
  {
   "cell_type": "code",
   "execution_count": null,
   "id": "e789dc07-20f9-4f08-bae4-07e31686f380",
   "metadata": {},
   "outputs": [],
   "source": [
    "# See: https://stackoverflow.com/a/41786451\n",
    "def represent_none(self, _):\n",
    "    return self.represent_scalar('tag:yaml.org,2002:null', '')\n",
    "\n",
    "yaml.add_representer(type(None), represent_none)"
   ]
  },
  {
   "cell_type": "code",
   "execution_count": null,
   "id": "77fdc0d8-f4d7-4e13-a3f9-065afc0ad5a0",
   "metadata": {},
   "outputs": [],
   "source": [
    "log_path = str(out_directory/f'{SLC_ID}.log')\n",
    "\n",
    "@dataclass\n",
    "class Args:\n",
    "    \"\"\"placeholder\"\"\"\n",
    "    debug_mode = False\n",
    "    log_file = log_path"
   ]
  },
  {
   "cell_type": "code",
   "execution_count": null,
   "id": "eba5f4f4-cc8e-4177-a41e-2f31d2dbbb69",
   "metadata": {},
   "outputs": [],
   "source": [
    "args = Args()"
   ]
  },
  {
   "cell_type": "markdown",
   "id": "669aeddf-9ef7-44c1-b72e-7711c7ee66da",
   "metadata": {},
   "source": [
    "If it fails, can inspect temporary file before deleted."
   ]
  },
  {
   "cell_type": "code",
   "execution_count": null,
   "id": "e96f29f4-a1b4-403b-802d-4fc230bd74ba",
   "metadata": {},
   "outputs": [],
   "source": [
    "with NamedTemporaryFile(mode='w', suffix='.yml', dir='.') as run_config_yaml:\n",
    "    yaml.dump(input_dict, run_config_yaml)\n",
    "    cfg = RunConfig.load_from_yaml(run_config_yaml.name, 'dswx_s1', args)"
   ]
  },
  {
   "cell_type": "markdown",
   "id": "be504037-3167-4f81-9b81-d900b960b75f",
   "metadata": {},
   "source": [
    "# Run Workflow"
   ]
  },
  {
   "cell_type": "code",
   "execution_count": null,
   "id": "34798675-c400-423c-a23f-602a8f24b9db",
   "metadata": {},
   "outputs": [],
   "source": [
    "from dswx_sar.dswx_s1 import dswx_s1_workflow\n",
    "\n",
    "dswx_s1_workflow(cfg)"
   ]
  }
 ],
 "metadata": {
  "kernelspec": {
   "display_name": "dswx_val",
   "language": "python",
   "name": "dswx_val"
  },
  "language_info": {
   "codemirror_mode": {
    "name": "ipython",
    "version": 3
   },
   "file_extension": ".py",
   "mimetype": "text/x-python",
   "name": "python",
   "nbconvert_exporter": "python",
   "pygments_lexer": "ipython3",
   "version": "3.11.6"
  }
 },
 "nbformat": 4,
 "nbformat_minor": 5
}
